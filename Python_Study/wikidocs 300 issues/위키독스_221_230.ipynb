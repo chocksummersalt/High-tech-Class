{
  "nbformat": 4,
  "nbformat_minor": 0,
  "metadata": {
    "colab": {
      "provenance": [],
      "authorship_tag": "ABX9TyOjckcKae2O2TJGYF905odm",
      "include_colab_link": true
    },
    "kernelspec": {
      "name": "python3",
      "display_name": "Python 3"
    },
    "language_info": {
      "name": "python"
    }
  },
  "cells": [
    {
      "cell_type": "markdown",
      "metadata": {
        "id": "view-in-github",
        "colab_type": "text"
      },
      "source": [
        "<a href=\"https://colab.research.google.com/github/chocksummersalt/python/blob/main/%EC%9C%84%ED%82%A4%EB%8F%85%EC%8A%A4_221_230.ipynb\" target=\"_parent\"><img src=\"https://colab.research.google.com/assets/colab-badge.svg\" alt=\"Open In Colab\"/></a>"
      ]
    },
    {
      "cell_type": "code",
      "source": [
        "#221 입력된 문자열을 역순으로 출력하는 함수를 정의하라\n",
        "def print_reverse(string) :\n",
        "    print(string[::-1])\n",
        "print_reverse(\"뭘넣을까\")"
      ],
      "metadata": {
        "colab": {
          "base_uri": "https://localhost:8080/"
        },
        "id": "9uMPu0xzMylH",
        "outputId": "ad7c9105-97ce-427a-f048-eb67c14b9be8"
      },
      "execution_count": null,
      "outputs": [
        {
          "output_type": "stream",
          "name": "stdout",
          "text": [
            "까을넣뭘\n"
          ]
        }
      ]
    },
    {
      "cell_type": "code",
      "source": [
        "#222 성적 리스트를 입력 받아 평균을 출력하는 print_score 함수를 정의하라.\n",
        "def avg(a, b, c, d):\n",
        "    print((a+b+c+d)/4)\n",
        "avg(10,20,30,40)"
      ],
      "metadata": {
        "colab": {
          "base_uri": "https://localhost:8080/"
        },
        "id": "4MQmXD99MyK4",
        "outputId": "7238e05b-48b5-4ee6-c3c1-047eb1a2081d"
      },
      "execution_count": null,
      "outputs": [
        {
          "output_type": "stream",
          "name": "stdout",
          "text": [
            "25.0\n"
          ]
        }
      ]
    },
    {
      "cell_type": "code",
      "source": [
        "#223 하나의 리스트를 입력받아 짝수만 화면에 출력하는 print_even 함수를 정의하라.\n",
        "\n",
        "def even (my_list):\n",
        "    for v in my_list:\n",
        "        if v%2==0:\n",
        "            print(v)\n",
        "\n",
        "\n",
        "even([1,2,3,4,5,6,7,8])\n",
        "\n",
        "\n"
      ],
      "metadata": {
        "id": "y6_Ph3sKMxlY",
        "colab": {
          "base_uri": "https://localhost:8080/"
        },
        "outputId": "b279345d-e74f-4626-8fe0-8403f7e88fac"
      },
      "execution_count": null,
      "outputs": [
        {
          "output_type": "stream",
          "name": "stdout",
          "text": [
            "2\n",
            "4\n",
            "6\n",
            "8\n"
          ]
        }
      ]
    },
    {
      "cell_type": "code",
      "source": [
        "#224 하나의 딕셔너리를 입력받아 딕셔너리의 key 값을 화면에 출력하는 print_keys 함수를 정의하라.\n",
        "def dictkey (my_dict):\n",
        "    a= my_dict.keys()\n",
        "    print(a)\n",
        "dictkey({\"zl\":1,\"dl\":2,\"lf\":151})"
      ],
      "metadata": {
        "id": "1jX3mD9LMxIo",
        "colab": {
          "base_uri": "https://localhost:8080/"
        },
        "outputId": "105db278-2309-4c9f-e62d-f381aff7d517"
      },
      "execution_count": null,
      "outputs": [
        {
          "output_type": "stream",
          "name": "stdout",
          "text": [
            "dict_keys(['zl', 'dl', 'lf'])\n"
          ]
        }
      ]
    },
    {
      "cell_type": "code",
      "source": [
        "#225 my_dict와 날짜 키값을 입력받아 OHLC 리스트를 출력하는 함수를 정의하라.\n",
        "my_di={\"10/26\" : [100,130,100,100], \"10/27\" : [10,20,10,11]}\n",
        "def print_value_key (my_di, key) :\n",
        "    print(my_di[key])\n",
        "print_value_key(my_di, \"10/26\")"
      ],
      "metadata": {
        "id": "ubQUyKptMwo-",
        "colab": {
          "base_uri": "https://localhost:8080/"
        },
        "outputId": "651baa9c-8ac9-4c8e-f46a-3f66ef0cbe20"
      },
      "execution_count": null,
      "outputs": [
        {
          "output_type": "stream",
          "name": "stdout",
          "text": [
            "[100, 130, 100, 100]\n"
          ]
        }
      ]
    },
    {
      "cell_type": "code",
      "source": [
        "#226 입력 문자열을 한 줄에 다섯글자씩 출력하는 print_5xn(string) 함수를 작성하라.\n",
        "입력=\"아임어보이유알어걸\"\n",
        "def 입력문자열5 ():\n",
        "    for i in 입력\n",
        "    print(입력\"\\n\")"
      ],
      "metadata": {
        "id": "U36HbsSXMwMn"
      },
      "execution_count": null,
      "outputs": []
    },
    {
      "cell_type": "code",
      "source": [
        "#227 문자열과 한줄에 출력될 글자 수를 입력을 받아 한 줄에 입력된 글자 수만큼 출력하는 print_mxn(string) 함수를 작성하라."
      ],
      "metadata": {
        "id": "qr1-E6jRMvpZ"
      },
      "execution_count": null,
      "outputs": []
    },
    {
      "cell_type": "code",
      "source": [
        "#228 연봉을 입력받아 월급을 계산하는 calc_monthly_salary(annual_salary) 함수를 정의하라"
      ],
      "metadata": {
        "id": "0Uqpt_wCMu4n"
      },
      "execution_count": null,
      "outputs": []
    },
    {
      "cell_type": "code",
      "source": [
        "#229 코드의 실행 결과를 예측하라.\n",
        "def my_print (a, b) :\n",
        "    print(\"왼쪽:\", a)\n",
        "    print(\"오른쪽:\", b)\n",
        "\n",
        "my_print(a=100, b=200)"
      ],
      "metadata": {
        "id": "MHzSN2bbMuEg"
      },
      "execution_count": null,
      "outputs": []
    },
    {
      "cell_type": "code",
      "execution_count": null,
      "metadata": {
        "id": "9ULwgMvPMdbd",
        "colab": {
          "base_uri": "https://localhost:8080/"
        },
        "outputId": "78173b94-05d7-4ebd-e2fa-1d739b1be600"
      },
      "outputs": [
        {
          "output_type": "stream",
          "name": "stdout",
          "text": [
            "왼쪽: 200\n",
            "오른쪽: 100\n"
          ]
        }
      ],
      "source": [
        "#230 코드의 실행 결과를 예측하라.\n",
        "def my_print (a, b) :\n",
        "    print(\"왼쪽:\", a)\n",
        "    print(\"오른쪽:\", b)\n",
        "\n",
        "my_print(b=100, a=200)"
      ]
    }
  ]
}
