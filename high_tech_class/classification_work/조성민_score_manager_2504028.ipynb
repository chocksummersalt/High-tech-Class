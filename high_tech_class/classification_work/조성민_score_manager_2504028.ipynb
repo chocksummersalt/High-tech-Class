{
  "nbformat": 4,
  "nbformat_minor": 0,
  "metadata": {
    "colab": {
      "provenance": [],
      "authorship_tag": "ABX9TyNHOnJMpHKGXH3in7gvoPP4",
      "include_colab_link": true
    },
    "kernelspec": {
      "name": "python3",
      "display_name": "Python 3"
    },
    "language_info": {
      "name": "python"
    }
  },
  "cells": [
    {
      "cell_type": "markdown",
      "metadata": {
        "id": "view-in-github",
        "colab_type": "text"
      },
      "source": [
        "<a href=\"https://colab.research.google.com/github/chocksummersalt/python/blob/main/high_tech_class/classification_work/%EC%A1%B0%EC%84%B1%EB%AF%BC_score_manager_2504028.ipynb\" target=\"_parent\"><img src=\"https://colab.research.google.com/assets/colab-badge.svg\" alt=\"Open In Colab\"/></a>"
      ]
    },
    {
      "cell_type": "code",
      "execution_count": 11,
      "metadata": {
        "colab": {
          "base_uri": "https://localhost:8080/",
          "height": 490
        },
        "id": "-3pAwOa1evVZ",
        "outputId": "b0147891-c4f1-40f9-f1b4-573dcb1203eb"
      },
      "outputs": [
        {
          "metadata": {
            "tags": null
          },
          "name": "stdout",
          "output_type": "stream",
          "text": [
            "학생 정보 입력\n",
            "+ 1 + 학년 + 1 + 반\n",
            "+ 1 + 학년 + 2 + 반\n",
            "+ 1 + 학년 + 3 + 반\n",
            "+ 1 + 학년 + 4 + 반\n",
            "+ 1 + 학년 + 5 + 반\n",
            "+ 2 + 학년 + 1 + 반\n"
          ]
        },
        {
          "output_type": "error",
          "ename": "KeyboardInterrupt",
          "evalue": "Interrupted by user",
          "traceback": [
            "\u001b[0;31m---------------------------------------------------------------------------\u001b[0m",
            "\u001b[0;31mKeyboardInterrupt\u001b[0m                         Traceback (most recent call last)",
            "\u001b[0;32m<ipython-input-11-aa5c70d60146>\u001b[0m in \u001b[0;36m<cell line: 0>\u001b[0;34m()\u001b[0m\n\u001b[1;32m     13\u001b[0m         \u001b[0mprint\u001b[0m\u001b[0;34m(\u001b[0m\u001b[0;34mf\"+ {str(grade)} + 학년 + {str(class_no)} + 반\"\u001b[0m\u001b[0;34m)\u001b[0m\u001b[0;34m\u001b[0m\u001b[0;34m\u001b[0m\u001b[0m\n\u001b[1;32m     14\u001b[0m         \u001b[0;32mfor\u001b[0m \u001b[0mi\u001b[0m \u001b[0;32min\u001b[0m \u001b[0mrange\u001b[0m\u001b[0;34m(\u001b[0m\u001b[0;36m1\u001b[0m\u001b[0;34m,\u001b[0m \u001b[0;36m11\u001b[0m\u001b[0;34m)\u001b[0m\u001b[0;34m:\u001b[0m   \u001b[0;31m# 10명\u001b[0m\u001b[0;34m\u001b[0m\u001b[0;34m\u001b[0m\u001b[0m\n\u001b[0;32m---> 15\u001b[0;31m             \u001b[0mname\u001b[0m \u001b[0;34m=\u001b[0m \u001b[0minput\u001b[0m\u001b[0;34m(\u001b[0m\u001b[0mstr\u001b[0m\u001b[0;34m(\u001b[0m\u001b[0mi\u001b[0m\u001b[0;34m)\u001b[0m \u001b[0;34m+\u001b[0m \u001b[0;34m\"번째 학생 이름을 입력하세요: \"\u001b[0m\u001b[0;34m)\u001b[0m\u001b[0;34m\u001b[0m\u001b[0;34m\u001b[0m\u001b[0m\n\u001b[0m\u001b[1;32m     16\u001b[0m             \u001b[0;32mif\u001b[0m \u001b[0mname\u001b[0m \u001b[0;34m==\u001b[0m\u001b[0;34m\"끝\"\u001b[0m\u001b[0;34m:\u001b[0m\u001b[0;34m\u001b[0m\u001b[0;34m\u001b[0m\u001b[0m\n\u001b[1;32m     17\u001b[0m                 \u001b[0;32mbreak\u001b[0m\u001b[0;34m\u001b[0m\u001b[0;34m\u001b[0m\u001b[0m\n",
            "\u001b[0;32m/usr/local/lib/python3.11/dist-packages/ipykernel/kernelbase.py\u001b[0m in \u001b[0;36mraw_input\u001b[0;34m(self, prompt)\u001b[0m\n\u001b[1;32m   1175\u001b[0m                 \u001b[0;34m\"raw_input was called, but this frontend does not support input requests.\"\u001b[0m\u001b[0;34m\u001b[0m\u001b[0;34m\u001b[0m\u001b[0m\n\u001b[1;32m   1176\u001b[0m             )\n\u001b[0;32m-> 1177\u001b[0;31m         return self._input_request(\n\u001b[0m\u001b[1;32m   1178\u001b[0m             \u001b[0mstr\u001b[0m\u001b[0;34m(\u001b[0m\u001b[0mprompt\u001b[0m\u001b[0;34m)\u001b[0m\u001b[0;34m,\u001b[0m\u001b[0;34m\u001b[0m\u001b[0;34m\u001b[0m\u001b[0m\n\u001b[1;32m   1179\u001b[0m             \u001b[0mself\u001b[0m\u001b[0;34m.\u001b[0m\u001b[0m_parent_ident\u001b[0m\u001b[0;34m[\u001b[0m\u001b[0;34m\"shell\"\u001b[0m\u001b[0;34m]\u001b[0m\u001b[0;34m,\u001b[0m\u001b[0;34m\u001b[0m\u001b[0;34m\u001b[0m\u001b[0m\n",
            "\u001b[0;32m/usr/local/lib/python3.11/dist-packages/ipykernel/kernelbase.py\u001b[0m in \u001b[0;36m_input_request\u001b[0;34m(self, prompt, ident, parent, password)\u001b[0m\n\u001b[1;32m   1217\u001b[0m             \u001b[0;32mexcept\u001b[0m \u001b[0mKeyboardInterrupt\u001b[0m\u001b[0;34m:\u001b[0m\u001b[0;34m\u001b[0m\u001b[0;34m\u001b[0m\u001b[0m\n\u001b[1;32m   1218\u001b[0m                 \u001b[0;31m# re-raise KeyboardInterrupt, to truncate traceback\u001b[0m\u001b[0;34m\u001b[0m\u001b[0;34m\u001b[0m\u001b[0m\n\u001b[0;32m-> 1219\u001b[0;31m                 \u001b[0;32mraise\u001b[0m \u001b[0mKeyboardInterrupt\u001b[0m\u001b[0;34m(\u001b[0m\u001b[0;34m\"Interrupted by user\"\u001b[0m\u001b[0;34m)\u001b[0m \u001b[0;32mfrom\u001b[0m \u001b[0;32mNone\u001b[0m\u001b[0;34m\u001b[0m\u001b[0;34m\u001b[0m\u001b[0m\n\u001b[0m\u001b[1;32m   1220\u001b[0m             \u001b[0;32mexcept\u001b[0m \u001b[0mException\u001b[0m\u001b[0;34m:\u001b[0m\u001b[0;34m\u001b[0m\u001b[0;34m\u001b[0m\u001b[0m\n\u001b[1;32m   1221\u001b[0m                 \u001b[0mself\u001b[0m\u001b[0;34m.\u001b[0m\u001b[0mlog\u001b[0m\u001b[0;34m.\u001b[0m\u001b[0mwarning\u001b[0m\u001b[0;34m(\u001b[0m\u001b[0;34m\"Invalid Message:\"\u001b[0m\u001b[0;34m,\u001b[0m \u001b[0mexc_info\u001b[0m\u001b[0;34m=\u001b[0m\u001b[0;32mTrue\u001b[0m\u001b[0;34m)\u001b[0m\u001b[0;34m\u001b[0m\u001b[0;34m\u001b[0m\u001b[0m\n",
            "\u001b[0;31mKeyboardInterrupt\u001b[0m: Interrupted by user"
          ]
        }
      ],
      "source": [
        "#gpt의 도움을 받았습니다.\n",
        "\n",
        "# 과목 리스트\n",
        "subjects = [\"국어\", \"영어\", \"수학\"]\n",
        "\n",
        "# 전체 학생 정보 저장용 딕셔너리\n",
        "students = {}\n",
        "\n",
        "# 이름과 성적 입력\n",
        "print(\"학생 정보 입력\")\n",
        "for grade in range(1, 7):        # 1학년 ~ 6학년\n",
        "    for class_no in range(1, 6): # 1반 ~ 5반\n",
        "        print(f\"+ {str(grade)} + 학년 + {str(class_no)} + 반\")\n",
        "        for i in range(1, 11):   # 10명\n",
        "            name = input(str(i) + \"번째 학생 이름을 입력하세요: \")\n",
        "            if name ==\"끝\":\n",
        "                break\n",
        "\n",
        "            scores = {} #점수 저장용 딕셔너리\n",
        "            for subject in subjects:\n",
        "                while True:\n",
        "                    try:\n",
        "                        score = int(input(name + \"의 \" + subject + \" 점수를 입력하세요 (0~100): \"))\n",
        "                        if 0 <= score <= 100:\n",
        "                            scores[subject] = score#과목별 점수 저장\n",
        "                            break\n",
        "                        else:\n",
        "                            print(\"0부터 100 사이의 점수를 입력해주세요.\")\n",
        "                    except ValueError as e:\n",
        "                        students[name] = scores #이름에 점수 저장\n",
        "\n",
        "# 성적 조회 기능\n",
        "while True:\n",
        "    print(\" 성적 조회 \")\n",
        "    search = input(\"학생 이름을 입력하세요 (종료하려면 '끝' 입력): \")\n",
        "\n",
        "    if search == \"끝\":\n",
        "        print(\"프로그램을 종료합니다.\")\n",
        "        break\n",
        "\n",
        "    if search in students:\n",
        "        print(\"\\n[\" + search + \"의 성적]\")\n",
        "        total = 0 #값 초기화\n",
        "        for subject in subjects:\n",
        "            score = students[search][subject]\n",
        "            print(subject + \":\", score, \"점\")\n",
        "            total = total + score\n",
        "        average = total / len(subjects)\n",
        "        print(\"평균:\", round(average, 2))\n",
        "    else:\n",
        "        print(\"학생 이름을 찾을 수 없습니다.\")\n"
      ]
    },
    {
      "cell_type": "code",
      "source": [
        "#성적처리 클래스화\n",
        "\n",
        "class StudentGradeManager:\n",
        "    def __init__(self):\n",
        "       #초기화 과목 리스트, 학생 정보 저장 딕셔너리\n",
        "        # 원본의 전역 변수를 인스턴스로!\n",
        "        self.subjects = [\"국어\", \"영어\", \"수학\"]\n",
        "        self.students = {} # 전체 학생 정보 저장용\n",
        "\n",
        "    def input_data(self):\n",
        "        #학생 이름과 성적을 입력\n",
        "        print(\" 학생 정보 입력 \")\n",
        "        try:\n",
        "            for grade in range(1, 7):        # 1학년 ~ 6학년\n",
        "                for class_no in range(1, 6): # 1반 ~ 5반\n",
        "                    print(f\"{grade}학년 {class_no}반\")\n",
        "                    for i in range(1, 11):   # 각 반 10명\n",
        "                        name = input(f\"{i}번째 학생 이름을 입력하세요: \")\n",
        "                        if not name: # 이름이 입력되지 않은 경우 건너뛰기 (간단한 예외처리 추가)\n",
        "                            print(\"!경고: 이름이 입력되지 않아 현재 학생 입력을 건너뜁니다.\")\n",
        "                            continue\n",
        "\n",
        "                        scores = {} # 점수 저장용 딕셔너리 (매 학생마다 초기화)\n",
        "                        for subject in self.subjects:\n",
        "                            while True:\n",
        "                                try:\n",
        "                                    score_str = input(f\"'{name}'의 '{subject}' 점수를 입력하세요 (0~100): \")\n",
        "                                    score = int(score_str) # 문자열을 정수로 변환 시도\n",
        "                                    if 0 <= score <= 100:\n",
        "                                        scores[subject] = score # 과목별 점수 저장\n",
        "                                        break # 올바른 점수 입력 시 다음 과목으로\n",
        "                                    else:\n",
        "                                        print(\"0부터 100 사이의 점수를 입력해주세요.\")\n",
        "                                #오류 수정: 누락된 ValueError 처리 추가\n",
        "                                except ValueError:\n",
        "                                    print(\"숫자로 정확히 입력해주세요.\")\n",
        "                                    break # 점수 입력 중단\n",
        "\n",
        "                        # 모든 과목 점수가 정상적으로 입력된 경우에만 학생 정보 저장\n",
        "                        if len(scores) == len(self.subjects):\n",
        "                            self.students[name] = scores\n",
        "                            print(f\"'{name}' 학생 정보 저장 완료.\")\n",
        "                        else:\n",
        "                             print(f\"'{name}' 학생의 정보가 완전하지 않아 저장하지 않습니다.\")\n",
        "        except ValueError as e:\n",
        "            print(\" 학생 정보 입력 완료 \")\n",
        "\n",
        "\n",
        "    def search_and_display(self):\n",
        "\n",
        "        print(\" 성적 조회 \")\n",
        "        while True:\n",
        "            try:\n",
        "                search = input(\"조회할 학생 이름을 입력하세요 (종료하려면 '끝' 입력): \")\n",
        "\n",
        "                if search == \"끝\":\n",
        "                    print(\"프로그램을 종료합니다.\")\n",
        "                    break # 조회 루프 종료\n",
        "\n",
        "                if not search: # 이름이 입력되지 않은 경우\n",
        "                    print(\"조회할 학생 이름을 입력해주세요.\")\n",
        "                    continue\n",
        "\n",
        "                # 원본과 동일하게 self.students 딕셔너리에서 이름(key)으로 검색\n",
        "                if search in self.students:\n",
        "                    print(f\"[{search}의 성적]\")\n",
        "                    total = 0 # 값 초기화\n",
        "                    student_scores = self.students[search] # 해당 학생의 점수 딕셔너리 가져오기\n",
        "\n",
        "                    # subjects 리스트 기준으로 점수 출력 및 합계 계산\n",
        "                    for subject in self.subjects:\n",
        "                        # .get()을 사용하여 혹시 모를 Key 누락 방지 (점수가 없으면 0점으로 처리)\n",
        "                        score = student_scores[subject]\n",
        "                        print(f\"{subject}: {score}점\")\n",
        "                        total = total + score # 합계 누적\n",
        "\n",
        "                    # 평균 계산 (과목 수가 0이 아닐 때만)\n",
        "                    if len(self.subjects) > 0:\n",
        "                        average = total / len(self.subjects)\n",
        "                        # 소수점 둘째 자리까지 반올림하여 출력\n",
        "                        print(f\"평균: {average:.2f}점\") # f-string 포매팅 사용\n",
        "                    else:\n",
        "                        print(\"평균: 계산 불가\")\n",
        "\n",
        "                else:\n",
        "                    print(f\"'{search}' 학생의 정보를 찾을 수 없습니다.\")\n",
        "\n",
        "            except:\n",
        "                break # 조회 루프 종료\n",
        "\n",
        "if __name__ == \"__main__\":\n",
        "    # 클래스 인스턴스 생성\n",
        "    manager = StudentGradeManager()\n",
        "\n",
        "    # 학생 정보 입력 함수 호출\n",
        "    manager.input_data()\n",
        "\n",
        "    # 성적 조회 함수 호출 (학생 정보 입력이 완료된 후에 실행)\n",
        "    if manager.students: # 저장된 학생이 있을 때만 조회 시작\n",
        "        manager.search_and_display()"
      ],
      "metadata": {
        "id": "ot71S7aJR9yn",
        "colab": {
          "base_uri": "https://localhost:8080/",
          "height": 400
        },
        "outputId": "ef07b593-29fc-428e-b9db-cd91b2383d39"
      },
      "execution_count": 28,
      "outputs": [
        {
          "output_type": "stream",
          "name": "stdout",
          "text": [
            " 학생 정보 입력 \n",
            "1학년 1반\n"
          ]
        },
        {
          "output_type": "error",
          "ename": "KeyboardInterrupt",
          "evalue": "Interrupted by user",
          "traceback": [
            "\u001b[0;31m---------------------------------------------------------------------------\u001b[0m",
            "\u001b[0;31mKeyboardInterrupt\u001b[0m                         Traceback (most recent call last)",
            "\u001b[0;32m<ipython-input-28-8af1a022faf3>\u001b[0m in \u001b[0;36m<cell line: 0>\u001b[0;34m()\u001b[0m\n\u001b[1;32m     94\u001b[0m \u001b[0;34m\u001b[0m\u001b[0m\n\u001b[1;32m     95\u001b[0m     \u001b[0;31m# 학생 정보 입력 함수 호출\u001b[0m\u001b[0;34m\u001b[0m\u001b[0;34m\u001b[0m\u001b[0m\n\u001b[0;32m---> 96\u001b[0;31m     \u001b[0mmanager\u001b[0m\u001b[0;34m.\u001b[0m\u001b[0minput_data\u001b[0m\u001b[0;34m(\u001b[0m\u001b[0;34m)\u001b[0m\u001b[0;34m\u001b[0m\u001b[0;34m\u001b[0m\u001b[0m\n\u001b[0m\u001b[1;32m     97\u001b[0m \u001b[0;34m\u001b[0m\u001b[0m\n\u001b[1;32m     98\u001b[0m     \u001b[0;31m# 성적 조회 함수 호출 (학생 정보 입력이 완료된 후에 실행)\u001b[0m\u001b[0;34m\u001b[0m\u001b[0;34m\u001b[0m\u001b[0m\n",
            "\u001b[0;32m<ipython-input-28-8af1a022faf3>\u001b[0m in \u001b[0;36minput_data\u001b[0;34m(self)\u001b[0m\n\u001b[1;32m     16\u001b[0m                     \u001b[0mprint\u001b[0m\u001b[0;34m(\u001b[0m\u001b[0;34mf\"{grade}학년 {class_no}반\"\u001b[0m\u001b[0;34m)\u001b[0m\u001b[0;34m\u001b[0m\u001b[0;34m\u001b[0m\u001b[0m\n\u001b[1;32m     17\u001b[0m                     \u001b[0;32mfor\u001b[0m \u001b[0mi\u001b[0m \u001b[0;32min\u001b[0m \u001b[0mrange\u001b[0m\u001b[0;34m(\u001b[0m\u001b[0;36m1\u001b[0m\u001b[0;34m,\u001b[0m \u001b[0;36m11\u001b[0m\u001b[0;34m)\u001b[0m\u001b[0;34m:\u001b[0m   \u001b[0;31m# 각 반 10명\u001b[0m\u001b[0;34m\u001b[0m\u001b[0;34m\u001b[0m\u001b[0m\n\u001b[0;32m---> 18\u001b[0;31m                         \u001b[0mname\u001b[0m \u001b[0;34m=\u001b[0m \u001b[0minput\u001b[0m\u001b[0;34m(\u001b[0m\u001b[0;34mf\"{i}번째 학생 이름을 입력하세요: \"\u001b[0m\u001b[0;34m)\u001b[0m\u001b[0;34m\u001b[0m\u001b[0;34m\u001b[0m\u001b[0m\n\u001b[0m\u001b[1;32m     19\u001b[0m                         \u001b[0;32mif\u001b[0m \u001b[0;32mnot\u001b[0m \u001b[0mname\u001b[0m\u001b[0;34m:\u001b[0m \u001b[0;31m# 이름이 입력되지 않은 경우 건너뛰기 (간단한 예외처리 추가)\u001b[0m\u001b[0;34m\u001b[0m\u001b[0;34m\u001b[0m\u001b[0m\n\u001b[1;32m     20\u001b[0m                             \u001b[0mprint\u001b[0m\u001b[0;34m(\u001b[0m\u001b[0;34m\"!경고: 이름이 입력되지 않아 현재 학생 입력을 건너뜁니다.\"\u001b[0m\u001b[0;34m)\u001b[0m\u001b[0;34m\u001b[0m\u001b[0;34m\u001b[0m\u001b[0m\n",
            "\u001b[0;32m/usr/local/lib/python3.11/dist-packages/ipykernel/kernelbase.py\u001b[0m in \u001b[0;36mraw_input\u001b[0;34m(self, prompt)\u001b[0m\n\u001b[1;32m   1175\u001b[0m                 \u001b[0;34m\"raw_input was called, but this frontend does not support input requests.\"\u001b[0m\u001b[0;34m\u001b[0m\u001b[0;34m\u001b[0m\u001b[0m\n\u001b[1;32m   1176\u001b[0m             )\n\u001b[0;32m-> 1177\u001b[0;31m         return self._input_request(\n\u001b[0m\u001b[1;32m   1178\u001b[0m             \u001b[0mstr\u001b[0m\u001b[0;34m(\u001b[0m\u001b[0mprompt\u001b[0m\u001b[0;34m)\u001b[0m\u001b[0;34m,\u001b[0m\u001b[0;34m\u001b[0m\u001b[0;34m\u001b[0m\u001b[0m\n\u001b[1;32m   1179\u001b[0m             \u001b[0mself\u001b[0m\u001b[0;34m.\u001b[0m\u001b[0m_parent_ident\u001b[0m\u001b[0;34m[\u001b[0m\u001b[0;34m\"shell\"\u001b[0m\u001b[0;34m]\u001b[0m\u001b[0;34m,\u001b[0m\u001b[0;34m\u001b[0m\u001b[0;34m\u001b[0m\u001b[0m\n",
            "\u001b[0;32m/usr/local/lib/python3.11/dist-packages/ipykernel/kernelbase.py\u001b[0m in \u001b[0;36m_input_request\u001b[0;34m(self, prompt, ident, parent, password)\u001b[0m\n\u001b[1;32m   1217\u001b[0m             \u001b[0;32mexcept\u001b[0m \u001b[0mKeyboardInterrupt\u001b[0m\u001b[0;34m:\u001b[0m\u001b[0;34m\u001b[0m\u001b[0;34m\u001b[0m\u001b[0m\n\u001b[1;32m   1218\u001b[0m                 \u001b[0;31m# re-raise KeyboardInterrupt, to truncate traceback\u001b[0m\u001b[0;34m\u001b[0m\u001b[0;34m\u001b[0m\u001b[0m\n\u001b[0;32m-> 1219\u001b[0;31m                 \u001b[0;32mraise\u001b[0m \u001b[0mKeyboardInterrupt\u001b[0m\u001b[0;34m(\u001b[0m\u001b[0;34m\"Interrupted by user\"\u001b[0m\u001b[0;34m)\u001b[0m \u001b[0;32mfrom\u001b[0m \u001b[0;32mNone\u001b[0m\u001b[0;34m\u001b[0m\u001b[0;34m\u001b[0m\u001b[0m\n\u001b[0m\u001b[1;32m   1220\u001b[0m             \u001b[0;32mexcept\u001b[0m \u001b[0mException\u001b[0m\u001b[0;34m:\u001b[0m\u001b[0;34m\u001b[0m\u001b[0;34m\u001b[0m\u001b[0m\n\u001b[1;32m   1221\u001b[0m                 \u001b[0mself\u001b[0m\u001b[0;34m.\u001b[0m\u001b[0mlog\u001b[0m\u001b[0;34m.\u001b[0m\u001b[0mwarning\u001b[0m\u001b[0;34m(\u001b[0m\u001b[0;34m\"Invalid Message:\"\u001b[0m\u001b[0;34m,\u001b[0m \u001b[0mexc_info\u001b[0m\u001b[0;34m=\u001b[0m\u001b[0;32mTrue\u001b[0m\u001b[0;34m)\u001b[0m\u001b[0;34m\u001b[0m\u001b[0;34m\u001b[0m\u001b[0m\n",
            "\u001b[0;31mKeyboardInterrupt\u001b[0m: Interrupted by user"
          ]
        }
      ]
    }
  ]
}