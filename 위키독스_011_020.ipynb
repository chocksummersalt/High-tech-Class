{
  "nbformat": 4,
  "nbformat_minor": 0,
  "metadata": {
    "colab": {
      "provenance": [],
      "authorship_tag": "ABX9TyNPNDkjPortB4aOZxrqu2Bt",
      "include_colab_link": true
    },
    "kernelspec": {
      "name": "python3",
      "display_name": "Python 3"
    },
    "language_info": {
      "name": "python"
    }
  },
  "cells": [
    {
      "cell_type": "markdown",
      "metadata": {
        "id": "view-in-github",
        "colab_type": "text"
      },
      "source": [
        "<a href=\"https://colab.research.google.com/github/chocksummersalt/python/blob/main/%EC%9C%84%ED%82%A4%EB%8F%85%EC%8A%A4_011_020.ipynb\" target=\"_parent\"><img src=\"https://colab.research.google.com/assets/colab-badge.svg\" alt=\"Open In Colab\"/></a>"
      ]
    },
    {
      "cell_type": "code",
      "execution_count": null,
      "metadata": {
        "id": "nj5swZaURJdU",
        "colab": {
          "base_uri": "https://localhost:8080/"
        },
        "outputId": "778c7146-3ecd-48e2-e5aa-2b48d1874acf"
      },
      "outputs": [
        {
          "output_type": "stream",
          "name": "stdout",
          "text": [
            "삼성전자 10주 총 평가금액: 500,000 원\n"
          ]
        }
      ],
      "source": [
        "#11번. 삼성전자라는 변수로 50,000을 바인딩하기. 삼성전자 주식 10주를 보유하고 있을 때 총 평가금액을 출력하기\n",
        "#답\n",
        "samsung = 50000\n",
        "total = samsung * 10\n",
        "print(f\"삼성전자 10주 총 평가금액: {total:,} 원\")\n",
        "\n",
        "#or\n",
        "#배운점 (f \"total:,}\")하면 자릿수가 찍힌다/\n",
        "#코랩은 구글 크롬에서 안정적으로 돌아가고 사파리나 다른 브라우저에서는 오류가 잦음."
      ]
    },
    {
      "cell_type": "code",
      "source": [
        "#or\n",
        "a = 50000\n",
        "b = 10\n",
        "result = a * b\n",
        "\n",
        "print(result)\n",
        "#배운점 간단하게 표현하기"
      ],
      "metadata": {
        "id": "qRh1mL6-WyEJ",
        "colab": {
          "base_uri": "https://localhost:8080/"
        },
        "outputId": "74411061-ae3b-4913-abbd-af9c73db0260"
      },
      "execution_count": null,
      "outputs": [
        {
          "output_type": "stream",
          "name": "stdout",
          "text": [
            "500000\n"
          ]
        }
      ]
    },
    {
      "cell_type": "code",
      "source": [],
      "metadata": {
        "id": "K9R4MX0NWDKD"
      },
      "execution_count": null,
      "outputs": []
    },
    {
      "cell_type": "code",
      "source": [
        "#12번. 다음 표는 삼성전자의 일부 투자정보입니다. 변수를 사용해서 시가총액, 현재가, PER 등을 바인딩해보세요.\n",
        "\n",
        "#시가총액\t298조\n",
        "#현재가\t50,000원\n",
        "#PER\t15.79\n",
        "#답\n",
        "totalnum = 298000000000000\n",
        "now = 50000\n",
        "PER = 15.79\n",
        "print(f\"{totalnum:,}\")\n",
        "print(now)\n",
        "print(PER)\n",
        "#배운점 -"
      ],
      "metadata": {
        "colab": {
          "base_uri": "https://localhost:8080/"
        },
        "id": "RaZc5fbvRQqA",
        "outputId": "67333c7c-1d91-459c-a520-4b2eac8277a9"
      },
      "execution_count": null,
      "outputs": [
        {
          "output_type": "stream",
          "name": "stdout",
          "text": [
            "298,000,000,000,000\n",
            "50000\n",
            "15.79\n"
          ]
        }
      ]
    },
    {
      "cell_type": "code",
      "source": [
        "#13번. s = \"hello\" t =\"python\"을 이용해서 hello! python을 출력\n",
        "#답\n",
        "s = \"hello\"\n",
        "t = \"python\"\n",
        "print(s+\"!\", t)\n",
        "#배운점 +로 연결하면 띄어쓰기가 사라지고 ,만 있으면 띄어쓰기로 친다."
      ],
      "metadata": {
        "id": "Z6qo7oAORRBt",
        "colab": {
          "base_uri": "https://localhost:8080/"
        },
        "outputId": "ad829263-7a34-48ed-ccf0-d068eb8bb101"
      },
      "execution_count": null,
      "outputs": [
        {
          "output_type": "stream",
          "name": "stdout",
          "text": [
            "hello! python\n"
          ]
        }
      ]
    },
    {
      "cell_type": "code",
      "source": [
        "#14번. 2 + 2 * 3의 결과를 알아보자\n",
        "#답\n",
        "a = 2\n",
        "b = a\n",
        "c = 3\n",
        "result = a + b * c\n",
        "print(result)\n",
        "#배운점 -"
      ],
      "metadata": {
        "id": "MzhuIMZPRRZw",
        "colab": {
          "base_uri": "https://localhost:8080/"
        },
        "outputId": "665ad7f7-00e2-40d3-c75d-96523a0a03f2"
      },
      "execution_count": null,
      "outputs": [
        {
          "output_type": "stream",
          "name": "stdout",
          "text": [
            "8\n"
          ]
        }
      ]
    },
    {
      "cell_type": "code",
      "source": [
        "#15번. a =\"132\"의 타입을 판별하세요\n",
        "#답\n",
        "a = \"132\"\n",
        "print(type(a))\n",
        "#배운점 - 타입판별법"
      ],
      "metadata": {
        "id": "fmeW0kfPRRuN",
        "colab": {
          "base_uri": "https://localhost:8080/"
        },
        "outputId": "5e94d333-bba4-447b-f8df-738c049b337e"
      },
      "execution_count": null,
      "outputs": [
        {
          "output_type": "stream",
          "name": "stdout",
          "text": [
            "<class 'str'>\n"
          ]
        }
      ]
    },
    {
      "cell_type": "code",
      "source": [
        "#16번. 문자열 \"720\"을 정수형으로 변환해보세요\n",
        "#답\n",
        "num_str = \"720\"\n",
        "print(int(num_str))\n",
        "print(type(int(a)))\n",
        "#배운점 -"
      ],
      "metadata": {
        "id": "IGgdxaRaRSXQ",
        "colab": {
          "base_uri": "https://localhost:8080/"
        },
        "outputId": "267be198-205f-4ac3-fe79-c61a65d84141"
      },
      "execution_count": null,
      "outputs": [
        {
          "output_type": "stream",
          "name": "stdout",
          "text": [
            "720\n",
            "<class 'int'>\n"
          ]
        }
      ]
    },
    {
      "cell_type": "code",
      "source": [
        "#17번.정수를 문자열로 변환\n",
        "#답\n",
        "a = 100\n",
        "print(str(a))\n",
        "print(type(str(a)))\n",
        "#배운점 -"
      ],
      "metadata": {
        "id": "lOF91pC0RS_v",
        "colab": {
          "base_uri": "https://localhost:8080/"
        },
        "outputId": "69854548-2849-4686-e8a1-510f82be1d13"
      },
      "execution_count": null,
      "outputs": [
        {
          "output_type": "stream",
          "name": "stdout",
          "text": [
            "100\n",
            "<class 'str'>\n"
          ]
        }
      ]
    },
    {
      "cell_type": "code",
      "source": [
        "#18번.문자열을 실수로 변환 문자열 \"15.79를 실수 타입으로 변환하기\"\n",
        "#답\n",
        "a = \"15.79\"\n",
        "print(float(a))\n",
        "print(type(float(a)))\n",
        "#배운점 -"
      ],
      "metadata": {
        "id": "rVwpZgMLRTnr",
        "colab": {
          "base_uri": "https://localhost:8080/"
        },
        "outputId": "f5f9ff7a-434d-4a39-e08a-36c55f9055e4"
      },
      "execution_count": null,
      "outputs": [
        {
          "output_type": "stream",
          "name": "stdout",
          "text": [
            "15.79\n",
            "<class 'float'>\n"
          ]
        }
      ]
    },
    {
      "cell_type": "code",
      "source": [
        "#19번. 문자열 타입의 연도를 바인딩하는걸 정수로 변환하고 최근 3년의 연도를 출력\n",
        "#답\n",
        "year = \"2020\"\n",
        "print(int(year), int(year)-1, int(year)-2)\n",
        "#배운점 -"
      ],
      "metadata": {
        "id": "_Ks3VazART9_",
        "colab": {
          "base_uri": "https://localhost:8080/"
        },
        "outputId": "7f0b15fc-2071-4fdd-bbe8-510ee6fa92e0"
      },
      "execution_count": null,
      "outputs": [
        {
          "output_type": "stream",
          "name": "stdout",
          "text": [
            "2020 2019 2018\n"
          ]
        }
      ]
    },
    {
      "cell_type": "code",
      "source": [
        "#20번. 에이컨이 월 48,584원 무이자 36개월 조건으로 홈쇼핑에서 판매되고 있다. 총 금액을 계산하고 출력\n",
        "#답\n",
        "aircondit = 48584\n",
        "nointerest=36\n",
        "totalcost= aircondit * nointerest\n",
        "print(f\"총합계는 :{totalcost:,}\")\n",
        "#배운점 -"
      ],
      "metadata": {
        "id": "yu6z1_r3RUUN",
        "colab": {
          "base_uri": "https://localhost:8080/"
        },
        "outputId": "eff1c394-c6c2-41a9-8296-d8133edba806"
      },
      "execution_count": null,
      "outputs": [
        {
          "output_type": "stream",
          "name": "stdout",
          "text": [
            "총합계는 :1,749,024\n"
          ]
        }
      ]
    },
    {
      "cell_type": "code",
      "source": [
        "\"\""
      ],
      "metadata": {
        "id": "oTKR2S5NpsTg"
      },
      "execution_count": null,
      "outputs": []
    }
  ]
}