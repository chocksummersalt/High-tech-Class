{
  "nbformat": 4,
  "nbformat_minor": 0,
  "metadata": {
    "colab": {
      "provenance": [],
      "authorship_tag": "ABX9TyP0YQX5CTS/NZlFoT/S8AVh",
      "include_colab_link": true
    },
    "kernelspec": {
      "name": "python3",
      "display_name": "Python 3"
    },
    "language_info": {
      "name": "python"
    }
  },
  "cells": [
    {
      "cell_type": "markdown",
      "metadata": {
        "id": "view-in-github",
        "colab_type": "text"
      },
      "source": [
        "<a href=\"https://colab.research.google.com/github/chocksummersalt/python/blob/main/high_tech_class/15_code_questions/q8_split_the_bill.ipynb\" target=\"_parent\"><img src=\"https://colab.research.google.com/assets/colab-badge.svg\" alt=\"Open In Colab\"/></a>"
      ]
    },
    {
      "cell_type": "code",
      "execution_count": 5,
      "metadata": {
        "colab": {
          "base_uri": "https://localhost:8080/"
        },
        "id": "-LTsSPKXEM1f",
        "outputId": "999ad913-9a1b-451d-858a-8322cb76f1d2"
      },
      "outputs": [
        {
          "output_type": "stream",
          "name": "stdout",
          "text": [
            "식당 금액: 21312312\n",
            "바 금액:123123123\n",
            "카페 금액:123123123\n",
            "식당에 간 사람들(쉼표로 구분):김, 고\n",
            "바에 간 사람들 (쉼표로 구분):장\n",
            "카페에 간 사람들(쉼표로 구분)장, 백, 김, 고\n",
            "정산 결과:\n",
            " 고: 256902402원\n",
            " 김: 0원\n",
            " 백: 0원\n",
            "김: 10656156원\n",
            "장: 0원\n"
          ]
        }
      ],
      "source": [
        "#더치페이 하기\n",
        "#총 금액 입력\n",
        "\n",
        "restau = int(input(\"식당 금액: \"))\n",
        "bar = int(input(\"바 금액:\"))\n",
        "cafe = int(input(\"카페 금액:\"))\n",
        "\n",
        "#각 장소 참여 인원 입력\n",
        "res_members = input(\"식당에 간 사람들(쉼표로 구분):\").split(\",\")\n",
        "bar_members = input(\"바에 간 사람들 (쉼표로 구분):\").split(\",\")\n",
        "cafe_members = input(\"카페에 간 사람들(쉼표로 구분)\").split(\",\") #split은 각각 구분된 문자열을 나눠서 리스트로 반환\n",
        "\n",
        "everybody= set(res_members + bar_members +cafe_members)\n",
        "\n",
        "#사람 별 금액 초기화\n",
        "pay={i:0 for i in everybody} #사람 이름 키, 금액 밸류\n",
        "\n",
        "#각 장소에서 사람 수 만큼 나누기\n",
        "for name in res_members:\n",
        "    pay[name] = pay[name] + restau / len(res_members)#각 장소에 있는 사람들의 밸류에 나눈 값을 더함\n",
        "for p in bar_members:\n",
        "    pay[name] = pay[name] + bar / len(bar_members)\n",
        "for p in cafe_members:\n",
        "    pay[name] = pay[name] + bar / len(cafe_members)\n",
        "\n",
        "#결과 출력\n",
        "\n",
        "print(\"정산 결과:\")\n",
        "for person in sorted(pay) :\n",
        "    print(f\"{person}: {round(pay[person])}원\")"
      ]
    }
  ]
}