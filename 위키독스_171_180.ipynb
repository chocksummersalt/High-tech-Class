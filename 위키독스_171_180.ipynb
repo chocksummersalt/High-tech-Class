{
  "nbformat": 4,
  "nbformat_minor": 0,
  "metadata": {
    "colab": {
      "provenance": [],
      "authorship_tag": "ABX9TyNBv6lJ2kdNGnEcNmU8EFRv",
      "include_colab_link": true
    },
    "kernelspec": {
      "name": "python3",
      "display_name": "Python 3"
    },
    "language_info": {
      "name": "python"
    }
  },
  "cells": [
    {
      "cell_type": "markdown",
      "metadata": {
        "id": "view-in-github",
        "colab_type": "text"
      },
      "source": [
        "<a href=\"https://colab.research.google.com/github/chocksummersalt/python/blob/main/%EC%9C%84%ED%82%A4%EB%8F%85%EC%8A%A4_171_180.ipynb\" target=\"_parent\"><img src=\"https://colab.research.google.com/assets/colab-badge.svg\" alt=\"Open In Colab\"/></a>"
      ]
    },
    {
      "cell_type": "code",
      "source": [
        "#171 데이터 출력하기 for와 range를 이용하여\n",
        "price_list = [32100, 32150, 32000, 32500]\n",
        "for price in range(32000, 33000):\n",
        "    #if price == price_list: 리스트전체와 비교하는 것이라 False\n",
        "    if price in price_list: #if에 in을 쓰면 리스트 안의 것을 탐색할 수 있음.\n",
        "         print(price)"
      ],
      "metadata": {
        "colab": {
          "base_uri": "https://localhost:8080/"
        },
        "id": "2lU0b5heGnA3",
        "outputId": "cab3d998-5101-498a-9507-72a59c773970"
      },
      "execution_count": 6,
      "outputs": [
        {
          "output_type": "stream",
          "name": "stdout",
          "text": [
            "32000\n",
            "32100\n",
            "32150\n",
            "32500\n"
          ]
        }
      ]
    },
    {
      "cell_type": "code",
      "source": [
        "#172 쌍을 가진 데이터를 출력하라. for와 range문 사용\n",
        "#for price in range(32000, 33000):\n",
        "   # if price in price_list:\n",
        "   #     for i, data in enumerate(price_list):\n",
        "   #         print(i, data)\n",
        "\n",
        "for i, data in enumerate(price_list):\n",
        "     if 32000 <= data < 33000:\n",
        "        print(i, data)"
      ],
      "metadata": {
        "colab": {
          "base_uri": "https://localhost:8080/"
        },
        "id": "07EZl3BlGmCX",
        "outputId": "1afd5d59-755e-485a-d507-1a37f2676e19"
      },
      "execution_count": 14,
      "outputs": [
        {
          "output_type": "stream",
          "name": "stdout",
          "text": [
            "0 32100\n",
            "1 32150\n",
            "2 32000\n",
            "3 32500\n"
          ]
        }
      ]
    },
    {
      "cell_type": "code",
      "source": [
        "#173 리스트의 데이터를 출력하라 ★이건 못푼 문제\n",
        "#3 32100\n",
        "#2 32150\n",
        "#1 32000\n",
        "#0 32500\n",
        "for i in range(len(price_list)): #아이템의 갯수만큼 범위를 정함\n",
        "    print((len(price_list) -1) -i, price_list[i]) #아이템의 갯수에서 -1한거에(그래야 인덱스가 되니까) i씩 감소, 프라이스"
      ],
      "metadata": {
        "colab": {
          "base_uri": "https://localhost:8080/"
        },
        "id": "vwga92d-GlU_",
        "outputId": "96f062b7-a6dc-4727-d1d7-c3c7bf5251c7"
      },
      "execution_count": 26,
      "outputs": [
        {
          "output_type": "stream",
          "name": "stdout",
          "text": [
            "3 32100\n",
            "2 32150\n",
            "1 32000\n",
            "0 32500\n"
          ]
        }
      ]
    },
    {
      "cell_type": "code",
      "source": [
        "#174 데이터 출력 문제\n",
        "# 100 32150\n",
        "# 110 32000\n",
        "# 120 32500\n",
        "#이렇게 출력하기\n",
        "hund=[100,110,120]\n",
        "j= 0\n",
        "for j,i in enumerate(price_list):\n",
        "    if i != 32100:\n",
        "        print(100+j*10,i)"
      ],
      "metadata": {
        "colab": {
          "base_uri": "https://localhost:8080/"
        },
        "id": "LmZ2i5d6GkEo",
        "outputId": "75678cf4-1e34-44d3-e410-14dc27a3f28c"
      },
      "execution_count": 28,
      "outputs": [
        {
          "output_type": "stream",
          "name": "stdout",
          "text": [
            "110 32150\n",
            "120 32000\n",
            "130 32500\n"
          ]
        }
      ]
    },
    {
      "cell_type": "code",
      "source": [
        "#175 가 나 /나 다 / 다 라 의 식으로 출력하라.\n",
        "my_knd = [\"가\", \"나\", \"다\", \"라\"]\n",
        "for i in range(len(my_knd)-1):\n",
        "    print(my_knd[i], my_knd[i+1])"
      ],
      "metadata": {
        "colab": {
          "base_uri": "https://localhost:8080/"
        },
        "id": "Rntb7H8UGiq4",
        "outputId": "ea317d18-b851-47bf-ed71-232cb3824da6"
      },
      "execution_count": 35,
      "outputs": [
        {
          "output_type": "stream",
          "name": "stdout",
          "text": [
            "가 나\n",
            "나 다\n",
            "다 라\n"
          ]
        }
      ]
    },
    {
      "cell_type": "code",
      "source": [
        "#176\n",
        "my_list = [\"가\", \"나\", \"다\", \"라\", \"마\"]\n",
        "for i in range(len(my_list)-2):\n",
        "    print(my_list[i], my_list[i+1],my_list[i+2])"
      ],
      "metadata": {
        "colab": {
          "base_uri": "https://localhost:8080/"
        },
        "id": "FF6FjgziGiCH",
        "outputId": "e58cd02c-61ac-43ab-cbf9-fd1c232fa1f4"
      },
      "execution_count": 36,
      "outputs": [
        {
          "output_type": "stream",
          "name": "stdout",
          "text": [
            "가 나 다\n",
            "나 다 라\n",
            "다 라 마\n"
          ]
        }
      ]
    },
    {
      "cell_type": "code",
      "source": [
        "#177\n",
        "for i in range(len(my_list)-1):\n",
        "    print(my_list[(len(my_list)-1)-i], my_list[(len(my_list)-2)-i])"
      ],
      "metadata": {
        "colab": {
          "base_uri": "https://localhost:8080/"
        },
        "id": "8gE5jfc4GhEg",
        "outputId": "00cd8c57-cf26-481f-c45b-f75be817aa21"
      },
      "execution_count": 43,
      "outputs": [
        {
          "output_type": "stream",
          "name": "stdout",
          "text": [
            "마 라\n",
            "라 다\n",
            "다 나\n",
            "나 가\n"
          ]
        }
      ]
    },
    {
      "cell_type": "code",
      "source": [
        "#178 우측값과의 차분값을 화면에 출력하라.\n",
        "chabun = [100, 200, 400, 800]\n",
        "for i in range(len(chabun)-1):\n",
        "    print(chabun[i] - chabun[i+1])\n"
      ],
      "metadata": {
        "colab": {
          "base_uri": "https://localhost:8080/"
        },
        "id": "K8MyqBz2GgeI",
        "outputId": "c437021b-4689-401d-f5ac-c45429a3b545"
      },
      "execution_count": 44,
      "outputs": [
        {
          "output_type": "stream",
          "name": "stdout",
          "text": [
            "-100\n",
            "-200\n",
            "-400\n"
          ]
        }
      ]
    },
    {
      "cell_type": "code",
      "source": [
        "#179 3일 씩 평균을 내라\n",
        "pyung = [100, 200, 400, 800, 1000, 1300]\n",
        "for i in range(len(pyung)-2):\n",
        "    print((pyung[i]+ pyung[i+1]+pyung[i+2])/3)"
      ],
      "metadata": {
        "colab": {
          "base_uri": "https://localhost:8080/"
        },
        "id": "51yr4auCGfvR",
        "outputId": "84f273ee-41c4-43fe-e671-bed3cea566a4"
      },
      "execution_count": 46,
      "outputs": [
        {
          "output_type": "stream",
          "name": "stdout",
          "text": [
            "233.33333333333334\n",
            "466.6666666666667\n",
            "733.3333333333334\n",
            "1033.3333333333333\n"
          ]
        }
      ]
    },
    {
      "cell_type": "code",
      "execution_count": 49,
      "metadata": {
        "colab": {
          "base_uri": "https://localhost:8080/"
        },
        "id": "Fv0Pt6IsGYxT",
        "outputId": "5113bf8d-48f0-4ff8-9b9b-86a370311e74"
      },
      "outputs": [
        {
          "output_type": "stream",
          "name": "stdout",
          "text": [
            "[50]\n",
            "[50, 100]\n",
            "[50, 100, 30]\n",
            "[50, 100, 30, 80]\n",
            "[50, 100, 30, 80, 0]\n"
          ]
        }
      ],
      "source": [
        "#180 변동폭 리스트 만들기\n",
        "low_prices  = [100, 200, 400, 800, 1000]\n",
        "high_prices = [150, 300, 430, 880, 1000]\n",
        "volatility =[]\n",
        "for i in range(0, 5):\n",
        "    volatility.append(high_prices[i]-low_prices[i])\n",
        "    print(volatility)"
      ]
    }
  ]
}