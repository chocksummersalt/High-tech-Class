{
  "nbformat": 4,
  "nbformat_minor": 0,
  "metadata": {
    "colab": {
      "provenance": [],
      "authorship_tag": "ABX9TyOKbSifayVh0d7/BOFBPP/5",
      "include_colab_link": true
    },
    "kernelspec": {
      "name": "python3",
      "display_name": "Python 3"
    },
    "language_info": {
      "name": "python"
    }
  },
  "cells": [
    {
      "cell_type": "markdown",
      "metadata": {
        "id": "view-in-github",
        "colab_type": "text"
      },
      "source": [
        "<a href=\"https://colab.research.google.com/github/chocksummersalt/python/blob/main/%EC%9C%84%ED%82%A4%EB%8F%85%EC%8A%A4_141_150.ipynb\" target=\"_parent\"><img src=\"https://colab.research.google.com/assets/colab-badge.svg\" alt=\"Open In Colab\"/></a>"
      ]
    },
    {
      "cell_type": "code",
      "execution_count": null,
      "metadata": {
        "colab": {
          "base_uri": "https://localhost:8080/"
        },
        "id": "oNCsSpcTDgdj",
        "outputId": "7b4cfc25-7f92-42f3-c7b3-b079789895e9"
      },
      "outputs": [
        {
          "output_type": "stream",
          "name": "stdout",
          "text": [
            "110\n",
            "210\n",
            "310\n"
          ]
        }
      ],
      "source": [
        "#141 판매가 리스트에 부가세 10원을 붙인 가격을 for문을 사용해서 출력하라\n",
        "리스트 = [100, 200, 300]\n",
        "for i in 리스트:\n",
        "    print(10+i)"
      ]
    },
    {
      "cell_type": "code",
      "source": [
        "#142 for문을 사용해서 다음과 같이 출력하라\n",
        "#오늘의 메뉴 : xx\n",
        "메뉴 = [\"김밥\", \"라면\", \"튀김\"]\n",
        "for menu in 메뉴:\n",
        "    print(\"오늘의 메뉴 :\", menu)"
      ],
      "metadata": {
        "colab": {
          "base_uri": "https://localhost:8080/"
        },
        "id": "qc97Xc4vDmwF",
        "outputId": "f702639b-3d1a-4c45-fc09-ace2ac2c8be3"
      },
      "execution_count": null,
      "outputs": [
        {
          "output_type": "stream",
          "name": "stdout",
          "text": [
            "오늘의 메뉴 : 김밥\n",
            "오늘의 메뉴 : 라면\n",
            "오늘의 메뉴 : 튀김\n"
          ]
        }
      ]
    },
    {
      "cell_type": "code",
      "source": [
        "#143 주식종목 이름의 문자열의 길이를 출력하라\n",
        "stock = [\"sk하이닉스\", \"삼성전자\",\"LG전자\"]\n",
        "for stocklen in stock:\n",
        "    print(len(stocklen))"
      ],
      "metadata": {
        "colab": {
          "base_uri": "https://localhost:8080/"
        },
        "id": "h1Tld8DfDuvN",
        "outputId": "78577e84-5d8c-47a9-ae35-82ad2ea23e0d"
      },
      "execution_count": null,
      "outputs": [
        {
          "output_type": "stream",
          "name": "stdout",
          "text": [
            "6\n",
            "4\n",
            "4\n"
          ]
        }
      ]
    },
    {
      "cell_type": "code",
      "source": [
        "#144 동물 글자수를 다음과 같이 출력하라\n",
        "animal = [\"dog\", \"cat\", \"parrot\"]\n",
        "for animalen in animal:\n",
        "    print(animalen, len(animalen))"
      ],
      "metadata": {
        "colab": {
          "base_uri": "https://localhost:8080/"
        },
        "id": "rFPvdWlEDtqm",
        "outputId": "43c307cf-81e2-4580-95bb-0f8e530f86dc"
      },
      "execution_count": null,
      "outputs": [
        {
          "output_type": "stream",
          "name": "stdout",
          "text": [
            "dog 3\n",
            "cat 3\n",
            "parrot 6\n"
          ]
        }
      ]
    },
    {
      "cell_type": "code",
      "source": [
        "#145 동물의 첫 글자만 출력하라\n",
        "for animalfirst in animal:\n",
        "    print(animalfirst[:1])"
      ],
      "metadata": {
        "id": "6nemzEuODswt",
        "colab": {
          "base_uri": "https://localhost:8080/"
        },
        "outputId": "5d2eb504-e31b-40a3-b4a8-601bde5ae9eb"
      },
      "execution_count": null,
      "outputs": [
        {
          "output_type": "stream",
          "name": "stdout",
          "text": [
            "d\n",
            "c\n",
            "p\n"
          ]
        }
      ]
    },
    {
      "cell_type": "code",
      "source": [
        "#146 리스트의 숫자를 3 x 1 = 3, 3 x 2 = 6 이렇게 출력하라\n",
        "numlist = [1, 2, 3]\n",
        "for num in numlist:\n",
        "    print(3, f\"x {num} =\", 3*num )"
      ],
      "metadata": {
        "id": "p9_H7SRTDrzV",
        "colab": {
          "base_uri": "https://localhost:8080/"
        },
        "outputId": "254d4849-8d41-40bb-d3d8-e47dc312c69e"
      },
      "execution_count": null,
      "outputs": [
        {
          "output_type": "stream",
          "name": "stdout",
          "text": [
            "3 x 1 = 3\n",
            "3 x 2 = 6\n",
            "3 x 3 = 9\n"
          ]
        }
      ]
    },
    {
      "cell_type": "code",
      "source": [
        "#147"
      ],
      "metadata": {
        "id": "-9RN_L5EDrC1"
      },
      "execution_count": null,
      "outputs": []
    },
    {
      "cell_type": "code",
      "source": [
        "#148 다음 리스트에서 \"나\" \"다\" \"라\" 만 출력하라\n",
        "kanada= [\"가\", \"나\", \"다\", \"라\"]\n",
        "for nadara in kanada:\n",
        "    if nadara == \"가\":\n",
        "        continue\n",
        "    print(nadara)"
      ],
      "metadata": {
        "id": "yAfwE4_WDqPl",
        "colab": {
          "base_uri": "https://localhost:8080/"
        },
        "outputId": "a47dacac-1cbb-4f2a-e7ee-32e967ea2cb7"
      },
      "execution_count": null,
      "outputs": [
        {
          "output_type": "stream",
          "name": "stdout",
          "text": [
            "나\n",
            "다\n",
            "라\n"
          ]
        }
      ]
    },
    {
      "cell_type": "code",
      "source": [
        "#149 리스트에서 가, 다만 출력하라\n",
        "for kada in kanada[0:3:2]:\n",
        "    print(kada)"
      ],
      "metadata": {
        "id": "8ucXngaPDoBd",
        "colab": {
          "base_uri": "https://localhost:8080/"
        },
        "outputId": "dace196b-007d-4c29-86da-99811d3dd7b2"
      },
      "execution_count": null,
      "outputs": [
        {
          "output_type": "stream",
          "name": "stdout",
          "text": [
            "가\n",
            "다\n"
          ]
        }
      ]
    },
    {
      "cell_type": "code",
      "source": [
        "#150 라 다 나 가 이렇게 출력하라\n",
        "for radana in kanada[-1:-5:-1]:\n",
        "    print(radana)"
      ],
      "metadata": {
        "id": "9yo5nJlcDnUu",
        "colab": {
          "base_uri": "https://localhost:8080/"
        },
        "outputId": "62eec6ab-c968-4065-d13c-dac7a1c84744"
      },
      "execution_count": null,
      "outputs": [
        {
          "output_type": "stream",
          "name": "stdout",
          "text": [
            "라\n",
            "다\n",
            "나\n",
            "가\n"
          ]
        }
      ]
    }
  ]
}