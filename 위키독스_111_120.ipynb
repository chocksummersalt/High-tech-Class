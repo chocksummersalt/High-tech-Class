{
  "nbformat": 4,
  "nbformat_minor": 0,
  "metadata": {
    "colab": {
      "provenance": [],
      "authorship_tag": "ABX9TyNeSwlXdu8ylvi1YXg0xwjv",
      "include_colab_link": true
    },
    "kernelspec": {
      "name": "python3",
      "display_name": "Python 3"
    },
    "language_info": {
      "name": "python"
    }
  },
  "cells": [
    {
      "cell_type": "markdown",
      "metadata": {
        "id": "view-in-github",
        "colab_type": "text"
      },
      "source": [
        "<a href=\"https://colab.research.google.com/github/chocksummersalt/python/blob/main/%EC%9C%84%ED%82%A4%EB%8F%85%EC%8A%A4_111_120.ipynb\" target=\"_parent\"><img src=\"https://colab.research.google.com/assets/colab-badge.svg\" alt=\"Open In Colab\"/></a>"
      ]
    },
    {
      "cell_type": "code",
      "execution_count": null,
      "metadata": {
        "colab": {
          "base_uri": "https://localhost:8080/"
        },
        "id": "d4STBUt_DsM_",
        "outputId": "c9fb399f-484c-4e71-bd3a-936e2b89c908"
      },
      "outputs": [
        {
          "output_type": "stream",
          "name": "stdout",
          "text": [
            "입력dd\n",
            "dddd\n"
          ]
        }
      ],
      "source": [
        "#111 입력받은 문자열을 두 번 출력하라.\n",
        "#print(input()*2)\n",
        "user = input(\"입력\")\n",
        "print(user*2)#정석\n",
        "#배운 점 : 상황에 따라 코드를 짧게 할 수 있구나"
      ]
    },
    {
      "cell_type": "code",
      "source": [
        "#112 숫자를 입력받고 거기에 10을 더해 출력하기\n",
        "#user1 = input(int) 기본적으로 인풋은 문자열을 반환해서 밖에다 int를 씌워야함\n",
        "user1 = int(input())\n",
        "print(user1 + 10)"
      ],
      "metadata": {
        "colab": {
          "base_uri": "https://localhost:8080/"
        },
        "id": "BMkvh9_6DuQX",
        "outputId": "9e387fc2-9112-4974-8ad0-768b74db5bd0"
      },
      "execution_count": null,
      "outputs": [
        {
          "output_type": "stream",
          "name": "stdout",
          "text": [
            "30\n",
            "40\n"
          ]
        }
      ]
    },
    {
      "cell_type": "code",
      "source": [
        "#113 하나의 숫자를 입력 받고 짝수/홀수를 판별하라.\n",
        "user2 = int(input())\n",
        "if (user2 % 2) == 0:\n",
        "    print(\"짝수\")\n",
        "else:\n",
        "    print(\"홀수\")\n",
        "#배운 점 : 꼭 if와 else 끝에는 :콜럼을 붙여주자"
      ],
      "metadata": {
        "colab": {
          "base_uri": "https://localhost:8080/"
        },
        "id": "k_ZrIfvVDuzn",
        "outputId": "82ec9a83-70f1-485e-a8a2-ccf21fdf019d"
      },
      "execution_count": null,
      "outputs": [
        {
          "output_type": "stream",
          "name": "stdout",
          "text": [
            "3\n",
            "홀수\n"
          ]
        }
      ]
    },
    {
      "cell_type": "code",
      "source": [
        "#114 입력받은 값에 20을 더한 값을 출력하라 단 계산값이 255를 초과하면 255를 출력해라\n",
        "user3 = int(input())\n",
        "if (user3 + 20) < 255:\n",
        "    print(user3 + 20)\n",
        "else:\n",
        "    print(255)"
      ],
      "metadata": {
        "colab": {
          "base_uri": "https://localhost:8080/"
        },
        "id": "hrp14xlDDvaf",
        "outputId": "10c7527f-7805-4ffa-a06e-ef97d03c277b"
      },
      "execution_count": null,
      "outputs": [
        {
          "output_type": "stream",
          "name": "stdout",
          "text": [
            "10\n",
            "30\n"
          ]
        }
      ]
    },
    {
      "cell_type": "code",
      "source": [
        "#115 입력받은 값에 20을 뺀 후 출력하라 출력값의 범위는 0~255이다. 보다 작으면 0, 크면 255\n",
        "user4 = int(input())\n",
        "if (user4 - 40) < 0:\n",
        "    print(0)\n",
        "elif(user4 - 40) > 255:\n",
        "    print(255)\n",
        "else:\n",
        "    print(user4 - 40)"
      ],
      "metadata": {
        "colab": {
          "base_uri": "https://localhost:8080/"
        },
        "id": "y9UZS1L3Dv3_",
        "outputId": "3064f4a6-199b-4c30-b368-3b2154fc5757"
      },
      "execution_count": null,
      "outputs": [
        {
          "output_type": "stream",
          "name": "stdout",
          "text": [
            "56\n",
            "16\n"
          ]
        }
      ]
    },
    {
      "cell_type": "code",
      "source": [
        "#116 입력받은 시간이 정각인지 판별하라.\n",
        "user5 = input(\"시간을 입력하세요 :\")\n",
        "if user5[-2:] == \"00\":\n",
        "    print(\"정각 입니다.\")\n",
        "else:\n",
        "    print(\"정각이 아닙니다\")\n",
        "#배운 점 : 시간과 같은 건 문자열로 표현할 수 있다."
      ],
      "metadata": {
        "id": "qJbRTEJ7Dwcv",
        "colab": {
          "base_uri": "https://localhost:8080/"
        },
        "outputId": "384efead-7ee0-40a8-bdc5-24f518c8b676"
      },
      "execution_count": null,
      "outputs": [
        {
          "output_type": "stream",
          "name": "stdout",
          "text": [
            "시간을 입력하세요 :123\n",
            "정각이 아닙니다\n"
          ]
        }
      ]
    },
    {
      "cell_type": "code",
      "source": [
        "#117 입력값이 과일 리스트에 있는지 확인하고 있으면 정답, 없으면 오답을 출력하라.\n",
        "fruit = [\"사과\", \"포도\", \"홍시\"]\n",
        "user6 = input(\"좋아하는 과일은? :\")\n",
        "if user6 in fruit:\n",
        "    print(\"정답입니다\")\n",
        "else:\n",
        "    print(\"오답입니다\")\n",
        "\n",
        "#배운 점 : if 에 in을 쓰는 방법"
      ],
      "metadata": {
        "id": "L-o_XNWCDxFP",
        "colab": {
          "base_uri": "https://localhost:8080/",
          "height": 393
        },
        "outputId": "58f99640-8b68-4b81-ef11-1590e420d817"
      },
      "execution_count": null,
      "outputs": [
        {
          "output_type": "error",
          "ename": "KeyboardInterrupt",
          "evalue": "Interrupted by user",
          "traceback": [
            "\u001b[0;31m---------------------------------------------------------------------------\u001b[0m",
            "\u001b[0;31mKeyboardInterrupt\u001b[0m                         Traceback (most recent call last)",
            "\u001b[0;32m<ipython-input-4-128caa3136e4>\u001b[0m in \u001b[0;36m<cell line: 0>\u001b[0;34m()\u001b[0m\n\u001b[1;32m      1\u001b[0m \u001b[0;31m#117 fruit = [\"사과\", \"포도\", \"홍시\"]\u001b[0m\u001b[0;34m\u001b[0m\u001b[0;34m\u001b[0m\u001b[0m\n\u001b[0;32m----> 2\u001b[0;31m \u001b[0muser6\u001b[0m \u001b[0;34m=\u001b[0m \u001b[0minput\u001b[0m\u001b[0;34m(\u001b[0m\u001b[0;34m\"좋아하는 과일은? :\"\u001b[0m\u001b[0;34m)\u001b[0m\u001b[0;34m\u001b[0m\u001b[0;34m\u001b[0m\u001b[0m\n\u001b[0m\u001b[1;32m      3\u001b[0m \u001b[0;32mif\u001b[0m \u001b[0muser6\u001b[0m \u001b[0;32min\u001b[0m \u001b[0mfruit\u001b[0m\u001b[0;34m:\u001b[0m\u001b[0;34m\u001b[0m\u001b[0;34m\u001b[0m\u001b[0m\n\u001b[1;32m      4\u001b[0m     \u001b[0mprint\u001b[0m\u001b[0;34m(\u001b[0m\u001b[0;34m\"정답입니다\"\u001b[0m\u001b[0;34m)\u001b[0m\u001b[0;34m\u001b[0m\u001b[0;34m\u001b[0m\u001b[0m\n\u001b[1;32m      5\u001b[0m \u001b[0;32melse\u001b[0m\u001b[0;34m:\u001b[0m\u001b[0;34m\u001b[0m\u001b[0;34m\u001b[0m\u001b[0m\n",
            "\u001b[0;32m/usr/local/lib/python3.11/dist-packages/ipykernel/kernelbase.py\u001b[0m in \u001b[0;36mraw_input\u001b[0;34m(self, prompt)\u001b[0m\n\u001b[1;32m   1175\u001b[0m                 \u001b[0;34m\"raw_input was called, but this frontend does not support input requests.\"\u001b[0m\u001b[0;34m\u001b[0m\u001b[0;34m\u001b[0m\u001b[0m\n\u001b[1;32m   1176\u001b[0m             )\n\u001b[0;32m-> 1177\u001b[0;31m         return self._input_request(\n\u001b[0m\u001b[1;32m   1178\u001b[0m             \u001b[0mstr\u001b[0m\u001b[0;34m(\u001b[0m\u001b[0mprompt\u001b[0m\u001b[0;34m)\u001b[0m\u001b[0;34m,\u001b[0m\u001b[0;34m\u001b[0m\u001b[0;34m\u001b[0m\u001b[0m\n\u001b[1;32m   1179\u001b[0m             \u001b[0mself\u001b[0m\u001b[0;34m.\u001b[0m\u001b[0m_parent_ident\u001b[0m\u001b[0;34m[\u001b[0m\u001b[0;34m\"shell\"\u001b[0m\u001b[0;34m]\u001b[0m\u001b[0;34m,\u001b[0m\u001b[0;34m\u001b[0m\u001b[0;34m\u001b[0m\u001b[0m\n",
            "\u001b[0;32m/usr/local/lib/python3.11/dist-packages/ipykernel/kernelbase.py\u001b[0m in \u001b[0;36m_input_request\u001b[0;34m(self, prompt, ident, parent, password)\u001b[0m\n\u001b[1;32m   1217\u001b[0m             \u001b[0;32mexcept\u001b[0m \u001b[0mKeyboardInterrupt\u001b[0m\u001b[0;34m:\u001b[0m\u001b[0;34m\u001b[0m\u001b[0;34m\u001b[0m\u001b[0m\n\u001b[1;32m   1218\u001b[0m                 \u001b[0;31m# re-raise KeyboardInterrupt, to truncate traceback\u001b[0m\u001b[0;34m\u001b[0m\u001b[0;34m\u001b[0m\u001b[0m\n\u001b[0;32m-> 1219\u001b[0;31m                 \u001b[0;32mraise\u001b[0m \u001b[0mKeyboardInterrupt\u001b[0m\u001b[0;34m(\u001b[0m\u001b[0;34m\"Interrupted by user\"\u001b[0m\u001b[0;34m)\u001b[0m \u001b[0;32mfrom\u001b[0m \u001b[0;32mNone\u001b[0m\u001b[0;34m\u001b[0m\u001b[0;34m\u001b[0m\u001b[0m\n\u001b[0m\u001b[1;32m   1220\u001b[0m             \u001b[0;32mexcept\u001b[0m \u001b[0mException\u001b[0m\u001b[0;34m:\u001b[0m\u001b[0;34m\u001b[0m\u001b[0;34m\u001b[0m\u001b[0m\n\u001b[1;32m   1221\u001b[0m                 \u001b[0mself\u001b[0m\u001b[0;34m.\u001b[0m\u001b[0mlog\u001b[0m\u001b[0;34m.\u001b[0m\u001b[0mwarning\u001b[0m\u001b[0;34m(\u001b[0m\u001b[0;34m\"Invalid Message:\"\u001b[0m\u001b[0;34m,\u001b[0m \u001b[0mexc_info\u001b[0m\u001b[0;34m=\u001b[0m\u001b[0;32mTrue\u001b[0m\u001b[0;34m)\u001b[0m\u001b[0;34m\u001b[0m\u001b[0;34m\u001b[0m\u001b[0m\n",
            "\u001b[0;31mKeyboardInterrupt\u001b[0m: Interrupted by user"
          ]
        }
      ]
    },
    {
      "cell_type": "code",
      "source": [
        "#118 종목명을 입력 받고 경고 종목이면 경고를, 아니면 아니라고 출력하라.\n",
        "warn_investment_list = [\"Microsoft\", \"Google\", \"Naver\", \"Kakao\", \"SAMSUNG\", \"LG\"]\n",
        "user7 = input(\"투자 경고 종목 확인 :\")\n",
        "if user7 in warn_investment_list:\n",
        "    print(\"경고 종목 입니다.\")\n",
        "else:\n",
        "    print(\"경고 종목이 아닙니다.\")"
      ],
      "metadata": {
        "id": "XqDSWkfZDxs3"
      },
      "execution_count": null,
      "outputs": []
    },
    {
      "cell_type": "code",
      "source": [
        "#119  사용자가 입력한 값이 딕셔너리의 키중에 있으면 정답을, 아니면 오답을 출력\n",
        "fruit = {\"봄\" : \"딸기\", \"여름\" : \"토마토\", \"가을\" : \"사과\"}\n",
        "user8 = input(\"제가 좋아하는 계절은:\")\n",
        "if user8 in fruit.keys():\n",
        "    print(\"정답\")\n",
        "else:\n",
        "    print(\"오답\")\n",
        "\n",
        "#배운 점 : keys 내장함수 사용해서 키값따로 추출."
      ],
      "metadata": {
        "id": "JRMcwXdODyYR",
        "colab": {
          "base_uri": "https://localhost:8080/"
        },
        "outputId": "5094f52d-c31c-4df0-d991-40b358d766ba"
      },
      "execution_count": null,
      "outputs": [
        {
          "output_type": "stream",
          "name": "stdout",
          "text": [
            "제가 좋아하는 계절은:딸기\n",
            "오답\n"
          ]
        }
      ]
    },
    {
      "cell_type": "code",
      "source": [
        "#120 사용자가 입력한 값이 딕셔너리 값에 포함되어있다면 정답, 아니면 오답을 출력.\n",
        "fruit = {\"봄\" : \"딸기\", \"여름\" : \"토마토\", \"가을\" : \"사과\"}\n",
        "user9 = input(\"좋아하는 과일은?:\")\n",
        "if user9 in fruit.values():\n",
        "    print(\"정답\")\n",
        "else:\n",
        "    print(\"오답\")\n",
        "#배운 점 : value 내장함수의 사용법"
      ],
      "metadata": {
        "id": "cY9FPDl3DzAv",
        "colab": {
          "base_uri": "https://localhost:8080/"
        },
        "outputId": "bce8a076-1814-4d3b-9273-9faf7564f16c"
      },
      "execution_count": null,
      "outputs": [
        {
          "output_type": "stream",
          "name": "stdout",
          "text": [
            "좋아하는 과일은?:딸기\n",
            "정답\n"
          ]
        }
      ]
    }
  ]
}