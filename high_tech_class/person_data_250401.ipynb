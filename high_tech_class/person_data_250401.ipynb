{
  "nbformat": 4,
  "nbformat_minor": 0,
  "metadata": {
    "colab": {
      "provenance": [],
      "include_colab_link": true
    },
    "kernelspec": {
      "name": "python3",
      "display_name": "Python 3"
    },
    "language_info": {
      "name": "python"
    }
  },
  "cells": [
    {
      "cell_type": "markdown",
      "metadata": {
        "id": "view-in-github",
        "colab_type": "text"
      },
      "source": [
        "<a href=\"https://colab.research.google.com/github/chocksummersalt/python/blob/main/high_tech_class/person_data_250401.ipynb\" target=\"_parent\"><img src=\"https://colab.research.google.com/assets/colab-badge.svg\" alt=\"Open In Colab\"/></a>"
      ]
    },
    {
      "cell_type": "code",
      "execution_count": null,
      "metadata": {
        "colab": {
          "base_uri": "https://localhost:8080/"
        },
        "id": "7bhYM6cZG0K7",
        "outputId": "d6697ca7-890a-4968-dc6a-0c12aaeaa604"
      },
      "outputs": [
        {
          "name": "stdout",
          "output_type": "stream",
          "text": [
            "사람이름: 성민\n",
            "사람성별: 남자\n",
            "사람나이: 94\n"
          ]
        }
      ],
      "source": [
        "사람정보_리스트 = [None, None, None]\n",
        "사람이름 = input(\"사람이름: \")\n",
        "사람성별 = input(\"사람성별: \")\n",
        "사람나이 = input(\"사람나이: \")"
      ]
    },
    {
      "cell_type": "code",
      "source": [
        "사람정보_리스트[0] = [사람이름, 사람성별, 사람나이]\n",
        "print(사람정보_리스트[0])"
      ],
      "metadata": {
        "colab": {
          "base_uri": "https://localhost:8080/"
        },
        "id": "1hVQgy2jJZYG",
        "outputId": "32bd7df2-fd54-46d7-d8ff-0475adb21e69"
      },
      "execution_count": null,
      "outputs": [
        {
          "output_type": "stream",
          "name": "stdout",
          "text": [
            "['성민', '남자', '94']\n"
          ]
        }
      ]
    },
    {
      "cell_type": "code",
      "source": [
        "for 인덱스 in range(3):\n",
        "    사람이름 = input(\"사람이름: \")\n",
        "    사람성별 = input(\"사람성별: \")\n",
        "    사람나이 = input(\"사람나이: \")\n",
        "    사람정보_리스트[인덱스] = [사람이름, 사람성별, 사람나이]"
      ],
      "metadata": {
        "colab": {
          "base_uri": "https://localhost:8080/"
        },
        "id": "8rgLAQk7Jrjv",
        "outputId": "507d07f9-0d75-4d0e-baf6-04aae78b34c8"
      },
      "execution_count": null,
      "outputs": [
        {
          "name": "stdout",
          "output_type": "stream",
          "text": [
            "사람이름: 성민\n",
            "사람성별: 남자\n",
            "사람나이: 94\n",
            "사람이름: 현진\n",
            "사람성별: 여자\n",
            "사람나이: 00\n",
            "사람이름: 효진\n",
            "사람성별: 여자\n",
            "사람나이: 95\n"
          ]
        }
      ]
    },
    {
      "cell_type": "code",
      "source": [
        "print(사람정보_리스트)\n",
        "사람_인덱스 = 0\n",
        "for 사람정보 in 사람정보_리스트:\n",
        "    print(\"사람\", 사람_인덱스, \":\", 사람정보[0], 사람정보[1], 사람정보[2])\n",
        "    사람_인덱스 = 사람_인덱스 + 1\n",
        "\n",
        "for 인덱스, 사람정보 in enumerate(사람정보_리스트):\n",
        "    print(\"사람\", 인덱스 + 1, \":\", 사람정보[0], 사람정보[1], 사람정보[2])\n",
        "\n",
        "for 인덱스, 사람정보 in enumerate(사람정보_리스트):\n",
        "    print(\"사람 {} : {} , {} , {}\".format(인덱스, 사람정보[0], 사람정보[1], 사람정보[2]))\n",
        "    print(\"사람 {0} : {1} , {2} , {3}\".format(인덱스, 사람정보[0], 사람정보[1], 사람정보[2]))\n",
        "    print(\"사람 {순서} : {성명} , {성별} , {나이}\".format(순서=인덱스, 성명=사람정보[0], 성별=사람정보[1], 나이=사람정보[2]))"
      ],
      "metadata": {
        "colab": {
          "base_uri": "https://localhost:8080/"
        },
        "id": "ZoYJFpYvLZ57",
        "outputId": "f689ac69-fad0-4898-b510-be13e77b288b"
      },
      "execution_count": null,
      "outputs": [
        {
          "output_type": "stream",
          "name": "stdout",
          "text": [
            "[['성민', '남자', '94'], ['현진', '여자', '00'], ['효진', '여자', '95']]\n",
            "사람 0 : 성민 남자 94\n",
            "사람 1 : 현진 여자 00\n",
            "사람 2 : 효진 여자 95\n",
            "사람 1 : 성민 남자 94\n",
            "사람 2 : 현진 여자 00\n",
            "사람 3 : 효진 여자 95\n",
            "사람 0 : 성민 , 남자 , 94\n",
            "사람 0 : 성민 , 남자 , 94\n",
            "사람 0 : 성민 , 남자 , 94\n",
            "사람 1 : 현진 , 여자 , 00\n",
            "사람 1 : 현진 , 여자 , 00\n",
            "사람 1 : 현진 , 여자 , 00\n",
            "사람 2 : 효진 , 여자 , 95\n",
            "사람 2 : 효진 , 여자 , 95\n",
            "사람 2 : 효진 , 여자 , 95\n"
          ]
        }
      ]
    },
    {
      "cell_type": "code",
      "source": [
        "for 인덱스 in range(3):\n",
        "    사람정보 = input(\"사람 성명, 성별, 나이를 ,로 구분해서 입력:\").split(',')\n",
        "    #사람정보 = list(input(\"사람 성명, 성별, 나이를 ,로 구분해서 입력:\").split(','))\n",
        "    사람정보_리스트[인덱스] = 사람정보\n"
      ],
      "metadata": {
        "colab": {
          "base_uri": "https://localhost:8080/"
        },
        "id": "dXmq2zcZLoKq",
        "outputId": "889e28dc-345b-40d7-c546-902cc41eb775"
      },
      "execution_count": null,
      "outputs": [
        {
          "name": "stdout",
          "output_type": "stream",
          "text": [
            "사람 성명, 성별, 나이를 ,로 구분해서 입력:조성민, 남아, 94\n",
            "사람 성명, 성별, 나이를 ,로 구분해서 입력:ㅇㅇㅇ. 여자,44\n",
            "사람 성명, 성별, 나이를 ,로 구분해서 입력:ㅇㅇㅇ, 남자, 56\n"
          ]
        }
      ]
    },
    {
      "cell_type": "code",
      "source": [
        "사람명수 = int(input(\"입력할 사람의 숫자: \"))\n",
        "임의개수의_사람정보_리스트 = []\n",
        "for 인덱스 in range(사람명수):\n",
        "    사람정보 = input(\"사람 성명, 성별, 나이를 ,로 구분해서 입력:\").split(',')\n",
        "    사람정보_리스트.append(사람정보)"
      ],
      "metadata": {
        "id": "rVNiMP4COecu",
        "colab": {
          "base_uri": "https://localhost:8080/",
          "height": 375
        },
        "outputId": "b5c8c438-b239-4186-801b-e9c0ec111316"
      },
      "execution_count": null,
      "outputs": [
        {
          "name": "stdout",
          "output_type": "stream",
          "text": [
            "입력할 사람의 숫자: 3\n"
          ]
        },
        {
          "output_type": "error",
          "ename": "KeyboardInterrupt",
          "evalue": "Interrupted by user",
          "traceback": [
            "\u001b[0;31m---------------------------------------------------------------------------\u001b[0m",
            "\u001b[0;31mKeyboardInterrupt\u001b[0m                         Traceback (most recent call last)",
            "\u001b[0;32m<ipython-input-10-e99d1c3ac854>\u001b[0m in \u001b[0;36m<cell line: 0>\u001b[0;34m()\u001b[0m\n\u001b[1;32m      2\u001b[0m \u001b[0m임의개수의_사람정보_리스트\u001b[0m \u001b[0;34m=\u001b[0m \u001b[0;34m[\u001b[0m\u001b[0;34m]\u001b[0m\u001b[0;34m\u001b[0m\u001b[0;34m\u001b[0m\u001b[0m\n\u001b[1;32m      3\u001b[0m \u001b[0;32mfor\u001b[0m \u001b[0m인덱스\u001b[0m \u001b[0;32min\u001b[0m \u001b[0mrange\u001b[0m\u001b[0;34m(\u001b[0m\u001b[0m사람명수\u001b[0m\u001b[0;34m)\u001b[0m\u001b[0;34m:\u001b[0m\u001b[0;34m\u001b[0m\u001b[0;34m\u001b[0m\u001b[0m\n\u001b[0;32m----> 4\u001b[0;31m     \u001b[0m사람정보\u001b[0m \u001b[0;34m=\u001b[0m \u001b[0minput\u001b[0m\u001b[0;34m(\u001b[0m\u001b[0;34m\"사람 성명, 성별, 나이를 ,로 구분해서 입력:\"\u001b[0m\u001b[0;34m)\u001b[0m\u001b[0;34m.\u001b[0m\u001b[0msplit\u001b[0m\u001b[0;34m(\u001b[0m\u001b[0;34m','\u001b[0m\u001b[0;34m)\u001b[0m\u001b[0;34m\u001b[0m\u001b[0;34m\u001b[0m\u001b[0m\n\u001b[0m\u001b[1;32m      5\u001b[0m     \u001b[0m사람정보_리스트\u001b[0m\u001b[0;34m.\u001b[0m\u001b[0mappend\u001b[0m\u001b[0;34m(\u001b[0m\u001b[0m사람정보\u001b[0m\u001b[0;34m)\u001b[0m\u001b[0;34m\u001b[0m\u001b[0;34m\u001b[0m\u001b[0m\n",
            "\u001b[0;32m/usr/local/lib/python3.11/dist-packages/ipykernel/kernelbase.py\u001b[0m in \u001b[0;36mraw_input\u001b[0;34m(self, prompt)\u001b[0m\n\u001b[1;32m   1175\u001b[0m                 \u001b[0;34m\"raw_input was called, but this frontend does not support input requests.\"\u001b[0m\u001b[0;34m\u001b[0m\u001b[0;34m\u001b[0m\u001b[0m\n\u001b[1;32m   1176\u001b[0m             )\n\u001b[0;32m-> 1177\u001b[0;31m         return self._input_request(\n\u001b[0m\u001b[1;32m   1178\u001b[0m             \u001b[0mstr\u001b[0m\u001b[0;34m(\u001b[0m\u001b[0mprompt\u001b[0m\u001b[0;34m)\u001b[0m\u001b[0;34m,\u001b[0m\u001b[0;34m\u001b[0m\u001b[0;34m\u001b[0m\u001b[0m\n\u001b[1;32m   1179\u001b[0m             \u001b[0mself\u001b[0m\u001b[0;34m.\u001b[0m\u001b[0m_parent_ident\u001b[0m\u001b[0;34m[\u001b[0m\u001b[0;34m\"shell\"\u001b[0m\u001b[0;34m]\u001b[0m\u001b[0;34m,\u001b[0m\u001b[0;34m\u001b[0m\u001b[0;34m\u001b[0m\u001b[0m\n",
            "\u001b[0;32m/usr/local/lib/python3.11/dist-packages/ipykernel/kernelbase.py\u001b[0m in \u001b[0;36m_input_request\u001b[0;34m(self, prompt, ident, parent, password)\u001b[0m\n\u001b[1;32m   1217\u001b[0m             \u001b[0;32mexcept\u001b[0m \u001b[0mKeyboardInterrupt\u001b[0m\u001b[0;34m:\u001b[0m\u001b[0;34m\u001b[0m\u001b[0;34m\u001b[0m\u001b[0m\n\u001b[1;32m   1218\u001b[0m                 \u001b[0;31m# re-raise KeyboardInterrupt, to truncate traceback\u001b[0m\u001b[0;34m\u001b[0m\u001b[0;34m\u001b[0m\u001b[0m\n\u001b[0;32m-> 1219\u001b[0;31m                 \u001b[0;32mraise\u001b[0m \u001b[0mKeyboardInterrupt\u001b[0m\u001b[0;34m(\u001b[0m\u001b[0;34m\"Interrupted by user\"\u001b[0m\u001b[0;34m)\u001b[0m \u001b[0;32mfrom\u001b[0m \u001b[0;32mNone\u001b[0m\u001b[0;34m\u001b[0m\u001b[0;34m\u001b[0m\u001b[0m\n\u001b[0m\u001b[1;32m   1220\u001b[0m             \u001b[0;32mexcept\u001b[0m \u001b[0mException\u001b[0m\u001b[0;34m:\u001b[0m\u001b[0;34m\u001b[0m\u001b[0;34m\u001b[0m\u001b[0m\n\u001b[1;32m   1221\u001b[0m                 \u001b[0mself\u001b[0m\u001b[0;34m.\u001b[0m\u001b[0mlog\u001b[0m\u001b[0;34m.\u001b[0m\u001b[0mwarning\u001b[0m\u001b[0;34m(\u001b[0m\u001b[0;34m\"Invalid Message:\"\u001b[0m\u001b[0;34m,\u001b[0m \u001b[0mexc_info\u001b[0m\u001b[0;34m=\u001b[0m\u001b[0;32mTrue\u001b[0m\u001b[0;34m)\u001b[0m\u001b[0;34m\u001b[0m\u001b[0;34m\u001b[0m\u001b[0m\n",
            "\u001b[0;31mKeyboardInterrupt\u001b[0m: Interrupted by user"
          ]
        }
      ]
    },
    {
      "cell_type": "code",
      "source": [
        "def 함수_사람정보반환():\n",
        "    return input(\"사람 성명, 성별, 나이를 ,로 구분해서 입력:\").split(',')\n",
        "    #사람정보 = input(\"사람 성명, 성별, 나이를 ,로 구분해서 입력:\").split(',')\n",
        "    #return 사람정보"
      ],
      "metadata": {
        "id": "aTca-XhZPzKP"
      },
      "execution_count": null,
      "outputs": []
    },
    {
      "cell_type": "code",
      "source": [
        "for 인덱스 in range(사람명수):\n",
        "    #사람정보 = 함수_사람정보반환()\n",
        "    #사람정보_리스트.append(사람정보)\n",
        "    사람정보_리스트.append(함수_사람정보반환())"
      ],
      "metadata": {
        "id": "qKGCrjFdQV3a"
      },
      "execution_count": null,
      "outputs": []
    },
    {
      "cell_type": "code",
      "source": [
        "print(사람정보_리스트)"
      ],
      "metadata": {
        "colab": {
          "base_uri": "https://localhost:8080/",
          "height": 148
        },
        "id": "FAQD2PkI3M4L",
        "outputId": "1af0db6c-50dc-47e6-a973-0fd4770b4a0b"
      },
      "execution_count": null,
      "outputs": [
        {
          "output_type": "error",
          "ename": "NameError",
          "evalue": "name '사람정보_리스트' is not defined",
          "traceback": [
            "\u001b[0;31m---------------------------------------------------------------------------\u001b[0m",
            "\u001b[0;31mNameError\u001b[0m                                 Traceback (most recent call last)",
            "\u001b[0;32m<ipython-input-1-0c26cb95dfdd>\u001b[0m in \u001b[0;36m<cell line: 0>\u001b[0;34m()\u001b[0m\n\u001b[0;32m----> 1\u001b[0;31m \u001b[0mprint\u001b[0m\u001b[0;34m(\u001b[0m\u001b[0m사람정보_리스트\u001b[0m\u001b[0;34m)\u001b[0m\u001b[0;34m\u001b[0m\u001b[0;34m\u001b[0m\u001b[0m\n\u001b[0m",
            "\u001b[0;31mNameError\u001b[0m: name '사람정보_리스트' is not defined"
          ]
        }
      ]
    }
  ]
}