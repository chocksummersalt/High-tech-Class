{
  "nbformat": 4,
  "nbformat_minor": 0,
  "metadata": {
    "colab": {
      "provenance": [],
      "authorship_tag": "ABX9TyOfqhpENO5sxdTaRJxztjID",
      "include_colab_link": true
    },
    "kernelspec": {
      "name": "python3",
      "display_name": "Python 3"
    },
    "language_info": {
      "name": "python"
    }
  },
  "cells": [
    {
      "cell_type": "markdown",
      "metadata": {
        "id": "view-in-github",
        "colab_type": "text"
      },
      "source": [
        "<a href=\"https://colab.research.google.com/github/chocksummersalt/python/blob/main/%EC%9C%84%ED%82%A4%EB%8F%85%EC%8A%A4_31_40.ipynb\" target=\"_parent\"><img src=\"https://colab.research.google.com/assets/colab-badge.svg\" alt=\"Open In Colab\"/></a>"
      ]
    },
    {
      "cell_type": "code",
      "execution_count": null,
      "metadata": {
        "colab": {
          "base_uri": "https://localhost:8080/"
        },
        "id": "cEyIsxRChRL7",
        "outputId": "9c7ddd2a-d18b-4316-db18-1d7d36387e64"
      },
      "outputs": [
        {
          "output_type": "stream",
          "name": "stdout",
          "text": [
            "34\n"
          ]
        }
      ],
      "source": [
        "#31. 결과를 예상해보세요\n",
        "c = \"3\"\n",
        "b = \"4\"\n",
        "print(c + b)\n",
        "#예상 = 34 문자열끼리 더한거로 쳐서 string으로 유지될것으로 보임\n",
        "#답 = 34"
      ]
    },
    {
      "cell_type": "code",
      "source": [
        "#32. 결과를 예상해보세요\n",
        "print(\"Hi\" * 3)\n",
        "#예상 = HIHIHI 같은 문자열 반복 요청으로 보임\n",
        "#답 Hi Hi Hi"
      ],
      "metadata": {
        "id": "8aZPh1bElOQX"
      },
      "execution_count": null,
      "outputs": []
    },
    {
      "cell_type": "code",
      "source": [
        "#33. 화면에 -를 80개 출력하세요\n",
        "#답\n",
        "t = \"-\"\n",
        "print(t * 80)\n",
        "#배운점 -"
      ],
      "metadata": {
        "id": "7b8urnizlPW2"
      },
      "execution_count": null,
      "outputs": []
    },
    {
      "cell_type": "code",
      "source": [
        "#34. 변수에 문자열 더하기와 곱하기를 사용해서\n",
        "#python java python java python java를 출력하기\n",
        "t1 = \"python\"\n",
        "t2 = \"java\"\n",
        "result = (t1 + \" \" + t2 + \" \") * 4\n",
        "print (result)\n",
        "\n",
        "#배운점 문자열끼리의 조합 때 띄어쓰기는 따로 넣어줘야 한다."
      ],
      "metadata": {
        "id": "zE5p2OyqlPyG"
      },
      "execution_count": null,
      "outputs": []
    },
    {
      "cell_type": "code",
      "source": [
        "#35. 변수에 문자열과 정수가 바인디 되어있을 때\n",
        "#%formatting 을 사용해서 이름: 김민수 나이: 10 이렇게 출력해보세요\n",
        "name1 = \"김민수\"\n",
        "age = 10\n",
        "print(\"이름: %s 나이: %d\" % (name1, age))\n",
        "#배운점 c언어에서의 프린트 대치문자와 같다. 다른점은 사용할때 %로 묶어야 하는 점이다."
      ],
      "metadata": {
        "id": "nBBWCZyvlQ5_"
      },
      "execution_count": null,
      "outputs": []
    },
    {
      "cell_type": "code",
      "source": [
        "#36. format()을 사용해서 35번 다시 풀기\n",
        "print(\"이름 : {} 나이: {}\".format(name1, age))\n"
      ],
      "metadata": {
        "id": "7lmfccmflQPe"
      },
      "execution_count": null,
      "outputs": []
    },
    {
      "cell_type": "code",
      "source": [
        "#37.f-string을 사용해서 35번 문제 풀어보기\n",
        "#f-string 사용법 print(f\"문자열{name1} 문자열 {age})\n",
        "print(f\"이름 : {name1} 나이 : {age}\")\n",
        "#배운점"
      ],
      "metadata": {
        "id": "nEHqIMTNlVw2"
      },
      "execution_count": null,
      "outputs": []
    },
    {
      "cell_type": "code",
      "source": [
        "#38 상장주식수의 컴마를 제거한 후 이를 정수타입으로 변환\n",
        "a = \"5,969,782,550\"\n",
        "a_2= a.replace(\",\", \"\")\n",
        "print(int(a_2))\n",
        "#배운점"
      ],
      "metadata": {
        "colab": {
          "base_uri": "https://localhost:8080/"
        },
        "id": "m-pOMIsWlTnW",
        "outputId": "9af7150f-03da-44d2-d63a-ce438f870c0a"
      },
      "execution_count": null,
      "outputs": [
        {
          "output_type": "stream",
          "name": "stdout",
          "text": [
            "5969782550\n"
          ]
        }
      ]
    },
    {
      "cell_type": "code",
      "source": [
        "#39. 2020/03(E) (IFRS연결) 에서 2020/03만 출력하세요\n",
        "g =\"2020/03(E) (IFRS연결)\"\n",
        "print(g[:7])\n",
        "#배운점"
      ],
      "metadata": {
        "id": "p2-KiXODlTCf",
        "colab": {
          "base_uri": "https://localhost:8080/"
        },
        "outputId": "d17a9df3-0091-4f78-b098-4dec6a8e2da7"
      },
      "execution_count": null,
      "outputs": [
        {
          "output_type": "stream",
          "name": "stdout",
          "text": [
            "2020/03\n"
          ]
        }
      ]
    },
    {
      "cell_type": "code",
      "source": [
        "#40.문자열의 좌우 공백 제거\n",
        "data = \"   삼성전자  \"\n",
        "print(data, sep=\"\")"
      ],
      "metadata": {
        "id": "S2-J5vy-lWnu",
        "colab": {
          "base_uri": "https://localhost:8080/"
        },
        "outputId": "0acd36f8-fe0b-4334-faf6-63816ffd9133"
      },
      "execution_count": null,
      "outputs": [
        {
          "output_type": "stream",
          "name": "stdout",
          "text": [
            "   삼성전자  \n"
          ]
        }
      ]
    }
  ]
}