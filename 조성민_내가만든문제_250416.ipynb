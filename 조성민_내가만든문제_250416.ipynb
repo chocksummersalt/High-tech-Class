{
  "nbformat": 4,
  "nbformat_minor": 0,
  "metadata": {
    "colab": {
      "provenance": [],
      "authorship_tag": "ABX9TyNtmbMqkuh1BMtYl5btteSH",
      "include_colab_link": true
    },
    "kernelspec": {
      "name": "python3",
      "display_name": "Python 3"
    },
    "language_info": {
      "name": "python"
    }
  },
  "cells": [
    {
      "cell_type": "markdown",
      "metadata": {
        "id": "view-in-github",
        "colab_type": "text"
      },
      "source": [
        "<a href=\"https://colab.research.google.com/github/chocksummersalt/python/blob/main/%EC%A1%B0%EC%84%B1%EB%AF%BC_%EB%82%B4%EA%B0%80%EB%A7%8C%EB%93%A0%EB%AC%B8%EC%A0%9C_250416.ipynb\" target=\"_parent\"><img src=\"https://colab.research.google.com/assets/colab-badge.svg\" alt=\"Open In Colab\"/></a>"
      ]
    },
    {
      "cell_type": "code",
      "execution_count": null,
      "metadata": {
        "colab": {
          "base_uri": "https://localhost:8080/"
        },
        "id": "OEYKJaSaYE5H",
        "outputId": "21514816-ac23-4763-f59b-c3d52ec0d6e4"
      },
      "outputs": [
        {
          "output_type": "stream",
          "name": "stdout",
          "text": [
            "이름을 입력하세요 (그만하려면 '종료' 입력): 조성민\n",
            "조성민의 출근 일수를 입력하세요: 3123\n",
            "이름을 입력하세요 (그만하려면 '종료' 입력): 종료\n",
            "\n",
            "검색할 이름을 입력하세요 (종료하려면 '종료' 입력): 조성민\n",
            "조성민의 휴가 일수는 156일입니다.\n"
          ]
        }
      ],
      "source": [
        "#휴가 일수 계산기\n",
        "#1. 휴가는 20일 출근에 1일이 부여된다.\n",
        "휴가 = 0\n",
        "\n",
        "def 휴가일수계산기(출근일수):\n",
        "\n",
        "    return 출근일수//20\n",
        "\n",
        "\n",
        "#2. 출근 일을 입력하면 휴가를 계산하는 함수\n",
        "\n",
        "\n",
        "#3. 이름을 넣을 딕셔너리를 생성 총 10명 %\n",
        "이름과휴가= {}\n",
        "for _ in range(10):\n",
        "    이름입력 = input(\"이름을 입력하세요 (그만하려면 '종료' 입력): \")\n",
        "    if 이름입력 == \"종료\":\n",
        "        break\n",
        "\n",
        "    출근일수입력 = int(input(f\"{이름입력}의 출근 일수를 입력하세요: \"))\n",
        "    휴가일수 = 휴가일수계산기(출근일수입력)\n",
        "\n",
        "    이름과휴가[이름입력] = 휴가일수\n",
        "\n",
        "while True:\n",
        "    검색이름 = input(\"\\n검색할 이름을 입력하세요 (종료하려면 '종료' 입력): \")\n",
        "    if 검색이름 == \"종료\":\n",
        "        print(\"검색을 종료합니다.\")\n",
        "        break\n",
        "\n",
        "    if 검색이름 in 이름과휴가:\n",
        "        print(f\"{검색이름}의 휴가 일수는 {이름과휴가[검색이름]}일입니다.\")\n",
        "    else:\n",
        "        print(f\"{검색이름}은(는) 목록에 없습니다.\")"
      ]
    }
  ]
}