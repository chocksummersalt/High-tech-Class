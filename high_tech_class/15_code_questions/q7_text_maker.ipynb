{
  "nbformat": 4,
  "nbformat_minor": 0,
  "metadata": {
    "colab": {
      "provenance": [],
      "authorship_tag": "ABX9TyPNVU38kcTrZFCrTklpfzwc",
      "include_colab_link": true
    },
    "kernelspec": {
      "name": "python3",
      "display_name": "Python 3"
    },
    "language_info": {
      "name": "python"
    }
  },
  "cells": [
    {
      "cell_type": "markdown",
      "metadata": {
        "id": "view-in-github",
        "colab_type": "text"
      },
      "source": [
        "<a href=\"https://colab.research.google.com/github/chocksummersalt/python/blob/main/high_tech_class/15_code_questions/q7_text_maker.ipynb\" target=\"_parent\"><img src=\"https://colab.research.google.com/assets/colab-badge.svg\" alt=\"Open In Colab\"/></a>"
      ]
    },
    {
      "cell_type": "code",
      "execution_count": null,
      "metadata": {
        "id": "5UWqHfaYNPzi"
      },
      "outputs": [],
      "source": [
        "#7번 #여러 개의 단어로 이루어진 배열이 주어집니다.\n",
        "#또한 slices 라는 배열이 주어 집니다.\n",
        "#각 단어에서 특정 구간(부분 문자열)을 잘라 조합하여\n",
        "# \"polytech\"가 나오도록 코드를 짜보시오\n",
        "#def hidden_word (words, slices):\n",
        "  #  answer = \"\"\n",
        "\n",
        " #   return answer\n",
        "words = [\"apocalypse\",\"meteorology\",\"architect\",\"cheetah\"]\n",
        "slices = [[(1, 2), (5, 6)],[(2, 3)],[(2, 2)],[(1, 1)]]\n",
        "\n",
        "po = words[0][1:3]\n",
        "ly = words[1][7:8]+words[1][10:11]\n",
        "te = words[2][5:7]\n",
        "ch = words[3][0:2]\n",
        "print(po+ly+te+ch)"
      ]
    }
  ]
}