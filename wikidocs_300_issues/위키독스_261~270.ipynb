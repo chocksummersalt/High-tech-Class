{
  "nbformat": 4,
  "nbformat_minor": 0,
  "metadata": {
    "colab": {
      "provenance": [],
      "authorship_tag": "ABX9TyNEGBg0akP/44oghFMbSwbw",
      "include_colab_link": true
    },
    "kernelspec": {
      "name": "python3",
      "display_name": "Python 3"
    },
    "language_info": {
      "name": "python"
    }
  },
  "cells": [
    {
      "cell_type": "markdown",
      "metadata": {
        "id": "view-in-github",
        "colab_type": "text"
      },
      "source": [
        "<a href=\"https://colab.research.google.com/github/chocksummersalt/Python_Study/blob/main/wikidocs_300_issues/%EC%9C%84%ED%82%A4%EB%8F%85%EC%8A%A4_261~270.ipynb\" target=\"_parent\"><img src=\"https://colab.research.google.com/assets/colab-badge.svg\" alt=\"Open In Colab\"/></a>"
      ]
    },
    {
      "cell_type": "code",
      "source": [
        "#261 종목명과 종목 코드를 입력받을 수 있는 생성자를 만드시오\n",
        "\n",
        "#삼성 = Stock(\"삼성전자\", \"005930\")\n",
        "class Stock:\n",
        "    def __init__(self, name, code) :\n",
        "\n",
        "        self.name = name\n",
        "        self.code = code\n",
        "\n",
        "삼성 = Stock(\"삼성전자\", \"005930\")\n",
        "print(삼성.name)\n",
        "print(삼성.code)"
      ],
      "metadata": {
        "id": "l9q73ecHrCRO",
        "colab": {
          "base_uri": "https://localhost:8080/"
        },
        "outputId": "9a1972be-75c1-4af8-b787-c0291492b60b"
      },
      "execution_count": 5,
      "outputs": [
        {
          "output_type": "stream",
          "name": "stdout",
          "text": [
            "삼성전자\n",
            "005930\n"
          ]
        }
      ]
    },
    {
      "cell_type": "code",
      "source": [
        "#262 객체에 종목명을 입력할 수 있는 메서드를 추가해보세요\n",
        "\n",
        "class Stock:\n",
        "    def __init__(self, name, code):\n",
        "\n",
        "        self.name = name\n",
        "        self.code = code\n",
        "\n",
        "    def set_name(self, name):\n",
        "        self.name = name\n",
        "\n",
        "a = Stock(None, None)\n",
        "a.set_name(\"삼성전자\")\n",
        "print(a.name)"
      ],
      "metadata": {
        "id": "4WtU1iVtrBnY",
        "colab": {
          "base_uri": "https://localhost:8080/"
        },
        "outputId": "52298e44-f819-4283-d97b-c3027429aa4f"
      },
      "execution_count": 10,
      "outputs": [
        {
          "output_type": "stream",
          "name": "stdout",
          "text": [
            "삼성전자\n"
          ]
        }
      ]
    },
    {
      "cell_type": "code",
      "source": [
        "#263 코드명을 쓸 수 있는 메서드를 추가해보세요\n",
        "class Stock:\n",
        "    def __init__ (self, name, code):\n",
        "\n",
        "        self.name = name\n",
        "        self.code = code\n",
        "\n",
        "    def set_code(self, code):\n",
        "        self.code = code\n",
        "\n",
        "a = Stock(None, None)\n",
        "a.set_code(\"12312312\")\n",
        "print(a.code)\n"
      ],
      "metadata": {
        "id": "dxwaofDirA9U",
        "colab": {
          "base_uri": "https://localhost:8080/"
        },
        "outputId": "6898a21e-fefd-471c-eabb-37eec611b440"
      },
      "execution_count": 11,
      "outputs": [
        {
          "output_type": "stream",
          "name": "stdout",
          "text": [
            "12312312\n"
          ]
        }
      ]
    },
    {
      "cell_type": "code",
      "source": [
        "#264 종목명과 코드를 반환하는 메서드를 만드세요\n",
        "\n",
        "class Stock:\n",
        "    def __init__ (self,name,code, per):\n",
        "        self.name = name\n",
        "        self.code = code\n",
        "        self.per = per\n",
        "\n",
        "    def set_code(self, code):\n",
        "        self.code = code\n",
        "\n",
        "    def set_name(self, name):\n",
        "        self.name = name\n",
        "\n",
        "    def set_per(self, per):\n",
        "        self.per = per\n",
        "\n",
        "a =Stock(None, None, None)\n",
        "a.set_name(\"삼성전자\")\n",
        "a.set_code(\"123123\")\n",
        "a.set_per(\"132\")\n",
        "print(a.name, a.code, a.per)"
      ],
      "metadata": {
        "id": "ySyC_9fCrAYF",
        "colab": {
          "base_uri": "https://localhost:8080/"
        },
        "outputId": "21695788-2117-4186-9fc8-91d13ab52ce3"
      },
      "execution_count": 17,
      "outputs": [
        {
          "output_type": "stream",
          "name": "stdout",
          "text": [
            "삼성전자 123123 132\n"
          ]
        }
      ]
    },
    {
      "cell_type": "code",
      "source": [
        "#265 생성자에서 종목명, 종목코드, PER, PBR, 배당수익률을 입력 받을 수 있도록\n",
        "#생성자를 수정하세요. PER, PBR, 배당수익률은 float 타입입니다.\n",
        "\n",
        "class Stock:\n",
        "    def __init__ (self,name,code, per, pbr, 배당수익률):\n",
        "        self.name = name\n",
        "        self.code = code\n",
        "        self.per = per\n",
        "        self.pbr = pbr\n",
        "        self.배당수익률 = 배당수익률\n",
        "\n",
        "    def set_code(self, code):\n",
        "        self.code = code\n",
        "\n",
        "    def set_name(self, name):\n",
        "        self.name = name\n",
        "\n",
        "    def set_per(self, per):\n",
        "        self.per = per\n",
        "\n",
        "    def set_pbr(self, pbr):\n",
        "        self.pbr = pbr\n",
        "\n",
        "    def set_배당수익률(self, 배당수익률):\n",
        ""
      ],
      "metadata": {
        "id": "DO4tz8hfq_2g"
      },
      "execution_count": null,
      "outputs": []
    },
    {
      "cell_type": "code",
      "source": [
        "#266 265에서 나온 것들이 값을 출력하도록 하시오\n",
        "\n",
        "class Stock:\n",
        "    def __init__ (self,name,code, per, pbr, 배당수익률):\n",
        "        self.name = name\n",
        "        self.code = code\n",
        "        self.per = per\n",
        "        self.pbr = pbr\n",
        "        self.배당수익률 = 배당수익률\n",
        "\n",
        "    def set_code(self, code):\n",
        "        self.code = code\n",
        "\n",
        "    def set_name(self, name):\n",
        "        self.name = name\n",
        "\n",
        "    def set_per(self, per):\n",
        "        self.per = per\n",
        "\n",
        "    def set_pbr(self, pbr):\n",
        "        self.pbr = pbr\n",
        "\n",
        "    def set_배당수익률(self, 배당수익률):\n",
        "        self.배당수익률 = 배당수익률\n",
        "\n",
        "삼성 = Stock(\"삼성전자\", \"005930\", 15.79, 1.33, 2.83)\n",
        "print(삼성.배당수익률)"
      ],
      "metadata": {
        "id": "QA2LlWiLq_Gl",
        "colab": {
          "base_uri": "https://localhost:8080/"
        },
        "outputId": "8071b38b-1f31-45b4-9b71-2fd5d5ae4b06"
      },
      "execution_count": 21,
      "outputs": [
        {
          "output_type": "stream",
          "name": "stdout",
          "text": [
            "2.83\n"
          ]
        }
      ]
    },
    {
      "cell_type": "code",
      "source": [
        "#267 PER, PBR, 배당수익률은 변경될 수 있는 값입니다.\n",
        "# 이 값을 변경할 때 사용하는 set_per, set_pbr, set_dividend 메서드를 추가하세요.\n",
        "\n",
        "class Stock:\n",
        "    def __init__(self, name, code, per, pbr, 배당수익률):\n",
        "        self.name = name\n",
        "        self.code = code\n",
        "        self.per = per\n",
        "        self.pbr = pbr\n",
        "        self.배당수익률 = 배당수익률\n",
        "\n",
        "    def set_name(self, name):\n",
        "        self.name = name\n",
        "\n",
        "    def set_code(self, code):\n",
        "        self.code = code\n",
        "\n",
        "    def get_name(self, name):\n",
        "        self.name = name\n",
        "\n",
        "    def get_code(self, code):\n",
        "        self.code = code\n",
        "\n",
        "    def set_배당수익률(self, 배당수익률):\n",
        "        self.배당수익률 = 배당수익률\n",
        "\n",
        "    def set_per(self, per):\n",
        "        self.per = per\n",
        "\n",
        "    def set_pbr(self, pbr):\n",
        "        self.pbr = pbr\n"
      ],
      "metadata": {
        "id": "ihlOBJvmq-Rn"
      },
      "execution_count": 23,
      "outputs": []
    },
    {
      "cell_type": "code",
      "source": [
        "#268 266번의 값중에 per 값을 set_per 매서드로 수정해보시오\n",
        "class Stock:\n",
        "    def __init__(self, name, code, per, pbr, 배당수익률):\n",
        "        self.name = name\n",
        "        self.code = code\n",
        "        self.per = per\n",
        "        self.pbr = pbr\n",
        "        self.배당수익률 = 배당수익률\n",
        "\n",
        "    def set_name(self, name):\n",
        "        self.name = name\n",
        "\n",
        "    def set_code(self, code):\n",
        "        self.code = code\n",
        "\n",
        "    def get_name(self, name):\n",
        "        self.name = name\n",
        "\n",
        "    def get_code(self, code):\n",
        "        self.code = code\n",
        "\n",
        "    def set_배당수익률(self, 배당수익률):\n",
        "        self.배당수익률 = 배당수익률\n",
        "\n",
        "    def set_per(self, per):\n",
        "        self.per = per\n",
        "\n",
        "    def set_pbr(self, pbr):\n",
        "        self.pbr = pbr\n",
        "\n",
        "삼성 = Stock(\"삼성전자\", \"005930\", 15.79, 1.33, 2.83)\n",
        "삼성.set_per(1.44)\n",
        "print(삼성.per)"
      ],
      "metadata": {
        "id": "ow8FSPPnq9nk",
        "colab": {
          "base_uri": "https://localhost:8080/"
        },
        "outputId": "c7ba0a66-f5a8-426b-a3bc-cd08f5b82b76"
      },
      "execution_count": 24,
      "outputs": [
        {
          "output_type": "stream",
          "name": "stdout",
          "text": [
            "1.44\n"
          ]
        }
      ]
    },
    {
      "cell_type": "code",
      "source": [
        "#269\n",
        "종목 = []\n",
        "class Stock :\n",
        "    def __init__(self, name, code, per, pbr, 배당수익률):\n",
        "        self.name = name\n",
        "        self.code = code\n",
        "        self.per = per\n",
        "        self.pbr = pbr\n",
        "        self.배당수익률 = 배당수익률\n",
        "\n",
        "    def set_name(self, name):\n",
        "        self.name = name\n",
        "\n",
        "    def set_code(self, code):\n",
        "        self.code = code\n",
        "\n",
        "    def get_name(self, name):\n",
        "        self.name = name\n",
        "\n",
        "    def get_code(self, code):\n",
        "        self.code = code\n",
        "\n",
        "    def set_배당수익률(self, 배당수익률):\n",
        "        self.배당수익률 = 배당수익률\n",
        "\n",
        "    def set_per(self, per):\n",
        "        self.per = per\n",
        "\n",
        "    def set_pbr(self, pbr):\n",
        "        self.pbr=pbr\n",
        "\n",
        "\n",
        "삼성 = Stock(\"삼성전자\", \"005930\", 15.79, 1.33, 2.83)\n",
        "현대차 = Stock(\"현대차\", \"005380\", 8.70, 0.35, 4.27)\n",
        "LG전자 = Stock(\"LG전자\", \"066570\", 317.34, 0.69, 1.37)\n",
        "\n",
        "종목.append(삼성)\n",
        "종목.append(현대차)\n",
        "종목.append(LG전자)\n",
        "\n",
        "for i in 종목:\n",
        "    print(i.code, i.per)"
      ],
      "metadata": {
        "id": "M_9B9-Nzq89Y",
        "colab": {
          "base_uri": "https://localhost:8080/"
        },
        "outputId": "38198cce-9927-4213-c130-2d86070dfa15"
      },
      "execution_count": 26,
      "outputs": [
        {
          "output_type": "stream",
          "name": "stdout",
          "text": [
            "005930 15.79\n",
            "005380 8.7\n",
            "066570 317.34\n"
          ]
        }
      ]
    },
    {
      "cell_type": "code",
      "execution_count": null,
      "metadata": {
        "id": "n2GO7f-Oq3-B"
      },
      "outputs": [],
      "source": [
        "#270"
      ]
    }
  ]
}