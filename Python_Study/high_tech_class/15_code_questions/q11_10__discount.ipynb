{
  "nbformat": 4,
  "nbformat_minor": 0,
  "metadata": {
    "colab": {
      "provenance": [],
      "authorship_tag": "ABX9TyMafvfY4pJZZBj85PVR6D6C",
      "include_colab_link": true
    },
    "kernelspec": {
      "name": "python3",
      "display_name": "Python 3"
    },
    "language_info": {
      "name": "python"
    }
  },
  "cells": [
    {
      "cell_type": "markdown",
      "metadata": {
        "id": "view-in-github",
        "colab_type": "text"
      },
      "source": [
        "<a href=\"https://colab.research.google.com/github/chocksummersalt/python/blob/main/high_tech_class/q11_10__discount.ipynb\" target=\"_parent\"><img src=\"https://colab.research.google.com/assets/colab-badge.svg\" alt=\"Open In Colab\"/></a>"
      ]
    },
    {
      "cell_type": "code",
      "execution_count": null,
      "metadata": {
        "id": "0wpbWVSqUfPB"
      },
      "outputs": [],
      "source": [
        "#11번 물건 가격이 10,000이상이면 10% 할인\n",
        "#미만이면 할인x 여러 개의 물건을 샀을 때 최종 지불 금액 출력\n",
        "\n",
        "물건 = 0\n",
        "장바구니=[]\n",
        "while True:\n",
        "    물건 = input(\"물건 가격 입력 (그만하려면 '끝' 입력): \")\n",
        "\n",
        "    if 물건 == \"끝\":\n",
        "        break\n",
        "    가격 = int(물건)\n",
        "    if 가격 >= 10000:\n",
        "     할인가 = 가격*9/10\n",
        "     장바구니.append(할인가)\n",
        "    else:\n",
        "     장바구니.append(가격)\n",
        "\n",
        "print(sum(장바구니))"
      ]
    }
  ]
}
