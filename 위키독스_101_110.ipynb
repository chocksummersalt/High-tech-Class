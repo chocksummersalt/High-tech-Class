{
  "nbformat": 4,
  "nbformat_minor": 0,
  "metadata": {
    "colab": {
      "provenance": [],
      "authorship_tag": "ABX9TyOOX4q5b85ysizK+z7QRBvI",
      "include_colab_link": true
    },
    "kernelspec": {
      "name": "python3",
      "display_name": "Python 3"
    },
    "language_info": {
      "name": "python"
    }
  },
  "cells": [
    {
      "cell_type": "markdown",
      "metadata": {
        "id": "view-in-github",
        "colab_type": "text"
      },
      "source": [
        "<a href=\"https://colab.research.google.com/github/chocksummersalt/python/blob/main/%EC%9C%84%ED%82%A4%EB%8F%85%EC%8A%A4_101_110.ipynb\" target=\"_parent\"><img src=\"https://colab.research.google.com/assets/colab-badge.svg\" alt=\"Open In Colab\"/></a>"
      ]
    },
    {
      "cell_type": "code",
      "source": [
        "#101 파이썬에서 True혹은 False값을 갖는 데이터 타입은?\n",
        "#답. 논리연산자, 비교연산자, 부호연산자, *bool타입이 있다고 한다.\n",
        "#이건 True, False 값을 갖는 타입이다."
      ],
      "metadata": {
        "id": "Sw2ObuchAKRB"
      },
      "execution_count": null,
      "outputs": []
    },
    {
      "cell_type": "code",
      "source": [
        "#102 print(3 == 5)의 결과를 예상하라\n",
        "#답 False 0"
      ],
      "metadata": {
        "id": "z7zK22QyAKOA"
      },
      "execution_count": null,
      "outputs": []
    },
    {
      "cell_type": "code",
      "source": [
        "#103 print(3 < 5)의 결과를 예상하라\n",
        "#답 True 1\n",
        "#배운 점 : 연산 순서는 오른쪽에서 왼쪽이다. \"5는 3보다 큰가\" 이렇게 5는 3보다 큰가!"
      ],
      "metadata": {
        "id": "z0Eog7zjAKLI"
      },
      "execution_count": null,
      "outputs": []
    },
    {
      "cell_type": "code",
      "source": [
        "#104 print((3 == 3) and (4 != 3))의 결과를 예상하라\n",
        "#답 true true 니까 true and는 둘다 참을 만족해야한다."
      ],
      "metadata": {
        "id": "rjNeGZQPAKIA"
      },
      "execution_count": null,
      "outputs": []
    },
    {
      "cell_type": "code",
      "source": [
        "#105 print(3 => 4)에서 오류가 나는 원인을 설명하라\n",
        "#답 <= 또는 >= 이렇게 써야한다."
      ],
      "metadata": {
        "id": "JxCOkpPgAKFI"
      },
      "execution_count": null,
      "outputs": []
    },
    {
      "cell_type": "code",
      "source": [
        "#106 아래 코드의 출력 결과를 예상하라\n",
        "#if 4 < 3:\n",
        " # print(\"hello world\")\n",
        " #답 아무결과 나오지 않음 조건을 충족하지 않았음"
      ],
      "metadata": {
        "id": "gCWZtQq_AKCI"
      },
      "execution_count": null,
      "outputs": []
    },
    {
      "cell_type": "code",
      "source": [
        "#107\n",
        "#x=4\n",
        "#print(1 < x < 5) 의 결과를 예상하라\n",
        "#답  True"
      ],
      "metadata": {
        "id": "9LWXK5VDAJ_J"
      },
      "execution_count": null,
      "outputs": []
    },
    {
      "cell_type": "code",
      "source": [
        "#108\n",
        "#if 4 < 3:\n",
        " #   print(\"Hello World.\")\n",
        "#else:\n",
        " #   print(\"Hi, there.\")\n",
        "#의 결과를 예상하라\n",
        "#답 Hi there else 는 조건 밖의 경우를 실행시켜주니까"
      ],
      "metadata": {
        "id": "AuCqxiRUAJxK"
      },
      "execution_count": null,
      "outputs": []
    },
    {
      "cell_type": "code",
      "execution_count": null,
      "metadata": {
        "id": "fbsQy5ryAHI3"
      },
      "outputs": [],
      "source": [
        "#109\n",
        "#if True :\n",
        " #   print (\"1\")\n",
        "  #  print (\"2\")\n",
        "#else :\n",
        " #   print(\"3\")\n",
        "#print(\"4\")\n",
        "#의 출력결과를 예상하라\n",
        "#답 1, 2, 4 if가 true니까 무조건 실행이고 코드블록 밖에 있는 프린트도 실행됨"
      ]
    },
    {
      "cell_type": "code",
      "source": [
        "#110\n",
        "#if True :\n",
        "#    if False:\n",
        "#        print(\"1\")\n",
        "#        print(\"2\")\n",
        "#   else:\n",
        "#        print(\"3\")\n",
        "#else :\n",
        "#    print(\"4\")\n",
        "#print(\"5\")\n",
        "#의 출력결과를 예상하라\n",
        "#답 3, 5"
      ],
      "metadata": {
        "id": "ZQ9not2-AQVx"
      },
      "execution_count": null,
      "outputs": []
    }
  ]
}