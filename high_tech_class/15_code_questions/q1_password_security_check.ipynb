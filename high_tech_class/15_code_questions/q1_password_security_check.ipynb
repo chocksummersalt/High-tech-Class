{
  "nbformat": 4,
  "nbformat_minor": 0,
  "metadata": {
    "colab": {
      "provenance": [],
      "authorship_tag": "ABX9TyMh8f3yEgNLxjWHEN394Mfs",
      "include_colab_link": true
    },
    "kernelspec": {
      "name": "python3",
      "display_name": "Python 3"
    },
    "language_info": {
      "name": "python"
    }
  },
  "cells": [
    {
      "cell_type": "markdown",
      "metadata": {
        "id": "view-in-github",
        "colab_type": "text"
      },
      "source": [
        "<a href=\"https://colab.research.google.com/github/chocksummersalt/python/blob/main/high_tech_class/15_code_questions/q1_password_security_check.ipynb\" target=\"_parent\"><img src=\"https://colab.research.google.com/assets/colab-badge.svg\" alt=\"Open In Colab\"/></a>"
      ]
    },
    {
      "cell_type": "code",
      "execution_count": null,
      "metadata": {
        "id": "13vU2gxZLsmt"
      },
      "outputs": [],
      "source": [
        "#1번 비밀번호 강도 검사\n",
        "#비밀번호 입력받기\n",
        "#길이가 8자 이상이면 2점 숫자 하나이상 포함하면 2점 대문자포함 1점 소문자 포함 1점\n",
        "#각 조건은 별도의 함수로 검사하고 점수와 피드백 메세지를 반환\n",
        "#총점 6점 이상: 강도 강함\n",
        "#4~5점 : 강도 보통\n",
        "#3점 이하: 강도 약함\n",
        "#각 조건별 평가 메세지 반환 ex)숫자포함 O, 대문자 X, 소문자 O\n",
        "\n",
        "비밀번호=input(\"비밀번호를 입력하시오:\")\n",
        "\n",
        "count = 0\n",
        "if len(비밀번호) >= 8:\n",
        "    count= count + 2\n",
        "\n",
        "if any(c.isupper() for c in 비밀번호):\n",
        "\n",
        "    count = count + 1\n",
        "\n",
        "if any(j.lower() for j in 비밀번호):\n",
        " #   any(비밀번호.lower()) == True\n",
        "    count = count + 1\n",
        "\n",
        "#새로 알게된 부분.\n",
        "if any(d.isdigit() for d in 비밀번호):\n",
        "    count = count + 2\n",
        "\n",
        "if count >= 6:\n",
        "    print(\"강도 강함\")\n",
        "elif count >=4:\n",
        "    print(\"강도 보통\")\n",
        "else:\n",
        "    print(\"강도 약함\")"
      ]
    }
  ]
}