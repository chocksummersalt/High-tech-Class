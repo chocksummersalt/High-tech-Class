{
  "nbformat": 4,
  "nbformat_minor": 0,
  "metadata": {
    "colab": {
      "provenance": [],
      "authorship_tag": "ABX9TyPkIIuJ6KUZZUwt+H++JO0U",
      "include_colab_link": true
    },
    "kernelspec": {
      "name": "python3",
      "display_name": "Python 3"
    },
    "language_info": {
      "name": "python"
    }
  },
  "cells": [
    {
      "cell_type": "markdown",
      "metadata": {
        "id": "view-in-github",
        "colab_type": "text"
      },
      "source": [
        "<a href=\"https://colab.research.google.com/github/chocksummersalt/python/blob/main/high_tech_class/%ED%95%98%EC%9D%B4%ED%85%8C%ED%81%AC_Set%EB%82%B4%EC%9E%A5%ED%95%A8%EC%88%98_%EA%B3%BC%EC%A0%9C_AISW%EC%A1%B0%EC%84%B1%EB%AF%BC250317.ipynb\" target=\"_parent\"><img src=\"https://colab.research.google.com/assets/colab-badge.svg\" alt=\"Open In Colab\"/></a>"
      ]
    },
    {
      "cell_type": "code",
      "execution_count": null,
      "metadata": {
        "id": "hI3g56UjrH4k"
      },
      "outputs": [],
      "source": []
    },
    {
      "cell_type": "markdown",
      "source": [
        "##set내장함수\n",
        "|function|해석|\n",
        "|------|---|\n",
        "|all()|모든 아이템이 True면 True를 반환한다(혹은 Set이 비어있는 경우에도 True를 반환한다|\n",
        "|any()|하나의 아이템이라도 True면 True를 반환한다. 만약 Set이 비어있는 경우에는 False를 반환한다.|\n",
        "|enumerate()|인덱스와 숫자 쌍을 생성한다.|\n",
        "|len()|중복되지 않은 아이템의 갯수 또는 문자열의 길이를 반환함 |\n",
        "|max()|아이템 중 가장 큰수의(맨뒤의 알파벳) 아이템을 반환함.|\n",
        "|min()|아이템 중 가장 수가 작은(알파벳의 맨앞 순서) 아이템을 반환함.|\n",
        "|sorted()|아이템들을 오름차순으로 정리해서 새 set를 반환한다.|\n",
        "|sum()|Set 안에서의 모든 아이템들의 합을 반환한다.|"
      ],
      "metadata": {
        "id": "pEAIoKNbrrAE"
      }
    },
    {
      "cell_type": "code",
      "source": [
        "St = {3, 3, 1, 1, 2, 2}\n",
        "print(all(St))\n",
        "\n",
        "St_1 = {3, 3, 1, 1, 2, 2, 0}\n",
        "print(all(St_1))"
      ],
      "metadata": {
        "id": "mAycMdiU7Hd7",
        "colab": {
          "base_uri": "https://localhost:8080/"
        },
        "outputId": "4696d322-3e7c-4e4a-8347-a1fa03f6e6e2"
      },
      "execution_count": null,
      "outputs": [
        {
          "output_type": "stream",
          "name": "stdout",
          "text": [
            "True\n",
            "False\n"
          ]
        }
      ]
    },
    {
      "cell_type": "code",
      "source": [
        "St = {3, 3, 1, 1, 2, 2}\n",
        "print(any(St))\n",
        "\n",
        "St_1 = {3, 3, 1, 1, 2, 2, \"\"}\n",
        "print(any(St_1))\n",
        "\n",
        "St_2 = {3, 3, 1, 1, 2, 2, 0}\n",
        "print(any(St_2))\n",
        "\n",
        "St_3 = {0}\n",
        "print(any(St_3))\n",
        "\n",
        "St_4 = {0, \"\"}\n",
        "print(any(St_4))\n",
        "\n",
        "St_5 = {}\n",
        "print(any(St_5))"
      ],
      "metadata": {
        "colab": {
          "base_uri": "https://localhost:8080/"
        },
        "id": "chxMZEeo2Rqn",
        "outputId": "136e1b21-8275-4ae5-adef-c93bfe5bb96d"
      },
      "execution_count": null,
      "outputs": [
        {
          "output_type": "stream",
          "name": "stdout",
          "text": [
            "True\n",
            "True\n",
            "True\n",
            "False\n",
            "False\n",
            "False\n"
          ]
        }
      ]
    },
    {
      "cell_type": "code",
      "source": [
        "st_6 = {1, 2, 2, 3, \"apple\"}\n",
        "print(enumerate(st_6))\n",
        "#enumerate(st_6)이 참조하고 있는 메모리 주소값을 반환.\n",
        "#실제 값을 정해줄 수 있는 반복 연산이 가능한 형태로 변환해야함.\n",
        "#list로 변경후 출력.\n",
        "st_6 = {1, 2, 2, 3, \"apple\"}\n",
        "st_6_list = list(enumerate(st_6))\n",
        "print(st_6_list)"
      ],
      "metadata": {
        "colab": {
          "base_uri": "https://localhost:8080/"
        },
        "id": "f8OpP48y3DpO",
        "outputId": "006f7d93-b71a-46e7-cd3a-a5f82622c8ad"
      },
      "execution_count": null,
      "outputs": [
        {
          "output_type": "stream",
          "name": "stdout",
          "text": [
            "<enumerate object at 0x7e67261d9c10>\n",
            "[(0, 1), (1, 2), (2, 3), (3, 'apple')]\n",
            "0 1\n",
            "1 2\n",
            "2 3\n",
            "3 apple\n"
          ]
        }
      ]
    },
    {
      "cell_type": "code",
      "source": [
        "st_7 = {1, 2, 2, 3, \"apple\"}\n",
        "print(len(st_7))\n",
        "\n",
        "st_7_1 = {1, 2, 4, 3, \"apple\"}\n",
        "print(len(st_7_1))\n"
      ],
      "metadata": {
        "colab": {
          "base_uri": "https://localhost:8080/"
        },
        "id": "4gJ9mDyse03l",
        "outputId": "78ab5714-c838-4101-b59a-c57d431651df"
      },
      "execution_count": null,
      "outputs": [
        {
          "output_type": "stream",
          "name": "stdout",
          "text": [
            "4\n",
            "5\n"
          ]
        }
      ]
    },
    {
      "cell_type": "code",
      "source": [
        "st_8 = {1, 2, 2, 3}\n",
        "print(max(st_8))\n",
        "\n",
        "st_9 = {\"pinetree\", \"apple\", \"banana\"}\n",
        "print(max(st_9))\n",
        "\n",
        "\"\"\"st_8 = {1, 2, 2, 3, \"apple\"}\n",
        "print = max(st_8)\"\"\"\n",
        "#문자형과 정수형이 함께 max함수에 쓰일 수 없음."
      ],
      "metadata": {
        "colab": {
          "base_uri": "https://localhost:8080/",
          "height": 70
        },
        "id": "BP_LQo5Ze8cz",
        "outputId": "7e7cf294-fc55-48ee-f429-ef65d9547252"
      },
      "execution_count": null,
      "outputs": [
        {
          "output_type": "stream",
          "name": "stdout",
          "text": [
            "3\n",
            "pinetree\n"
          ]
        },
        {
          "output_type": "execute_result",
          "data": {
            "text/plain": [
              "'st_8 = {1, 2, 2, 3, \"apple\"}\\nprint = max(st_8)'"
            ],
            "application/vnd.google.colaboratory.intrinsic+json": {
              "type": "string"
            }
          },
          "metadata": {},
          "execution_count": 17
        }
      ]
    },
    {
      "cell_type": "code",
      "source": [
        "st_10 = {1, 2, 2, 3}\n",
        "print(min(st_10))\n",
        "\n",
        "st_11 = {\"pinetree\", \"apple\", \"banana\"}\n",
        "print(min(st_11))\n",
        "\n",
        "#문자형과 정수형이 함께 max함수에 쓰일 수 없음."
      ],
      "metadata": {
        "colab": {
          "base_uri": "https://localhost:8080/"
        },
        "id": "t_WTcKNNe9ub",
        "outputId": "d27dca6e-8bf2-4366-c891-9c639477f077"
      },
      "execution_count": null,
      "outputs": [
        {
          "output_type": "stream",
          "name": "stdout",
          "text": [
            "1\n",
            "apple\n"
          ]
        }
      ]
    },
    {
      "cell_type": "code",
      "source": [
        "st_12 = {3, 2, 5, 1}\n",
        "print(sorted(st_12))\n",
        "\n",
        "st_13 = {\"pinetree\", \"apple\", \"banana\"}\n",
        "print(sorted(st_13))\n",
        "\n",
        "#문자형과 정수형이 함께 max함수에 쓰일 수 없음."
      ],
      "metadata": {
        "colab": {
          "base_uri": "https://localhost:8080/"
        },
        "id": "eSVi8uHFe_pC",
        "outputId": "225c749e-046f-43c8-8e07-60c989706339"
      },
      "execution_count": null,
      "outputs": [
        {
          "output_type": "stream",
          "name": "stdout",
          "text": [
            "[1, 2, 3, 5]\n",
            "['apple', 'banana', 'pinetree']\n"
          ]
        }
      ]
    },
    {
      "cell_type": "code",
      "source": [
        "st_14 = {3, 2, 5, 1}\n",
        "print(sum(st_14))\n",
        "\n",
        "\"\"\"st_15 = {\"pinetree\", \"apple\", \"banana\"}\n",
        "print(sum(st_15))\"\"\"\n",
        "#문자형이 sum함수에 쓰일 수 없음."
      ],
      "metadata": {
        "colab": {
          "base_uri": "https://localhost:8080/",
          "height": 53
        },
        "id": "hXo3YZc9fAwL",
        "outputId": "f1905930-16e9-4d06-8eb9-a2c98385f166"
      },
      "execution_count": null,
      "outputs": [
        {
          "output_type": "stream",
          "name": "stdout",
          "text": [
            "11\n"
          ]
        },
        {
          "output_type": "execute_result",
          "data": {
            "text/plain": [
              "'st_15 = {\"pinetree\", \"apple\", \"banana\"}\\nprint(sum(st_15))'"
            ],
            "application/vnd.google.colaboratory.intrinsic+json": {
              "type": "string"
            }
          },
          "metadata": {},
          "execution_count": 22
        }
      ]
    }
  ]
}
