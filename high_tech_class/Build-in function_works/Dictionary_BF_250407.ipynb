{
  "nbformat": 4,
  "nbformat_minor": 0,
  "metadata": {
    "colab": {
      "provenance": [],
      "include_colab_link": true
    },
    "kernelspec": {
      "name": "python3",
      "display_name": "Python 3"
    },
    "language_info": {
      "name": "python"
    }
  },
  "cells": [
    {
      "cell_type": "markdown",
      "metadata": {
        "id": "view-in-github",
        "colab_type": "text"
      },
      "source": [
        "<a href=\"https://colab.research.google.com/github/chocksummersalt/python/blob/main/high_tech_class/%E1%84%8C%E1%85%A9%E1%84%89%E1%85%A5%E1%86%BC%E1%84%86%E1%85%B5%E1%86%AB_%E1%84%92%E1%85%A1%E1%84%8B%E1%85%B5%E1%84%90%E1%85%A6%E1%84%8F%E1%85%B3_dict%EB%82%B4%EC%9E%A5%ED%95%A8%EC%88%98_%E1%84%80%E1%85%AA%E1%84%8C%E1%85%A6250407.ipynb\" target=\"_parent\"><img src=\"https://colab.research.google.com/assets/colab-badge.svg\" alt=\"Open In Colab\"/></a>"
      ]
    },
    {
      "cell_type": "markdown",
      "source": [
        "## dictionary 내장 함수\n",
        "\n",
        "| 함수  |            설명             |\n",
        "|-------|---------------------------|\n",
        "|clear()|딕셔너리의 모든 항목을 삭제함|\n",
        "|copy()|딕셔너리의 사본을 생성함|\n",
        "|fromkeys(seq, value=)|시퀀스에 있는 요소들을 키로 하는 새로운 딕셔너리 생성하고 값은 지정된 값으로 변경 |\n",
        "|get(key,default=)|주어진 키의 값을 반환. 없으면 디폴트 값을 반환|\n",
        "|item()|딕셔너리의 키들을 담은 객체 반환, 원본이 변경되면 같이 변경됨, 리스트로 변경 가능|\n",
        "|keys(a,b)|딕셔너리의 키들을 담은 객체 반환, 리스트로 변경 가능|\n",
        "|pop(key, default=)|주어진 키를 제거하고 그 값을 반환. 키가 없으면 디폴트 반환|\n",
        "|popitem()|임의의 데이터 쌍을 제거하고 만환|\n",
        "|setdefault(key,default=)|키가 있으면 그 값을 반환, 없으면 키를 만들고 값을 디폴트로 설정한뒤 반환|\n",
        "|update(다른 딕셔너리)| 다른 딕셔너리의 키-값 쌍으로 현재 딕셔너리 갱신(덮어쓰기도 가능하고 추가도 가능)|\n",
        "|values(a,b)|딕셔너리의 벨류를 담은 객체 반환|\n",
        "|all()|#모든 값들이 참이면 True(공백이거나 0이 아니라는 뜻), 키 값만 사용함, 문자열도 True|\n",
        "|any()|#하나라도 값이 참이면 True 키 값만 사용함|\n",
        "|len()|# 항목의 갯수 반환 |\n",
        "|sorted()|#'키를' 정렬한 '리스트' 반환|"
      ],
      "metadata": {
        "id": "F_qXYrJacJ6I"
      }
    },
    {
      "cell_type": "code",
      "source": [
        "dictionary = {\"a\":1, \"b\":2, \"c\":3}"
      ],
      "metadata": {
        "id": "NEVD36Wnad3u"
      },
      "execution_count": null,
      "outputs": []
    },
    {
      "cell_type": "code",
      "source": [
        "##clear()\n",
        "#dictionary.clear()\n",
        "print(dictionary) #{}"
      ],
      "metadata": {
        "colab": {
          "base_uri": "https://localhost:8080/"
        },
        "id": "GhFQOBE7c6XX",
        "outputId": "d7fa049e-8b71-416a-d46b-cd6a840adde2"
      },
      "execution_count": null,
      "outputs": [
        {
          "output_type": "stream",
          "name": "stdout",
          "text": [
            "{'a': 1, 'b': 2, 'c': 3}\n"
          ]
        }
      ]
    },
    {
      "cell_type": "code",
      "source": [
        "##copy()\n",
        "d1 = {'x': 10, 'y': 20}\n",
        "d2 = d1.copy()\n",
        "d2.update(a=2, v=3)\n",
        "print(d1)  # {'x': 10, 'y': 20}\n",
        "print(d2) # {'x': 10, 'y': 20, 'a': 2, 'v': 3}"
      ],
      "metadata": {
        "colab": {
          "base_uri": "https://localhost:8080/"
        },
        "id": "UNyiu28CxWBr",
        "outputId": "d308ab5a-c70e-4ac4-941f-52434293d232"
      },
      "execution_count": null,
      "outputs": [
        {
          "output_type": "stream",
          "name": "stdout",
          "text": [
            "{'x': 10, 'y': 20}\n",
            "{'x': 10, 'y': 20, 'a': 2, 'v': 3}\n"
          ]
        }
      ]
    },
    {
      "cell_type": "code",
      "source": [
        "##fromkeys(seq, value)\n",
        "kets=[\"apple\", \"banana\", \"cherry\"]\n",
        "new_dict = dict.fromkeys(kets, 0)\n",
        "print(new_dict) #{'apple': 0, 'banana': 0, 'cherry': 0}"
      ],
      "metadata": {
        "colab": {
          "base_uri": "https://localhost:8080/"
        },
        "id": "TjSlgYzpxV0b",
        "outputId": "3e2bd704-7996-48b8-ef97-962610d6cf6e"
      },
      "execution_count": null,
      "outputs": [
        {
          "output_type": "stream",
          "name": "stdout",
          "text": [
            "{'apple': 0, 'banana': 0, 'cherry': 0}\n"
          ]
        }
      ]
    },
    {
      "cell_type": "code",
      "source": [
        "##get(key, default)\n",
        "print(dictionary.get('a'))        # 1\n",
        "print(dictionary.get('z', '없음'))  # \"없음\" z가 키값에 없으니까 반환을 디폴트 값인 없음으로 해주는 것."
      ],
      "metadata": {
        "colab": {
          "base_uri": "https://localhost:8080/"
        },
        "id": "M34fmSC10enp",
        "outputId": "0c10cb90-6782-459b-e6a8-7473c37adaa0"
      },
      "execution_count": null,
      "outputs": [
        {
          "output_type": "stream",
          "name": "stdout",
          "text": [
            "9\n"
          ]
        }
      ]
    },
    {
      "cell_type": "code",
      "source": [
        "##keys()\n",
        "print(dictionary.keys())         # 키값(['a', 'b', 'c'])\n",
        "print(list(dictionary.keys()))   # ['a', 'b', 'c']"
      ],
      "metadata": {
        "id": "V26stAvS0eeJ",
        "colab": {
          "base_uri": "https://localhost:8080/"
        },
        "outputId": "2be99b0b-b138-4823-d58f-1c921b45c865"
      },
      "execution_count": null,
      "outputs": [
        {
          "output_type": "stream",
          "name": "stdout",
          "text": [
            "dict_keys(['a', 'b', 'c'])\n",
            "['a', 'b', 'c']\n"
          ]
        }
      ]
    },
    {
      "cell_type": "code",
      "source": [
        "##pop(key, default) 특정 키를 제거하고 그 키의 값을 반환\n",
        "val = dictionary.pop('a')\n",
        "print(val)  # 2\n",
        "print(dictionary)    # {\"b\":2, 'c': 3]}"
      ],
      "metadata": {
        "id": "zp9vcmFY0eUT",
        "colab": {
          "base_uri": "https://localhost:8080/"
        },
        "outputId": "bb0a652c-c160-42a8-f672-3951370a0393"
      },
      "execution_count": null,
      "outputs": [
        {
          "output_type": "stream",
          "name": "stdout",
          "text": [
            "1\n",
            "{'b': 2, 'c': 3}\n"
          ]
        }
      ]
    },
    {
      "cell_type": "code",
      "source": [
        "##popitem() 마지막 키:벨류 제거 후 반환\n",
        "item = dictionary.popitem()\n",
        "print(item)#('c', 3)\n",
        "print(dictionary) #{'b': 2}"
      ],
      "metadata": {
        "id": "aY9mJjF40eMc",
        "colab": {
          "base_uri": "https://localhost:8080/"
        },
        "outputId": "ae652cdc-6141-4849-ec17-9fef23098582"
      },
      "execution_count": null,
      "outputs": [
        {
          "output_type": "stream",
          "name": "stdout",
          "text": [
            "('c', 3)\n",
            "{'b': 2}\n"
          ]
        }
      ]
    },
    {
      "cell_type": "code",
      "source": [
        "##setdefault(key, default) 키가 없으면 키 벨류 쌍을 추가\n",
        "dictionary.setdefault('d', 100)\n",
        "print(dictionary)  # {'a': 1, 'd': 100}\n",
        "\n",
        "# 이미 있는 키라면 기존 값 반환\n",
        "print(dictionary.setdefault('b', 999))  # 2"
      ],
      "metadata": {
        "id": "JKCDcsok0eDb",
        "colab": {
          "base_uri": "https://localhost:8080/"
        },
        "outputId": "1555b6c8-c8d7-4b0b-e167-8217b85bb2f0"
      },
      "execution_count": null,
      "outputs": [
        {
          "output_type": "stream",
          "name": "stdout",
          "text": [
            "{'b': 2, 'd': 100, 'a': 999}\n",
            "2\n"
          ]
        }
      ]
    },
    {
      "cell_type": "code",
      "source": [
        "##update() 딕셔너리 병합, 덮어쓰기 가능\n",
        "d.update({'e': 5, 'a': 99})\n",
        "print(d)  # {'a': 99, 'd': 100, 'e': 5}"
      ],
      "metadata": {
        "id": "YECkBfOC0d2T",
        "colab": {
          "base_uri": "https://localhost:8080/"
        },
        "outputId": "3f6eba19-01da-484d-af08-de5128f7a7bf"
      },
      "execution_count": null,
      "outputs": [
        {
          "output_type": "stream",
          "name": "stdout",
          "text": [
            "4.980040620706559\n"
          ]
        }
      ]
    },
    {
      "cell_type": "code",
      "source": [
        "#values() 값 데이터 반환. 리스트로 변경 가능\n",
        "print(dictionary.values())#dict_values([2, 100, 999])\n",
        "for i in range(len(list(dictionary.values()))):\n",
        "    print(\"dd\") # dd dd dd"
      ],
      "metadata": {
        "colab": {
          "base_uri": "https://localhost:8080/"
        },
        "id": "-kqxjHSvBTnO",
        "outputId": "75196997-a72f-4007-d43a-5a88e15fa226"
      },
      "execution_count": null,
      "outputs": [
        {
          "output_type": "stream",
          "name": "stdout",
          "text": [
            "dict_values([2, 100, 999])\n",
            "dd\n",
            "dd\n",
            "dd\n"
          ]
        }
      ]
    },
    {
      "cell_type": "code",
      "source": [
        "#all(dictionary)\n",
        "print(all(dictionary))\n"
      ],
      "metadata": {
        "colab": {
          "base_uri": "https://localhost:8080/"
        },
        "id": "N5hdADpfgrri",
        "outputId": "77fb936b-2424-4a70-b9d8-8fdd92eb44f9"
      },
      "execution_count": null,
      "outputs": [
        {
          "output_type": "stream",
          "name": "stdout",
          "text": [
            "True\n"
          ]
        }
      ]
    },
    {
      "cell_type": "code",
      "source": [
        "#any(dictionary) .붙여서 호출 안함\n",
        "print(any(dictionary))"
      ],
      "metadata": {
        "colab": {
          "base_uri": "https://localhost:8080/"
        },
        "id": "DzTz-N_UgrjN",
        "outputId": "125ddf77-cdd1-4f5a-8784-88447cc7e4b5"
      },
      "execution_count": null,
      "outputs": [
        {
          "output_type": "stream",
          "name": "stdout",
          "text": [
            "True\n"
          ]
        }
      ]
    },
    {
      "cell_type": "code",
      "source": [
        "#len(dictionary)\n",
        "print(len(dictionary))"
      ],
      "metadata": {
        "colab": {
          "base_uri": "https://localhost:8080/"
        },
        "id": "P5lEoFmjgra4",
        "outputId": "c6776450-80c7-47cd-dbc1-2679dc910b45"
      },
      "execution_count": null,
      "outputs": [
        {
          "output_type": "stream",
          "name": "stdout",
          "text": [
            "3\n"
          ]
        }
      ]
    },
    {
      "cell_type": "code",
      "source": [
        "#sorted(dictionary)\n",
        "print(sorted(dictionary))"
      ],
      "metadata": {
        "colab": {
          "base_uri": "https://localhost:8080/"
        },
        "id": "IOkFQROagrPK",
        "outputId": "a38dff0d-5141-4bfd-f0dd-b5f7c9100cca"
      },
      "execution_count": null,
      "outputs": [
        {
          "output_type": "stream",
          "name": "stdout",
          "text": [
            "['a', 'b', 'c']\n"
          ]
        }
      ]
    }
  ]
}
