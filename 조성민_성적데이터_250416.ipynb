{
  "nbformat": 4,
  "nbformat_minor": 0,
  "metadata": {
    "colab": {
      "provenance": [],
      "authorship_tag": "ABX9TyPGp+5Q3lNF2WbEgc7eSPdD",
      "include_colab_link": true
    },
    "kernelspec": {
      "name": "python3",
      "display_name": "Python 3"
    },
    "language_info": {
      "name": "python"
    }
  },
  "cells": [
    {
      "cell_type": "markdown",
      "metadata": {
        "id": "view-in-github",
        "colab_type": "text"
      },
      "source": [
        "<a href=\"https://colab.research.google.com/github/chocksummersalt/python/blob/main/%EC%A1%B0%EC%84%B1%EB%AF%BC_%EC%84%B1%EC%A0%81%EB%8D%B0%EC%9D%B4%ED%84%B0_250416.ipynb\" target=\"_parent\"><img src=\"https://colab.research.google.com/assets/colab-badge.svg\" alt=\"Open In Colab\"/></a>"
      ]
    },
    {
      "cell_type": "code",
      "execution_count": 96,
      "metadata": {
        "colab": {
          "base_uri": "https://localhost:8080/"
        },
        "id": "fFUakppOUj-8",
        "outputId": "c3dafbc1-abea-4423-afa9-eb7dc949a404"
      },
      "outputs": [
        {
          "output_type": "stream",
          "name": "stdout",
          "text": [
            "조성민의 가중 학점 평균: 26.153846153846153\n"
          ]
        }
      ],
      "source": [
        "#학점 만들기. 딕셔너리에 딕셔너리 여러개? ex) {조성민:{과목명:{학점:얼마},{점수:얼마},{등급:얼마}}}\n",
        "import random\n",
        "학점테이블=[]\n",
        "이름={\"조성민\":{}}\n",
        "\n",
        "for 과목명 in range(1, 21):\n",
        "        학점테이블.append(이름)\n",
        "        이름[\"조성민\"][과목명]=[{\"학점\":(random.randint(2,3))}, {\"점수\":random.randint(0,45)},{}]\n",
        "        if 이름[\"조성민\"][과목명][1][\"점수\"]>=40:\n",
        "            이름[\"조성민\"][과목명][2]={\"등급\":\"A\"}\n",
        "        elif 이름[\"조성민\"][과목명][1][\"점수\"]>=35:\n",
        "            이름[\"조성민\"][과목명][2]={\"등급\":\"B+\"}\n",
        "        elif 이름[\"조성민\"][과목명][1][\"점수\"]>=30:\n",
        "                이름[\"조성민\"][과목명][2]={\"등급\":\"B\"}\n",
        "        else:\n",
        "            이름[\"조성민\"][과목명][2]={\"등급\":\"F\"}\n",
        "\n",
        "총환산점수합 = 0\n",
        "총학점합 = 0\n",
        "\n",
        "for 과목 in 이름[\"조성민\"].values():\n",
        "    학점 = 과목[0][\"학점\"]\n",
        "    점수 = 과목[1][\"점수\"]\n",
        "    총환산점수합 =총환산점수합+ (학점 * 점수)\n",
        "    총학점합 = 총학점합+ 학점\n",
        "\n",
        "if 총학점합 > 0:\n",
        "    학점평균 = 총환산점수합 / 총학점합\n",
        "    print(f\"조성민의 가중 학점 평균: {학점평균}\")\n",
        "\n",
        "\n",
        "#과목명은 숫자로(for i로 생성),학점은 2or 3 랜덤 연산안에 바로 randint 넣기, 점수는 랜덤, 등급계산식을 작성, 그거에 따라 매겨지게)\n",
        "\n",
        "    #txt파일에 저장하기\n",
        "#txt파일 불러오기\n",
        "#평균 평점 계산(학점, 점수 계산식 써서 과목수랑 나누기)\n",
        "#txt밑에 평균평점 추가저장."
      ]
    },
    {
      "cell_type": "code",
      "source": [],
      "metadata": {
        "id": "5OGgSI0JY7LV"
      },
      "execution_count": null,
      "outputs": []
    }
  ]
}