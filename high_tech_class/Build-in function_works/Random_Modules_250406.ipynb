{
  "nbformat": 4,
  "nbformat_minor": 0,
  "metadata": {
    "colab": {
      "provenance": [],
      "include_colab_link": true
    },
    "kernelspec": {
      "name": "python3",
      "display_name": "Python 3"
    },
    "language_info": {
      "name": "python"
    }
  },
  "cells": [
    {
      "cell_type": "markdown",
      "metadata": {
        "id": "view-in-github",
        "colab_type": "text"
      },
      "source": [
        "<a href=\"https://colab.research.google.com/github/chocksummersalt/python/blob/main/high_tech_class/%E1%84%8C%E1%85%A9%E1%84%89%E1%85%A5%E1%86%BC%E1%84%86%E1%85%B5%E1%86%AB_%E1%84%92%E1%85%A1%E1%84%8B%E1%85%B5%E1%84%90%E1%85%A6%E1%84%8F%E1%85%B3_random_%E1%84%86%E1%85%A9%E1%84%83%E1%85%B2%E1%86%AF_%E1%84%80%E1%85%AA%E1%84%8C%E1%85%A6250406.ipynb\" target=\"_parent\"><img src=\"https://colab.research.google.com/assets/colab-badge.svg\" alt=\"Open In Colab\"/></a>"
      ]
    },
    {
      "cell_type": "markdown",
      "source": [
        "## random 모듈 함수\n",
        "\n",
        "| 함수  |            설명             |\n",
        "|-------|---------------------------|\n",
        "|seed(a=None, version=2)|난수표에서 어떤 줄의 난수열을 고를지 정한다|\n",
        "|getstate()|현재 랜덤 생성기 상태 저장하기, 같은 랜덤값을 재현하고 싶을 때|\n",
        "|setstate(state)|저장한 랜덤값 시퀀스를 재생할 수 있음|\n",
        "|getrandbits(k)|k비트 길이의 무작의 정수를 생성함|\n",
        "|randrange(start, stop, step)|start이상 stop미만 step 간격에서 무작위 값을 하나 선택|\n",
        "|randint(a,b)|튜플의 아이템들의 합을 반환|\n",
        "|choice(seq)|시퀀스(리스트, 문자열, 튜플 등) 중 하나를 무작위로 선택|\n",
        "|shuffle(seq)|리스트의 아이템들을 무작위로 섞어줌. 리스트만 가능함. 리턴값은 없음.|\n",
        "|sample(population,k)|리스트나 문자열 등에서 k개의 요소를 무작위로 \"중복 없이\" 뽑는 함수|\n",
        "|random()| 0.0 이상 1.0 미만의 부동소수점 숫자(float) 하나를 무작위로 반환|\n",
        "|uniform(a,b)|random.random()이 0.0~1.0이라면, uniform()은 원하는 범위를 직접 지정할 수 있음. float 수를 가져옴|\n",
        "|triangular(low,high,mode)|uniform()처럼 실수를 뽑지만, 어떤 값쪽에 랜덤을 치중 할지 중심(mode)을 설정|"
      ],
      "metadata": {
        "id": "F_qXYrJacJ6I"
      }
    },
    {
      "cell_type": "code",
      "source": [
        "##seed()\n",
        "import random\n",
        "\n",
        "random.seed(1)\n",
        "print(\"Seed 1:\", random.randint(1, 100))#같은 int반환\n",
        "\n",
        "random.seed(2)\n",
        "print(\"Seed 2:\", random.randint(1, 100))#다른 int반환\n",
        "\n",
        "random.seed(1)\n",
        "print(\"Seed 1 again:\", random.randint(1, 100))#같은 int반환"
      ],
      "metadata": {
        "colab": {
          "base_uri": "https://localhost:8080/"
        },
        "id": "GhFQOBE7c6XX",
        "outputId": "262d0d93-4210-4710-d848-a7f032c20de1"
      },
      "execution_count": null,
      "outputs": [
        {
          "output_type": "stream",
          "name": "stdout",
          "text": [
            "Seed 1: 18\n",
            "Seed 2: 8\n",
            "Seed 1 again: 18\n"
          ]
        }
      ]
    },
    {
      "cell_type": "code",
      "source": [
        "##getstate, setstate\n",
        "import random\n",
        "\n",
        "# 현재 랜덤 상태 저장\n",
        "random.seed(42)\n",
        "state = random.getstate()\n",
        "\n",
        "# 랜덤 시퀀스 생성\n",
        "seq1 = [random.randint(1, 100) for _ in range(5)]\n",
        "print(\"첫 번째 시퀀스:\", seq1)\n",
        "\n",
        "# 상태 복원 → 같은 시퀀스 다시 생성됨\n",
        "random.setstate(state)\n",
        "seq2 = [random.randint(1, 100) for _ in range(5)]\n",
        "print(\"복원한 시퀀스:\", seq2)"
      ],
      "metadata": {
        "colab": {
          "base_uri": "https://localhost:8080/"
        },
        "id": "UNyiu28CxWBr",
        "outputId": "d8b64dbd-fc32-4277-b39f-c94543412a8c"
      },
      "execution_count": null,
      "outputs": [
        {
          "output_type": "stream",
          "name": "stdout",
          "text": [
            "첫 번째 시퀀스: [82, 15, 4, 95, 36]\n",
            "복원한 시퀀스: [82, 15, 4, 95, 36]\n"
          ]
        }
      ]
    },
    {
      "cell_type": "code",
      "source": [
        "##getrandbits()\n",
        "import random\n",
        "\n",
        "x = random.getrandbits(8)  # 8비트 무작위 정수 생성 (0 ~ 255)\n",
        "print(x)"
      ],
      "metadata": {
        "colab": {
          "base_uri": "https://localhost:8080/"
        },
        "id": "TjSlgYzpxV0b",
        "outputId": "af905957-cc0d-4130-9441-3fc379986f21"
      },
      "execution_count": null,
      "outputs": [
        {
          "output_type": "stream",
          "name": "stdout",
          "text": [
            "141\n"
          ]
        }
      ]
    },
    {
      "cell_type": "code",
      "source": [
        "##randrange(x이상,x미만,x간격)\n",
        "import random\n",
        "\n",
        "x = random.randrange(1, 10, 2)\n",
        "print(x)  # 1 이상 10 미만, 2 간격의 값 중 하나 (즉 1, 3, 5, 7, 9 중 하나)"
      ],
      "metadata": {
        "colab": {
          "base_uri": "https://localhost:8080/"
        },
        "id": "M34fmSC10enp",
        "outputId": "0c10cb90-6782-459b-e6a8-7473c37adaa0"
      },
      "execution_count": null,
      "outputs": [
        {
          "output_type": "stream",
          "name": "stdout",
          "text": [
            "9\n"
          ]
        }
      ]
    },
    {
      "cell_type": "code",
      "source": [
        "##randint(0,10) 0에서 10까지 무작위 정수 양끝이 포함됨\n",
        "import random\n",
        "\n",
        "x = random.randint(1, 10)\n",
        "print(x)  # 1부터 10까지 중 무작위 정수\n",
        "\n",
        "#랜덤 비밀번호 숫자 6자리\n",
        "password = ''.join(str(random.randint(0, 9)) for _ in range(6))\n",
        "print(\"비밀번호:\", password)"
      ],
      "metadata": {
        "id": "V26stAvS0eeJ",
        "colab": {
          "base_uri": "https://localhost:8080/"
        },
        "outputId": "f8ac05ab-bc45-4212-9aa5-3c0d02fe862d"
      },
      "execution_count": null,
      "outputs": [
        {
          "output_type": "stream",
          "name": "stdout",
          "text": [
            "2\n",
            "비밀번호: 417776\n"
          ]
        }
      ]
    },
    {
      "cell_type": "code",
      "source": [
        "##choice()\n",
        "import random\n",
        "\n",
        "items = ['apple', 'banana', 'cherry']\n",
        "fruit = random.choice(items)\n",
        "print(fruit)\n",
        "\n",
        "letter = random.choice(\"HELLO\") #문자열에서도 사용 가능\n",
        "print(letter)  # H, E, L, O 중 하나\n",
        "\n",
        "colors = ('red', 'green', 'blue')# 튜플에서도 사용 가능\n",
        "print(random.choice(colors))\n",
        "\n",
        "#랜덤 응답기도 만들 수 있다. 포춘쿠키 응답기 같은거? 오늘의 운세?\n",
        "answer = [\"대길\", \"길\", \"중길\", \"흉\", \"대흉\"]\n",
        "print(\"오늘의 운세\", random.choice(answer))\n",
        "\n",
        "random.choices([1, 2, 3, 4, 5, 6], k=3) # k=정수 쓰면 랜덤으로 아이템을 갯수만큼 추출해서 리스트 생성, 중복가능\n",
        "\n",
        "#시퀀스는 비어있으면 안됨. 에러 발생."
      ],
      "metadata": {
        "id": "zp9vcmFY0eUT",
        "colab": {
          "base_uri": "https://localhost:8080/"
        },
        "outputId": "bc75f719-e3c2-4a12-8252-b9ef808dc09d"
      },
      "execution_count": null,
      "outputs": [
        {
          "output_type": "stream",
          "name": "stdout",
          "text": [
            "banana\n",
            "L\n",
            "blue\n",
            "오늘의 운세 대길\n"
          ]
        },
        {
          "output_type": "execute_result",
          "data": {
            "text/plain": [
              "[5, 2, 5]"
            ]
          },
          "metadata": {},
          "execution_count": 8
        }
      ]
    },
    {
      "cell_type": "code",
      "source": [
        "##shuffle()\n",
        "import random\n",
        "\n",
        "cards = ['A', 'K', 'Q', 'J', '10']\n",
        "random.shuffle(cards)\n",
        "print(cards)  # 카드 순서가 무작위로 섞임. 리스트 자체를 바꾸는거라 원본이 필요하면 .copy()해두자.\n",
        "\n",
        "#튜플에서\n",
        "items = ('x', 'y', 'z')\n",
        "result = random.sample(items, 2)\n",
        "print(result)  # 예: ['y', 'z'] 튜플이 리스트로 반환됨\n",
        "\n",
        "#문자열에서\n",
        "text = \"PYTHON\"\n",
        "result = random.sample(text, 3)\n",
        "print(result)  # 예: ['T', 'Y', 'H'] 문자단위로 뽑혀서 리스트\n",
        "\n",
        "#set에서는 리스트를 씌워줘서 순서를 만들고 뽑아줘야 한다.\n",
        "my_set = {'apple', 'banana', 'cherry', 'date'}\n",
        "result = random.sample((list(my_set)), 2)\n",
        "print(result)\n",
        "\n",
        "#딕셔너리에서는 직접사용은 불가 값 추출후, 리스트로 바꾼뒤 추출가능\n",
        "\n",
        "my_dict = {'a': 1, 'b': 2, 'c': 3}\n",
        "\n",
        "# 키 중에서 2개 뽑기\n",
        "print(random.sample(list(my_dict.keys()), 2))\n",
        "\n",
        "# 벨류 중에서 2개\n",
        "print(random.sample(list(my_dict.values()), 2))\n",
        "\n",
        "# (키, 값) 쌍 중 2개\n",
        "print(random.sample(list(my_dict.items()), 2))"
      ],
      "metadata": {
        "id": "aY9mJjF40eMc",
        "colab": {
          "base_uri": "https://localhost:8080/"
        },
        "outputId": "6c638670-28ac-45c6-c227-2aea571a5a87"
      },
      "execution_count": null,
      "outputs": [
        {
          "output_type": "stream",
          "name": "stdout",
          "text": [
            "['J', 'Q', 'A', 'K', '10']\n",
            "['z', 'x']\n",
            "['H', 'O', 'T']\n",
            "['apple', 'banana']\n",
            "['b', 'a']\n",
            "[2, 1]\n",
            "[('c', 3), ('a', 1)]\n"
          ]
        }
      ]
    },
    {
      "cell_type": "code",
      "source": [
        "##random.random()\n",
        "import random\n",
        "\n",
        "x = random.random()\n",
        "print(x)\n",
        "#랜덤 확률 구할때 좋음"
      ],
      "metadata": {
        "id": "JKCDcsok0eDb",
        "colab": {
          "base_uri": "https://localhost:8080/"
        },
        "outputId": "31996545-4ed3-4788-8b76-55e51bfc5d90"
      },
      "execution_count": null,
      "outputs": [
        {
          "output_type": "stream",
          "name": "stdout",
          "text": [
            "0.4260906796881502\n"
          ]
        }
      ]
    },
    {
      "cell_type": "code",
      "source": [
        "##uniform()\n",
        "import random\n",
        "\n",
        "x = random.uniform(1.5, 5.5)\n",
        "print(x)"
      ],
      "metadata": {
        "id": "YECkBfOC0d2T",
        "colab": {
          "base_uri": "https://localhost:8080/"
        },
        "outputId": "3f6eba19-01da-484d-af08-de5128f7a7bf"
      },
      "execution_count": null,
      "outputs": [
        {
          "output_type": "stream",
          "name": "stdout",
          "text": [
            "4.980040620706559\n"
          ]
        }
      ]
    },
    {
      "cell_type": "code",
      "source": [
        "#triangular(low, high, mode)\n",
        "import random\n",
        "\n",
        "# 1.0 ~ 10.0 사이에서, 3.0에 가까운 값이 더 자주 나옴\n",
        "x = random.triangular(1.0, 10.0, 3.0)\n",
        "print(x)"
      ],
      "metadata": {
        "colab": {
          "base_uri": "https://localhost:8080/"
        },
        "id": "-kqxjHSvBTnO",
        "outputId": "b1342626-f0fa-4b0d-db36-134162a9d40a"
      },
      "execution_count": null,
      "outputs": [
        {
          "output_type": "stream",
          "name": "stdout",
          "text": [
            "2.0050966895644056\n"
          ]
        }
      ]
    }
  ]
}
