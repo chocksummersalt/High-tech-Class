{
  "nbformat": 4,
  "nbformat_minor": 0,
  "metadata": {
    "colab": {
      "provenance": [],
      "authorship_tag": "ABX9TyNFVUgGBxqJXaG0DjhQTpgS",
      "include_colab_link": true
    },
    "kernelspec": {
      "name": "python3",
      "display_name": "Python 3"
    },
    "language_info": {
      "name": "python"
    }
  },
  "cells": [
    {
      "cell_type": "markdown",
      "metadata": {
        "id": "view-in-github",
        "colab_type": "text"
      },
      "source": [
        "<a href=\"https://colab.research.google.com/github/chocksummersalt/python/blob/main/high_tech_class%20/15_code_questions/q5_creditcard_number_generator.ipynb\" target=\"_parent\"><img src=\"https://colab.research.google.com/assets/colab-badge.svg\" alt=\"Open In Colab\"/></a>"
      ]
    },
    {
      "cell_type": "code",
      "execution_count": null,
      "metadata": {
        "id": "SD9ViIfFM_JI"
      },
      "outputs": [],
      "source": [
        "#5번 신용카드 번호 만들기\n",
        "#4,5,6 중 하나로 시작되어야 함\n",
        "#총 16자리 숫자여야 함\n",
        "#숫자로만 구성되어야 함\n",
        "#4자리씩 -으로 나뉘어야 함\n",
        "#첫번째 줄 카드 번호 생성할 갯수를 입력\n",
        "#두번째 줄 각각 카드번호 출력\n",
        "\n",
        "#유효하면 같이 vaild를\n",
        "#유효하지 않으면 invalid를 이어서 출력해주세요~\n",
        "\n",
        "import random\n",
        "import math\n",
        "\n",
        "\n",
        "while True:\n",
        "    끝내기=(input(\"생성할 카드 수: (종료하려면 '끝'을 입력)\"))\n",
        "\n",
        "    if 끝내기 == '끝':\n",
        "        break\n",
        "\n",
        "    카드번호_생성횟수 = int(끝내기)\n",
        "    for 갯수 in range(카드번호_생성횟수):\n",
        "        카드번호_생성=(math.trunc(random.uniform(4.0,6.999) * 1000) ,\"-\", random.randint(1,9999), \"-\", random.randint(1,9999), \"-\", random.randint(1,9999))\n",
        "        print(카드번호_생성)\n",
        "        시작번호 = math.trunc(random.uniform(4.0, 6.999))\n",
        "\n",
        "    if 시작번호 in [4, 5, 6]:\n",
        "        print(\"valid\")\n",
        " #   if 카드번호_생성[0]==5:\n",
        " #       print(\"valid\")\n",
        "#    if 카드번호_생성[0]==6:\n",
        " #       print(\"valid\")\n",
        "    else:\n",
        "        print(\"invalid\")\n"
      ]
    }
  ]
}