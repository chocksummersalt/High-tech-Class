{
  "nbformat": 4,
  "nbformat_minor": 0,
  "metadata": {
    "colab": {
      "provenance": [],
      "authorship_tag": "ABX9TyNNxw8O9Njn9cG3f8dDj30a",
      "include_colab_link": true
    },
    "kernelspec": {
      "name": "python3",
      "display_name": "Python 3"
    },
    "language_info": {
      "name": "python"
    }
  },
  "cells": [
    {
      "cell_type": "markdown",
      "metadata": {
        "id": "view-in-github",
        "colab_type": "text"
      },
      "source": [
        "<a href=\"https://colab.research.google.com/github/chocksummersalt/python/blob/main/high_tech_class/15_code_questions/q13_searching_the_particular_numbers.ipynb\" target=\"_parent\"><img src=\"https://colab.research.google.com/assets/colab-badge.svg\" alt=\"Open In Colab\"/></a>"
      ]
    },
    {
      "cell_type": "code",
      "execution_count": null,
      "metadata": {
        "id": "b93BpDMwWDi4"
      },
      "outputs": [],
      "source": [
        "#12번 특정 조건에 맞는 숫자 찾기\n",
        "#정수 n을 입력했을때, 1부터 n까지 숫자중에서 3의 배수는 맞는데 2의 배수는 아닌 수들만\n",
        "#리스트에 담아 반환하는 함수를 작성\n",
        "\n",
        "\n",
        "정수리스트=[]\n",
        "while True:\n",
        "    입력값 = input(\"정수를 입력해주세요 (끝내려면 '끝' 입력): \")\n",
        "\n",
        "    if 입력값 == \"끝\":\n",
        "        break\n",
        "\n",
        "    #if 정수%2 !=0:\n",
        "   #   if 정수%3 == 0:\n",
        "   #       정수리스트.append(정수)\n",
        "    #      break\n",
        "    try:\n",
        "        정수 = int(입력값)\n",
        "        if 정수 % 2 != 0 and 정수 % 3 == 0:\n",
        "         정수리스트.append(정수)\n",
        "    except:\n",
        "        print(\"숫자를 입력하시오\")\n",
        "print(정수리스트)"
      ]
    }
  ]
}