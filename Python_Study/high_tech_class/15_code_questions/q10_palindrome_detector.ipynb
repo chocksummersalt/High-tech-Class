{
  "nbformat": 4,
  "nbformat_minor": 0,
  "metadata": {
    "colab": {
      "provenance": [],
      "authorship_tag": "ABX9TyPtD4Z/bZXcVvCOE30Iubiv",
      "include_colab_link": true
    },
    "kernelspec": {
      "name": "python3",
      "display_name": "Python 3"
    },
    "language_info": {
      "name": "python"
    }
  },
  "cells": [
    {
      "cell_type": "markdown",
      "metadata": {
        "id": "view-in-github",
        "colab_type": "text"
      },
      "source": [
        "<a href=\"https://colab.research.google.com/github/chocksummersalt/python/blob/main/high_tech_class/15_code_questions/q10_palindrome_detector.ipynb\" target=\"_parent\"><img src=\"https://colab.research.google.com/assets/colab-badge.svg\" alt=\"Open In Colab\"/></a>"
      ]
    },
    {
      "cell_type": "code",
      "execution_count": 14,
      "metadata": {
        "colab": {
          "base_uri": "https://localhost:8080/"
        },
        "id": "HAUqucM3JGSJ",
        "outputId": "6497b9f5-8e29-49b0-a87b-553019f3b065"
      },
      "outputs": [
        {
          "output_type": "stream",
          "name": "stdout",
          "text": [
            "팰린드롬을 판별할 문자열을 입력하세요​dad\n",
            "팰린드롬 입니다\n"
          ]
        }
      ],
      "source": [
        "a=input(\"팰린드롬을 판별할 문자열을 입력하세요​\")\n",
        "\n",
        "def palindrome(a):\n",
        "\n",
        "    new = a.lower()\n",
        "\n",
        "    new = a.replace(\" \", \"\")\n",
        "\n",
        "    return new == a[::-1]\n",
        "\n",
        "\n",
        "if palindrome(a) is True:\n",
        "    print(\"팰린드롬 입니다\")\n",
        "else:\n",
        "    print(\"팰린드롬이 아닙니다\")\n",
        "\n",
        "\n"
      ]
    }
  ]
}