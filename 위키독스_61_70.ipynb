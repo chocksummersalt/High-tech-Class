{
  "nbformat": 4,
  "nbformat_minor": 0,
  "metadata": {
    "colab": {
      "provenance": [],
      "authorship_tag": "ABX9TyPMb0U/fy0C3gTis8SzHSTD",
      "include_colab_link": true
    },
    "kernelspec": {
      "name": "python3",
      "display_name": "Python 3"
    },
    "language_info": {
      "name": "python"
    }
  },
  "cells": [
    {
      "cell_type": "markdown",
      "metadata": {
        "id": "view-in-github",
        "colab_type": "text"
      },
      "source": [
        "<a href=\"https://colab.research.google.com/github/chocksummersalt/python/blob/main/%EC%9C%84%ED%82%A4%EB%8F%85%EC%8A%A4_61_70.ipynb\" target=\"_parent\"><img src=\"https://colab.research.google.com/assets/colab-badge.svg\" alt=\"Open In Colab\"/></a>"
      ]
    },
    {
      "cell_type": "code",
      "execution_count": null,
      "metadata": {
        "colab": {
          "base_uri": "https://localhost:8080/"
        },
        "id": "2RmUiXv9-YV8",
        "outputId": "ebe5da38-ebdd-4393-c999-4e15eee1b2f1"
      },
      "outputs": [
        {
          "output_type": "stream",
          "name": "stdout",
          "text": [
            "[100, 130, 140, 150, 160, 170]\n"
          ]
        }
      ],
      "source": [
        "#61 price 변수에는 날짜와 종가 정보가 저장돼 있다. 날짜 정보를 제외하고 가격 정보만을 출력하라. (힌트 : 슬라이싱)\n",
        "price = ['20180728', 100, 130, 140, 150, 160, 170]\n",
        "print(price[1:])\n",
        "#배운 점 : -"
      ]
    },
    {
      "cell_type": "code",
      "source": [
        "#62 슬라이싱을 사용해서 홀수만 출력하라.\n",
        "nums = [1, 2, 3, 4, 5, 6, 7, 8, 9, 10]\n",
        "#numsodd = nums.odd()\n",
        "print(nums[::2])\n",
        "#배운 점 : 홀수값을 내주는 함수나 메서드는 없다. 리스트 추출은 [첫인덱스: 끝인덱스: 증가값]"
      ],
      "metadata": {
        "colab": {
          "base_uri": "https://localhost:8080/"
        },
        "id": "5e0TVFHO-21t",
        "outputId": "2c176db9-585c-4582-e023-4f006d24bb67"
      },
      "execution_count": null,
      "outputs": [
        {
          "output_type": "stream",
          "name": "stdout",
          "text": [
            "[1, 3, 5, 7, 9]\n"
          ]
        }
      ]
    },
    {
      "cell_type": "code",
      "source": [
        "#63 슬라이싱을 사용해서 짝수만 출력하라.\n",
        "nums = [1, 2, 3, 4, 5, 6, 7, 8, 9, 10]\n",
        "print(nums[1::2])\n",
        "#배운 점 : -"
      ],
      "metadata": {
        "colab": {
          "base_uri": "https://localhost:8080/"
        },
        "id": "F2rBKzv2_xdN",
        "outputId": "66558ddf-ec38-40d4-a7c8-320bfc6a995a"
      },
      "execution_count": null,
      "outputs": [
        {
          "output_type": "stream",
          "name": "stdout",
          "text": [
            "[2, 4, 6, 8, 10]\n"
          ]
        }
      ]
    },
    {
      "cell_type": "code",
      "source": [
        "#64 슬라이싱을 사용해서 리스트의 숫자를 역 방향으로 출력하라.\n",
        "nums1 = [1, 2, 3, 4, 5]\n",
        "print(nums1[::-1])\n",
        "#배운 점 : -1을 하면 뒤의 번호로 간다."
      ],
      "metadata": {
        "colab": {
          "base_uri": "https://localhost:8080/"
        },
        "id": "5Ar1M0QMAG9c",
        "outputId": "04c0c3a0-0916-4523-91e9-bb8fdfc02f7d"
      },
      "execution_count": null,
      "outputs": [
        {
          "output_type": "stream",
          "name": "stdout",
          "text": [
            "[5, 4, 3, 2, 1]\n"
          ]
        }
      ]
    },
    {
      "cell_type": "code",
      "source": [
        "#65 interest 리스트를 사용하여 삼성전자, naver만 출력하라\n",
        "interest = [\"samsung\", \"LG\", \"naver\"]\n",
        "print(interest[0],interest[2])\n",
        "#배운 점 : 리스트에서 아이템을 추출할 때는 interest[0, 2] 이런식으로 하면 안된다."
      ],
      "metadata": {
        "colab": {
          "base_uri": "https://localhost:8080/"
        },
        "id": "OP8cXa8lAXDD",
        "outputId": "aa852298-1c50-4398-defd-78a9c98bf660"
      },
      "execution_count": null,
      "outputs": [
        {
          "output_type": "stream",
          "name": "stdout",
          "text": [
            "samsung naver\n"
          ]
        }
      ]
    },
    {
      "cell_type": "code",
      "source": [
        "#66 interest 리스트를 사용하여 삼성전자, naver만 출력하라\n",
        "interest1 = ['삼성전자', 'LG전자', 'Naver', 'SK하이닉스', '미래에셋대우']\n",
        "#interest2= del interest1[0]\n",
        "del interest1[0]\n",
        "print(interest1)\n",
        "#배운 점 : del은 명령어고 값을 반환하는게 아니라서 변수로 지정 못한다.\n",
        "#그래서 다른 메서드나 함수처럼 작용하지 않음."
      ],
      "metadata": {
        "colab": {
          "base_uri": "https://localhost:8080/"
        },
        "id": "06qmDMe-Gm4h",
        "outputId": "cd1f77e1-ff96-4ce1-e24c-c579b9d4daf6"
      },
      "execution_count": null,
      "outputs": [
        {
          "output_type": "stream",
          "name": "stdout",
          "text": [
            "['LG전자', 'Naver', 'SK하이닉스', '미래에셋대우']\n"
          ]
        }
      ]
    },
    {
      "cell_type": "code",
      "source": [
        "#67 위의 리스트를 삼성전자/LG전자/Naver/SK하이닉스/미래에셋대우 이렇게 출력하라\n",
        "interest1.insert(0, \"삼성전자\")\n",
        "print(\"/\".join(interest1))\n",
        "#배운 점 : join메서드는 앞의 \" \" 안에 있는 것으로 아이템 간의 구분을 짓게 한다."
      ],
      "metadata": {
        "colab": {
          "base_uri": "https://localhost:8080/"
        },
        "id": "nCXWasXnEPgb",
        "outputId": "b0484404-0663-492c-aba0-b98e0f2b05e7"
      },
      "execution_count": null,
      "outputs": [
        {
          "output_type": "stream",
          "name": "stdout",
          "text": [
            "삼성전자/LG전자/삼성전자/Naver/SK하이닉스/미래에셋대우\n"
          ]
        }
      ]
    },
    {
      "cell_type": "code",
      "source": [
        "#68 join의 메서드를 이용해서 아이템하나 당 줄바꿈 적용해서 출력하라.\n",
        "print(\"\\n\".join(interest1))\n",
        "#배운 점 : \\n는 c언어에서도 작동하고 파이썬에서도 작동한다."
      ],
      "metadata": {
        "colab": {
          "base_uri": "https://localhost:8080/"
        },
        "id": "yJ8yIkTaQLMO",
        "outputId": "152390e4-a4b4-40f0-aed2-269a5b83c2f6"
      },
      "execution_count": null,
      "outputs": [
        {
          "output_type": "stream",
          "name": "stdout",
          "text": [
            "삼성전자\n",
            "LG전자\n",
            "삼성전자\n",
            "Naver\n",
            "SK하이닉스\n",
            "미래에셋대우\n"
          ]
        }
      ]
    },
    {
      "cell_type": "code",
      "source": [
        "#69  string = \"삼성전자/LG전자/NAVER\"을 interest 이름의 리스트로 분리 저장\n",
        "string = \"삼성전자/LG전자/NAVER\"\n",
        "interest3 = string.split(\"/\")\n",
        "print(interest3)\n",
        "#배운 점 : .split(\"여기에 들어간 구분자를 기준 삭제하고 아이템을 나눠 리스트로 반환한다.\")"
      ],
      "metadata": {
        "colab": {
          "base_uri": "https://localhost:8080/"
        },
        "id": "UHY_4UJFlPhW",
        "outputId": "0ed33959-a1af-44d2-8c41-1e069dca9e64"
      },
      "execution_count": null,
      "outputs": [
        {
          "output_type": "stream",
          "name": "stdout",
          "text": [
            "['삼성전자', 'LG전자', 'NAVER']\n"
          ]
        }
      ]
    },
    {
      "cell_type": "code",
      "source": [
        "#70 오름차순으로 정렬하라\n",
        "data = [2, 4, 3, 15, 23, 21, 6]\n",
        "data.sort()\n",
        "print(data)"
      ],
      "metadata": {
        "colab": {
          "base_uri": "https://localhost:8080/"
        },
        "id": "zM-BTW8Mnc-3",
        "outputId": "b5476604-4cba-4b95-d3c5-d97eeada3850"
      },
      "execution_count": null,
      "outputs": [
        {
          "output_type": "stream",
          "name": "stdout",
          "text": [
            "[2, 3, 4, 6, 15, 21, 23]\n"
          ]
        }
      ]
    }
  ]
}