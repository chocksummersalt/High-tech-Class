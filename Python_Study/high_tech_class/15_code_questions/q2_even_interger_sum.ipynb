{
  "nbformat": 4,
  "nbformat_minor": 0,
  "metadata": {
    "colab": {
      "provenance": [],
      "authorship_tag": "ABX9TyM6ZxHZLtEkgwY0CXygYom1",
      "include_colab_link": true
    },
    "kernelspec": {
      "name": "python3",
      "display_name": "Python 3"
    },
    "language_info": {
      "name": "python"
    }
  },
  "cells": [
    {
      "cell_type": "markdown",
      "metadata": {
        "id": "view-in-github",
        "colab_type": "text"
      },
      "source": [
        "<a href=\"https://colab.research.google.com/github/chocksummersalt/python/blob/main/high_tech_class/15_code_questions/q2_even_interger_sum.ipynb\" target=\"_parent\"><img src=\"https://colab.research.google.com/assets/colab-badge.svg\" alt=\"Open In Colab\"/></a>"
      ]
    },
    {
      "cell_type": "code",
      "execution_count": null,
      "metadata": {
        "id": "hyXUC0P_MHv7"
      },
      "outputs": [],
      "source": [
        "#2번 정수 n을 입력하고 n까지 짝수의 합\n",
        "정수 = int(input(\"정수를 입력해주세요:\"))\n",
        "정수저장 = []\n",
        "합 = 0\n",
        "for i in range(1, 정수+1):\n",
        "    if i% 2 == 0 :\n",
        "     정수저장.append(i)\n",
        "     합 = 정수 + i\n",
        "print(합)"
      ]
    }
  ]
}