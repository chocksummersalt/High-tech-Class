{
  "nbformat": 4,
  "nbformat_minor": 0,
  "metadata": {
    "colab": {
      "provenance": [],
      "authorship_tag": "ABX9TyPPPmeLJjhj24/oiSWySbki",
      "include_colab_link": true
    },
    "kernelspec": {
      "name": "python3",
      "display_name": "Python 3"
    },
    "language_info": {
      "name": "python"
    }
  },
  "cells": [
    {
      "cell_type": "markdown",
      "metadata": {
        "id": "view-in-github",
        "colab_type": "text"
      },
      "source": [
        "<a href=\"https://colab.research.google.com/github/chocksummersalt/python/blob/main/%EC%9C%84%ED%82%A4%EB%8F%85%EC%8A%A4_81_90.ipynb\" target=\"_parent\"><img src=\"https://colab.research.google.com/assets/colab-badge.svg\" alt=\"Open In Colab\"/></a>"
      ]
    },
    {
      "cell_type": "code",
      "execution_count": null,
      "metadata": {
        "colab": {
          "base_uri": "https://localhost:8080/"
        },
        "id": "pW0IrFVwEnr8",
        "outputId": "e8cb4991-f3ed-4a4b-b226-9d5e9b8cddd5"
      },
      "outputs": [
        {
          "output_type": "stream",
          "name": "stdout",
          "text": [
            "[8.8, 8.9, 8.7, 9.2, 9.3, 9.7, 9.9, 9.5]\n"
          ]
        }
      ],
      "source": [
        "#81다음과 같이 10개의 값이 저장된 scores 리스트가 있을 때,\n",
        "# start expression을 사용하여 좌측 8개의 값을 valid_score 변수에 바인딩하여라.\n",
        "scores = [8.8, 8.9, 8.7, 9.2, 9.3, 9.7, 9.9, 9.5, 7.8, 9.4]\n",
        "*valid_score,_, _ = scores\n",
        "print(valid_score)\n",
        "#배운 점 : *로 묶을때는 앞에다 붙이고 없는걸로 처리할때는 _로 변수를 해주면 된다."
      ]
    },
    {
      "cell_type": "code",
      "source": [
        " #82 다음과 같이 10개의 값이 저장된 scores 리스트가 있을 때,\n",
        " #start expression을 사용하여 우측 8개의 값을 valid_score 변수에 바인딩하여라.\n",
        " scores = [8.8, 8.9, 8.7, 9.2, 9.3, 9.7, 9.9, 9.5, 7.8, 9.4]\n",
        "_,_,*valid_score2 = scores\n",
        "print(valid_score2)"
      ],
      "metadata": {
        "id": "gHchvYrdGR_4",
        "colab": {
          "base_uri": "https://localhost:8080/"
        },
        "outputId": "ff0cc14f-c42d-4ed1-a780-0844a9e54ed9"
      },
      "execution_count": null,
      "outputs": [
        {
          "output_type": "stream",
          "name": "stdout",
          "text": [
            "[8.7, 9.2, 9.3, 9.7, 9.9, 9.5, 7.8, 9.4]\n"
          ]
        }
      ]
    },
    {
      "cell_type": "code",
      "source": [
        "#83 가운데 값 8개를 valid_score 변수에 바인딩하여라.\n",
        "scores3 = [8.8, 8.9, 8.7, 9.2, 9.3, 9.7, 9.9, 9.5, 7.8, 9.4]\n",
        "_,*valid_score3,_ =scores3\n",
        "print(valid_score3)"
      ],
      "metadata": {
        "id": "isk_DWW9GS5Q",
        "colab": {
          "base_uri": "https://localhost:8080/"
        },
        "outputId": "22eefc5b-8fd5-4045-c27c-164ce1264840"
      },
      "execution_count": null,
      "outputs": [
        {
          "output_type": "stream",
          "name": "stdout",
          "text": [
            "[8.9, 8.7, 9.2, 9.3, 9.7, 9.9, 9.5, 7.8]\n"
          ]
        }
      ]
    },
    {
      "cell_type": "code",
      "source": [
        "#84 temp이름의 비어있는 딕셔너리를 만들라.\n",
        "temp = {}\n",
        "print(temp, type(temp))"
      ],
      "metadata": {
        "id": "_39qwkp4GUvA",
        "colab": {
          "base_uri": "https://localhost:8080/"
        },
        "outputId": "cab6b1eb-6ffa-4e52-93fb-b22b1fd5e6db"
      },
      "execution_count": null,
      "outputs": [
        {
          "output_type": "stream",
          "name": "stdout",
          "text": [
            "{} <class 'dict'>\n"
          ]
        }
      ]
    },
    {
      "cell_type": "code",
      "source": [
        "#85 메로나 1000, 폴라포 12000, 빵빠레 1800 를 딕셔너리로 구성하라\n",
        "temp1 = {\"메로나\":1000, \"폴라포\":1200, \"빵빠레\":1800}\n",
        "print(temp1)\n"
      ],
      "metadata": {
        "id": "WHtIi2nwGVWQ",
        "colab": {
          "base_uri": "https://localhost:8080/"
        },
        "outputId": "10e44ba0-71f4-4d09-9625-e28922bb6d07"
      },
      "execution_count": null,
      "outputs": [
        {
          "output_type": "stream",
          "name": "stdout",
          "text": [
            "{'메로나': 1000, '폴라포': 1200, '빵빠레': 1800}\n"
          ]
        }
      ]
    },
    {
      "cell_type": "code",
      "source": [
        "#86 85번 딕셔너리에 아이스크림 가격정보를 추가하라\n",
        "temp1[\"죠스바\"] = 1200\n",
        "temp1[\"월드콘\"] = 1500\n",
        "print(temp1)\n",
        "#배운 점 : 딕셔너리 추가 방법은 c언어 초기화 과정하고 비슷하다"
      ],
      "metadata": {
        "id": "Yc4S3tHbGWCo",
        "colab": {
          "base_uri": "https://localhost:8080/"
        },
        "outputId": "5d3eb75f-27d5-45a3-d171-8d1eb8a75bf7"
      },
      "execution_count": null,
      "outputs": [
        {
          "output_type": "stream",
          "name": "stdout",
          "text": [
            "{'메로나': 1000, '폴라포': 1200, '빵빠레': 1800, '죠스바': 1200, '월드콘': 1500}\n"
          ]
        }
      ]
    },
    {
      "cell_type": "code",
      "source": [
        "#87 딕셔너리에서 메로나의 가격을 1300으로 수정하라\n",
        "temp1['메로나'] = 1300\n",
        "print(temp1)"
      ],
      "metadata": {
        "id": "Jm1ZRnyrGWwI",
        "colab": {
          "base_uri": "https://localhost:8080/"
        },
        "outputId": "7fc0c5a9-9781-416f-fe08-85a314bf00e7"
      },
      "execution_count": null,
      "outputs": [
        {
          "output_type": "stream",
          "name": "stdout",
          "text": [
            "{'메로나': 1300, '폴라포': 1200, '빵빠레': 1800, '죠스바': 1200, '월드콘': 1500}\n"
          ]
        }
      ]
    },
    {
      "cell_type": "code",
      "source": [
        "#88 다음 딕셔너리에서 메로나를 삭제하라\n",
        "del temp1[\"메로나\"]\n",
        "print(temp1)"
      ],
      "metadata": {
        "id": "07lgAaFLGXfU",
        "colab": {
          "base_uri": "https://localhost:8080/"
        },
        "outputId": "5e0cb197-d0a5-461c-bb9d-758c771e30a1"
      },
      "execution_count": null,
      "outputs": [
        {
          "output_type": "stream",
          "name": "stdout",
          "text": [
            "{'폴라포': 1200, '빵빠레': 1800, '죠스바': 1200, '월드콘': 1500}\n"
          ]
        }
      ]
    },
    {
      "cell_type": "code",
      "source": [
        "#89 여기서 에러가 발생한 원인을 설명하라\n",
        ">> icecream = {'폴라포': 1200, '빵빠레': 1800, '월드콘': 1500, '메로나': 1000}\n",
        ">> icecream['누가바']\n",
        "Traceback (most recent call last):\n",
        "  File \"<pyshell#69>\", line 1, in <module>\n",
        "    icecream['누가바']\n",
        "KeyError: '누가바'\n",
        "\n",
        "#답 키 값만 있고 벨류를 안정해 줬다. 항목에 없는 키를 호출했다."
      ],
      "metadata": {
        "id": "9Kw5hrHQGYKn"
      },
      "execution_count": null,
      "outputs": []
    },
    {
      "cell_type": "code",
      "source": [
        "#90 메로나의 가격만 출력하라\n",
        "#print(temp1(0))\n",
        "temp1[\"메로나\"] = 1000\n",
        "print(\"메로나 가격: \", temp1[\"메로나\"])\n",
        "#배운 점 : 딕셔너리에서는 키값을 호출하면 벨류도 따라온다."
      ],
      "metadata": {
        "id": "Es3Tp6xRGY-Q",
        "colab": {
          "base_uri": "https://localhost:8080/"
        },
        "outputId": "869c74aa-d912-4ed6-9745-bddbc78b3fee"
      },
      "execution_count": null,
      "outputs": [
        {
          "output_type": "stream",
          "name": "stdout",
          "text": [
            "메로나 가격:  1000\n"
          ]
        }
      ]
    }
  ]
}