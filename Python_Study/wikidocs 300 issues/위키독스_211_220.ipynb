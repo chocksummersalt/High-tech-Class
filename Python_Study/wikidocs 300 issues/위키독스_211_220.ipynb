{
  "nbformat": 4,
  "nbformat_minor": 0,
  "metadata": {
    "colab": {
      "provenance": [],
      "authorship_tag": "ABX9TyPXEf/AQSpSG7yVYkQEw6nk",
      "include_colab_link": true
    },
    "kernelspec": {
      "name": "python3",
      "display_name": "Python 3"
    },
    "language_info": {
      "name": "python"
    }
  },
  "cells": [
    {
      "cell_type": "markdown",
      "metadata": {
        "id": "view-in-github",
        "colab_type": "text"
      },
      "source": [
        "<a href=\"https://colab.research.google.com/github/chocksummersalt/python/blob/main/%EC%9C%84%ED%82%A4%EB%8F%85%EC%8A%A4_211_220.ipynb\" target=\"_parent\"><img src=\"https://colab.research.google.com/assets/colab-badge.svg\" alt=\"Open In Colab\"/></a>"
      ]
    },
    {
      "cell_type": "code",
      "source": [
        "#211 함수의 호출 결과를 예측하라\n",
        "def 함수(문자열) :\n",
        "    print(문자열)\n",
        "\n",
        "함수(\"안녕\")\n",
        "함수(\"Hi\")\n",
        "\n",
        "#답: 안녕 hi"
      ],
      "metadata": {
        "colab": {
          "base_uri": "https://localhost:8080/"
        },
        "id": "UqIGxKkDDrvc",
        "outputId": "6023bc43-4797-4ec6-928b-099c74f99b64"
      },
      "execution_count": 1,
      "outputs": [
        {
          "output_type": "stream",
          "name": "stdout",
          "text": [
            "안녕\n",
            "Hi\n"
          ]
        }
      ]
    },
    {
      "cell_type": "code",
      "source": [
        "#212 함수의 호출결과를 예측하라\n",
        "def 함수(a, b) :\n",
        "    print(a + b)\n",
        "\n",
        "함수(3, 4)\n",
        "함수(7, 8)\n",
        "\n",
        "#답: 7 15"
      ],
      "metadata": {
        "colab": {
          "base_uri": "https://localhost:8080/"
        },
        "id": "262mkveaDrHr",
        "outputId": "653ef43b-54ee-4c3c-f7cd-9645f470e243"
      },
      "execution_count": 4,
      "outputs": [
        {
          "output_type": "stream",
          "name": "stdout",
          "text": [
            "7\n",
            "15\n"
          ]
        }
      ]
    },
    {
      "cell_type": "code",
      "source": [
        "#213 에러가 발생하는 원인을 설명하라\n",
        "def 함수(문자열) :\n",
        "    print(문자열)\n",
        "함수()\n",
        "TypeError: 함수() missing 1 required positional argument: '문자열'\n",
        "\n",
        "#답: 문자열을 지정해 주는 함순데 호출할때 문자열을 지정하지 않았음."
      ],
      "metadata": {
        "id": "JPVAhi_ODpnr"
      },
      "execution_count": null,
      "outputs": []
    },
    {
      "cell_type": "code",
      "source": [
        "#214 에러가 발생하는 원인을 설명하라\n",
        "\n",
        "def 함수(a, b) :\n",
        "    print(a + b)\n",
        "\n",
        "함수(\"안녕\", 3)\n",
        "TypeError: must be str, not int\n",
        "\n",
        "#답: 문자열을 받는 함수가 아닌데 문자열을 파라미터로 지정해놨다."
      ],
      "metadata": {
        "id": "k_Zp8Bu1Do4r"
      },
      "execution_count": null,
      "outputs": []
    },
    {
      "cell_type": "code",
      "source": [
        "#215 하나의 문자를 입력받아 문자열 끝에\n",
        "#\":D\" 스마일 문자열을 이어 붙여 출력하는 print_with_smile 함수를 정의하라.\n",
        "def print_with_smile():\n",
        "    a= input(\"문자를 입력하세요:\")\n",
        "    print(a, \":D\")\n",
        "print_with_smile()"
      ],
      "metadata": {
        "colab": {
          "base_uri": "https://localhost:8080/"
        },
        "id": "zdRGkYpPDn48",
        "outputId": "6bb1f7a7-3de5-42ed-f6c1-6814894f9388"
      },
      "execution_count": 11,
      "outputs": [
        {
          "output_type": "stream",
          "name": "stdout",
          "text": [
            "문자를 입력하세요:dd\n",
            "dd :D\n"
          ]
        }
      ]
    },
    {
      "cell_type": "code",
      "source": [
        "#216 215에서 정의한 함수를 호출하라. 파라미터는 \"안녕하세요\"로 입력하라.\n",
        "print_with_smile()"
      ],
      "metadata": {
        "colab": {
          "base_uri": "https://localhost:8080/"
        },
        "id": "obRtQ4IVDnIs",
        "outputId": "9b784d76-bff7-4258-fbb6-863f3752f5b1"
      },
      "execution_count": 12,
      "outputs": [
        {
          "output_type": "stream",
          "name": "stdout",
          "text": [
            "문자를 입력하세요:안녕하세요\n",
            "안녕하세요 :D\n"
          ]
        }
      ]
    },
    {
      "cell_type": "code",
      "source": [
        "#217 현재 가격을 입력 받아 상한가 (30%)를 출력하는 print_upper_price 함수를 정의하라.\n",
        "def print_upper_price():\n",
        "    thrty = int(input(\"숫자를 입력하세요 :\"))\n",
        "    print(thrty*0.3+thrty)\n",
        "print_upper_price()"
      ],
      "metadata": {
        "colab": {
          "base_uri": "https://localhost:8080/"
        },
        "id": "Sua0j-G0DmWL",
        "outputId": "bb665458-fce4-48bf-bd2a-7f48429637e9"
      },
      "execution_count": 19,
      "outputs": [
        {
          "output_type": "stream",
          "name": "stdout",
          "text": [
            "숫자를 입력하세요 :60\n",
            "78.0\n"
          ]
        }
      ]
    },
    {
      "cell_type": "code",
      "source": [
        "#218 두 개의 숫자를 입력받아 두 수의 합을 출력하는 print_sum 함수를 정의하라.\n",
        "\n",
        "def twosome():\n",
        "    one=int(input(\"첫번째 수를 입력해주세요:\"))\n",
        "    two=int(input(\"두번째 수를 입력해주세요:\"))\n",
        "    print(one, \"더하기\", two, \"=\",one+two) #sum기능은 자료구조에서 쓰는것. 그냥 더하기 하면 된다.\n",
        "twosome()"
      ],
      "metadata": {
        "colab": {
          "base_uri": "https://localhost:8080/"
        },
        "id": "35DaqsEdDljU",
        "outputId": "484156a3-044a-4878-ce83-4437fbbe53c4"
      },
      "execution_count": 23,
      "outputs": [
        {
          "output_type": "stream",
          "name": "stdout",
          "text": [
            "첫번째 수를 입력해주세요:10\n",
            "두번째 수를 입력해주세요:45\n",
            "10 더하기 45 = 55\n"
          ]
        }
      ]
    },
    {
      "cell_type": "code",
      "source": [
        "#219 두 개의 숫자를 입력받아\n",
        "# 합/차/곱/나눗셈을 출력하는 print_arithmetic_operation 함수를 작성하라.\n",
        "def print_arithmetic_operation(a, b):\n",
        "    print(a, \"+\", b, \"=\", a + b)\n",
        "    print(a, \"-\", b, \"=\", a - b)\n",
        "    print(a, \"*\", b, \"=\", a * b)\n",
        "    print(a, \"/\", b, \"=\", a / b)\n",
        "a= int(input())\n",
        "b= int(input())\n",
        "print_arithmetic_operation(a, b)"
      ],
      "metadata": {
        "colab": {
          "base_uri": "https://localhost:8080/"
        },
        "id": "D26_GJ7HDkoV",
        "outputId": "31a6c940-dc6f-4d1f-a749-a33bdab772ec"
      },
      "execution_count": 27,
      "outputs": [
        {
          "output_type": "stream",
          "name": "stdout",
          "text": [
            "465\n",
            "4648\n",
            "465 + 4648 = 5113\n",
            "465 - 4648 = -4183\n",
            "465 * 4648 = 2161320\n",
            "465 / 4648 = 0.10004302925989673\n"
          ]
        }
      ]
    },
    {
      "cell_type": "code",
      "execution_count": 30,
      "metadata": {
        "colab": {
          "base_uri": "https://localhost:8080/"
        },
        "id": "VDVeusv8Dgls",
        "outputId": "c2331581-b0b1-408b-816a-b657fd40d462"
      },
      "outputs": [
        {
          "output_type": "stream",
          "name": "stdout",
          "text": [
            "first number:2\n",
            "second number:4\n",
            "thrd number:8\n",
            "8\n"
          ]
        }
      ],
      "source": [
        "#220 세 개의 숫자를 입력받아 가장 큰수를 출력하는 print_max 함수를 정의하라.\n",
        "#단 if 문을 사용해서 수를 비교하라.\n",
        "\n",
        "def print_max():\n",
        "    a = int(input(\"first number:\"))\n",
        "    b = int(input(\"second number:\"))\n",
        "    c = int(input(\"thrd number:\"))\n",
        "    max_val = 0\n",
        "    if a > max_val :\n",
        "        max_val = a\n",
        "    if b > max_val:\n",
        "        max_val = b\n",
        "    if c > max_val:\n",
        "        max_val = c\n",
        "    print(max_val)\n",
        "print_max()"
      ]
    }
  ]
}
