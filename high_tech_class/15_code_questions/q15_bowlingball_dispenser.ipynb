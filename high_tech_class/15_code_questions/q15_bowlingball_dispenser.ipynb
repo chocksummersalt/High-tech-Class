{
  "nbformat": 4,
  "nbformat_minor": 0,
  "metadata": {
    "colab": {
      "provenance": [],
      "gpuType": "T4",
      "include_colab_link": true
    },
    "kernelspec": {
      "name": "python3",
      "display_name": "Python 3"
    },
    "language_info": {
      "name": "python"
    },
    "accelerator": "GPU"
  },
  "cells": [
    {
      "cell_type": "markdown",
      "metadata": {
        "id": "view-in-github",
        "colab_type": "text"
      },
      "source": [
        "<a href=\"https://colab.research.google.com/github/chocksummersalt/Python_Study/blob/main/high_tech_class/15_code_questions/q15_bowlingball_dispenser.ipynb\" target=\"_parent\"><img src=\"https://colab.research.google.com/assets/colab-badge.svg\" alt=\"Open In Colab\"/></a>"
      ]
    },
    {
      "cell_type": "markdown",
      "source": [
        "A, B 두 사람이 볼링을 치고 있다. 두 사람은 서로 무게가 다른 볼링공을 고르려고 한다.\n",
        "\n",
        "볼링공은 총 N개가 있으며, 각 볼링공마다 무게가 주어진다.\n",
        "\n",
        "볼링공의 번호는 1번부터 N번까지 차례대로 부여된다.\n",
        "\n",
        "같은 무게의 공이 여러 개 있을 수 있지만, 서로 다른 공으로 간주한다.\n",
        "\n",
        "볼링공의 무게는 1부터 M까지의 자연수 형태로 존재한다."
      ],
      "metadata": {
        "id": "JKQdRKngzSBQ"
      }
    },
    {
      "cell_type": "markdown",
      "source": [
        "(입력조건)\n",
        "첫째 줄에 볼링공의 개수 N (1 ≤ N ≤ 1,000) 과 공의 최대 무게 M (1 ≤ M ≤ 10) 이 주어진다.\n",
        "\n",
        "둘째 줄에 각 볼링공의 무게가 공백으로 구분되어 주어진다. (1 이상 M 이하)\n",
        "\n"
      ],
      "metadata": {
        "id": "3T6lhoHpzT2t"
      }
    },
    {
      "cell_type": "code",
      "source": [
        "import random\n",
        "\n",
        "랜덤볼링공 = []\n",
        "\n",
        "# 1. 사용자로부터 숫자 입력\n",
        "갯수 = int(input(\"볼링공 개수를 입력하세요: \"))\n",
        "\n",
        "# 2. 입력한 갯수만큼 랜덤 숫자 뽑기\n",
        "for i in range(갯수):\n",
        "    볼링공 = random.randint(1, 10)\n",
        "    랜덤볼링공.append(볼링공)\n",
        "\n",
        "# 3. A와 B가 랜덤으로 하나씩 선택\n",
        "사람A = 랜덤볼링공[random.randint(0, len(랜덤볼링공) - 1)]\n",
        "사람B = 랜덤볼링공[random.randint(0, len(랜덤볼링공) - 1)]\n",
        "\n",
        "# 4. 결과 출력\n",
        "print(\"볼링공 무게 리스트:\", 랜덤볼링공)\n",
        "print(\"사람 A가 고른 볼링공:\", 사람A)\n",
        "print(\"사람 B가 고른 볼링공:\", 사람B)"
      ],
      "metadata": {
        "id": "ucLqsGBrzpD_",
        "colab": {
          "base_uri": "https://localhost:8080/"
        },
        "outputId": "9be56877-a0e3-47d6-cf3c-f7764787859f"
      },
      "execution_count": 10,
      "outputs": [
        {
          "output_type": "stream",
          "name": "stdout",
          "text": [
            "볼링공 개수를 입력하세요: 10\n",
            "볼링공 무게 리스트: [1, 6, 8, 3, 8, 8, 1, 7, 6, 2]\n",
            "사람 A가 고른 볼링공: 8\n",
            "사람 B가 고른 볼링공: 2\n"
          ]
        }
      ]
    }
  ]
}