{
  "nbformat": 4,
  "nbformat_minor": 0,
  "metadata": {
    "colab": {
      "provenance": [],
      "authorship_tag": "ABX9TyPLuVeAzu9qYFSzkjm9Ck0p",
      "include_colab_link": true
    },
    "kernelspec": {
      "name": "python3",
      "display_name": "Python 3"
    },
    "language_info": {
      "name": "python"
    }
  },
  "cells": [
    {
      "cell_type": "markdown",
      "metadata": {
        "id": "view-in-github",
        "colab_type": "text"
      },
      "source": [
        "<a href=\"https://colab.research.google.com/github/chocksummersalt/python/blob/main/%EC%A1%B0%EC%84%B1%EB%AF%BC_%EC%BD%94%EB%94%A9%EB%AC%B8%EC%A0%9C%ED%92%80%EC%9D%B4_250421.ipynb\" target=\"_parent\"><img src=\"https://colab.research.google.com/assets/colab-badge.svg\" alt=\"Open In Colab\"/></a>"
      ]
    },
    {
      "cell_type": "code",
      "execution_count": null,
      "metadata": {
        "colab": {
          "base_uri": "https://localhost:8080/"
        },
        "id": "dS0xvphZHEDi",
        "outputId": "bef040f4-84ec-4238-acbd-f64401cb0ebc"
      },
      "outputs": [
        {
          "output_type": "stream",
          "name": "stdout",
          "text": [
            "비밀번호를 입력하시오:12dasD\n",
            "강도 보통\n"
          ]
        }
      ],
      "source": [
        "#1번 비밀번호 강도 검사\n",
        "#비밀번호 입력받기\n",
        "#길이가 8자 이상이면 2점 숫자 하나이상 포함하면 2점 대문자포함 1점 소문자 포함 1점\n",
        "#각 조건은 별도의 함수로 검사하고 점수와 피드백 메세지를 반환\n",
        "#총점 6점 이상: 강도 강함\n",
        "#4~5점 : 강도 보통\n",
        "#3점 이하: 강도 약함\n",
        "#각 조건별 평가 메세지 반환 ex)숫자포함 O, 대문자 X, 소문자 O\n",
        "\n",
        "비밀번호=input(\"비밀번호를 입력하시오:\")\n",
        "\n",
        "count = 0\n",
        "if len(비밀번호) >= 8:\n",
        "    count= count + 2\n",
        "\n",
        "if any(c.isupper() for c in 비밀번호):\n",
        "\n",
        "    count = count + 1\n",
        "\n",
        "if any(j.lower() for j in 비밀번호):\n",
        " #   any(비밀번호.lower()) == True\n",
        "    count = count + 1\n",
        "\n",
        "#새로 알게된 부분.\n",
        "if any(d.isdigit() for d in 비밀번호):\n",
        "    count = count + 2\n",
        "\n",
        "if count >= 6:\n",
        "    print(\"강도 강함\")\n",
        "elif count >=4:\n",
        "    print(\"강도 보통\")\n",
        "else:\n",
        "    print(\"강도 약함\")"
      ]
    },
    {
      "cell_type": "code",
      "source": [
        "#2번 정수 n을 입력하고 n까지 짝수의 합\n",
        "정수 = int(input(\"정수를 입력해주세요:\"))\n",
        "정수저장 = []\n",
        "합 = 0\n",
        "for i in range(1, 정수+1):\n",
        "    if i% 2 == 0 :\n",
        "     정수저장.append(i)\n",
        "     합 = 정수 + i\n",
        "print(합)\n"
      ],
      "metadata": {
        "colab": {
          "base_uri": "https://localhost:8080/"
        },
        "id": "gK9QWcPcH2e-",
        "outputId": "dee20c2f-50c6-40b3-f77e-43cf4c3e8a4a"
      },
      "execution_count": null,
      "outputs": [
        {
          "output_type": "stream",
          "name": "stdout",
          "text": [
            "정수를 입력해주세요:212\n",
            "424\n"
          ]
        }
      ]
    },
    {
      "cell_type": "code",
      "source": [
        "#3번 손님이 직접 메뉴 이름을 입력하여 주문, 끝이라고 입력할 때 까지 주문 계속\n",
        "#주문한 메뉴의 총 결제금액 출력\n",
        "#카페에는 고정된 메뉴가 있고 입력한 메뉴가 목록에 없을때는 메뉴에 없다 표시하고 다시 입력받기\n",
        "#메뉴: 딕셔너리 형태로 구성된 이름:가격 쌍, 입력은 입력되는 문자열은 공백없는 한글\n",
        "#주문: 문자열 리스트, 주문한 음료의 이름이 담겨있음. 총 결제 금액은 n원입니다.로 출력 n은 총합\n",
        "메뉴 = {\"아메리카노\":1500, \"카페라떼\":2000, \"필터커피\":5000} #메뉴-가격 딕셔너리\n",
        "메뉴저장 = [] #총합을 낼 리스트\n",
        "\n",
        "while True:\n",
        "    메뉴입력 = input(\"아메리카노, 카페라떼, 필터커피만 가능합니다:(종료하려면 '끝'을 입력)\")\n",
        "    if 메뉴입력 == '끝':\n",
        "        break\n",
        "    elif 메뉴입력 ==\"아메리카노\":\n",
        "        메뉴저장.append(메뉴[\"아메리카노\"])\n",
        "    elif 메뉴입력 ==\"카페라떼\":\n",
        "        메뉴저장.append(메뉴[\"카페라떼\"])\n",
        "    elif 메뉴입력 ==\"필터커피\":\n",
        "        메뉴저장.append(메뉴[\"필터커피\"])\n",
        "    else:\n",
        "        print(\"다시 입력해 주세요:\")\n",
        "\n",
        "총액=sum(메뉴저장)\n",
        "print(f\"총 결제금액은{총액} 입니다.\")"
      ],
      "metadata": {
        "colab": {
          "base_uri": "https://localhost:8080/"
        },
        "id": "bIzRN3r2IBL1",
        "outputId": "4327be5c-38bf-483a-cb8f-6a44244f23ce"
      },
      "execution_count": null,
      "outputs": [
        {
          "output_type": "stream",
          "name": "stdout",
          "text": [
            "아메리카노, 카페라떼, 필터커피만 가능합니다:(종료하려면 '끝'을 입력)아메리카노\n",
            "아메리카노, 카페라떼, 필터커피만 가능합니다:(종료하려면 '끝'을 입력)카페라떼\n",
            "아메리카노, 카페라떼, 필터커피만 가능합니다:(종료하려면 '끝'을 입력)필터커피\n",
            "아메리카노, 카페라떼, 필터커피만 가능합니다:(종료하려면 '끝'을 입력)끝\n",
            "총 결제금액은8500 입니다.\n"
          ]
        }
      ]
    },
    {
      "cell_type": "code",
      "source": [
        "#4번 블랙잭"
      ],
      "metadata": {
        "id": "VxulqcLwJ-fF"
      },
      "execution_count": null,
      "outputs": []
    },
    {
      "cell_type": "code",
      "source": [
        "#5번 신용카드 번호 만들기\n",
        "#4,5,6 중 하나로 시작되어야 함\n",
        "#총 16자리 숫자여야 함\n",
        "#숫자로만 구성되어야 함\n",
        "#4자리씩 -으로 나뉘어야 함\n",
        "#첫번째 줄 카드 번호 생성할 갯수를 입력\n",
        "#두번째 줄 각각 카드번호 출력\n",
        "\n",
        "#유효하면 같이 vaild를\n",
        "#유효하지 않으면 invalid를 이어서 출력해주세요~\n",
        "\n",
        "import random\n",
        "import math\n",
        "\n",
        "\n",
        "while True:\n",
        "    끝내기=(input(\"생성할 카드 수: (종료하려면 '끝'을 입력)\"))\n",
        "\n",
        "    if 끝내기 == '끝':\n",
        "        break\n",
        "\n",
        "    카드번호_생성횟수 = int(끝내기)\n",
        "    for 갯수 in range(카드번호_생성횟수):\n",
        "        카드번호_생성=(math.trunc(random.uniform(4.0,6.999) * 1000) ,\"-\", random.randint(1,9999), \"-\", random.randint(1,9999), \"-\", random.randint(1,9999))\n",
        "        print(카드번호_생성)\n",
        "        시작번호 = math.trunc(random.uniform(4.0, 6.999))\n",
        "\n",
        "    if 시작번호 in [4, 5, 6]:\n",
        "        print(\"valid\")\n",
        " #   if 카드번호_생성[0]==5:\n",
        " #       print(\"valid\")\n",
        "#    if 카드번호_생성[0]==6:\n",
        " #       print(\"valid\")\n",
        "    else:\n",
        "        print(\"invalid\")\n"
      ],
      "metadata": {
        "id": "rWjjs-xqKAWk",
        "colab": {
          "base_uri": "https://localhost:8080/"
        },
        "outputId": "d430083d-81bc-4ffc-a6ad-02ea03d426c5"
      },
      "execution_count": null,
      "outputs": [
        {
          "name": "stdout",
          "output_type": "stream",
          "text": [
            "생성할 카드 수: (종료하려면 '끝'을 입력)끝\n"
          ]
        }
      ]
    },
    {
      "cell_type": "code",
      "source": [
        "#6번 볼링 점수 기록\n",
        "#이름 입력, 그 이름으로 텍스트 파일 생성\n",
        "#10개의 점수를 입력, 총점 계산하여 파일에 저장\n"
      ],
      "metadata": {
        "id": "qfpn4uM0LZ_8"
      },
      "execution_count": null,
      "outputs": []
    },
    {
      "cell_type": "code",
      "source": [
        "#7번 #여러 개의 단어로 이루어진 배열이 주어집니다.\n",
        "#또한 slices 라는 배열이 주어 집니다.\n",
        "#각 단어에서 특정 구간(부분 문자열)을 잘라 조합하여\n",
        "# \"polytech\"가 나오도록 코드를 짜보시오\n",
        "#def hidden_word (words, slices):\n",
        "  #  answer = \"\"\n",
        "\n",
        " #   return answer\n",
        "words = [\"apocalypse\",\"meteorology\",\"architect\",\"cheetah\"]\n",
        "slices = [[(1, 2), (5, 6)],[(2, 3)],[(2, 2)],[(1, 1)]]\n",
        "\n",
        "po = words[0][1:3]\n",
        "ly = words[1][7:8]+words[1][10:11]\n",
        "te = words[2][5:7]\n",
        "ch = words[3][0:2]\n",
        "print(po+ly+te+ch)\n",
        "\n",
        "#print(hidden_word(words, slices))"
      ],
      "metadata": {
        "colab": {
          "base_uri": "https://localhost:8080/"
        },
        "id": "jcADDj_KM1zL",
        "outputId": "374b5443-d257-4bfd-a60c-55ee68c2164f"
      },
      "execution_count": null,
      "outputs": [
        {
          "output_type": "stream",
          "name": "stdout",
          "text": [
            "polytech\n"
          ]
        }
      ]
    },
    {
      "cell_type": "code",
      "source": [
        "#8번 0416 파이썬 문제 이민솔\n",
        "\n",
        "#더치페이 프로그램\n",
        "\n",
        "##김, 고, 장, 백은 모임에서 식당을 바를 갔다가 카페를 갔다.\n",
        "#이 때 식당, 바, 카페에서 나온 금액을 각각 입력받고 각자 먹은 만큼 계산할 수 있는 코드를 만든다.\n",
        "#각각의 인원은 중간까지만 가거나, 중간에 합류할 수 있다.\n",
        "\n",
        "사람 = {\"김\":0,\"고\":0,\"장\":0,\"백\":0}\n",
        "장소 = [\"식당\", \"바\", \"카페\"]\n",
        "인원별_가격= 금액입력/인원\n",
        "인원=len(합류리스트)\n",
        "바가격 =0\n",
        "식당가격=0\n",
        "카페가격=0\n",
        "합류리스트=[]\n",
        "for  어디서 in 장소:\n",
        "    금액입력=int(input(\"가격을 입력하시오:\"))\n",
        "\n",
        "\n",
        "for 참가자 in [김,고,장,백]\n",
        "#식당별로 인원을 정할 수 있어야하고, 근데 왔다갔다 하는건 아니고 순차적으로 진행된다는 점.\n",
        "#식당별로 가격을 입력해서 나눠야 한다..\n",
        "#김씨가 왔다!, 고씨가 갔다!를 어떻게 구현하지 pop?\n",
        "\n",
        "\n",
        "#예시)고와 장은 식당은 가지 않고 바에서 합류했으며, 백과 장은 카페를 가지 않고 먼저 일어났다."
      ],
      "metadata": {
        "id": "9KiSUHFQNmRS"
      },
      "execution_count": null,
      "outputs": []
    },
    {
      "cell_type": "code",
      "source": [
        "#9번 숫자야구\n",
        "#무작위의 세자리 자연수를 만든다.\n",
        "#세자리의 수를 입력합니다.\n",
        "#숫자만 맞추고 자릿수는 맞지 않는 경우 ball, 둘다 맞으면 strike, 다 틀린경우 out"
      ],
      "metadata": {
        "id": "1AICTmC7NsH7"
      },
      "execution_count": null,
      "outputs": []
    },
    {
      "cell_type": "code",
      "source": [
        "# 10번 근무시간이 12시간 이하일때 급여\n",
        "\n",
        "def regular_pay(hours, wage):\n",
        "    return hours * wage\n",
        "\n",
        "def overtime_pay(hours, wage, standard_hours=12, overtime_rate=1.3):\n",
        "    overtime_hours = hours - standard_hours\n",
        "    return (standard_hours * wage) + (overtime_hours * wage * overtime_rate)\n",
        "\n",
        "pay_calc = {https://accounts.google.com/SignOutOptions?hl=ko&continue=https://colab.research.google.com/&ec=GBRAqQM\n",
        "    True: regular_pay,\n",
        "    False: overtime_pay\n",
        "}\n",
        "\n",
        "hours = float(input(\"주당 총 근무 시간: \"))\n",
        "wage = float(input(\"시간당 급여: \"))\n",
        "\n",
        "total_pay = pay_calc[hours <= 12](hours, wage)\n",
        "print(f\"1주일 급여는 {total_pay:.2f}원 입니다.\")"
      ],
      "metadata": {
        "colab": {
          "base_uri": "https://localhost:8080/"
        },
        "id": "xVfUdEYLOn3y",
        "outputId": "d8fe3a15-7db2-425b-fec7-2234aa197e13"
      },
      "execution_count": null,
      "outputs": [
        {
          "output_type": "stream",
          "name": "stdout",
          "text": [
            "주당 총 근무 시간: 30\n",
            "시간당 급여: 11000\n",
            "1주일 급여는 389400.00원 입니다.\n"
          ]
        }
      ]
    },
    {
      "cell_type": "code",
      "source": [
        "#11번 물건 가격이 10,000이상이면 10% 할인\n",
        "#미만이면 할인x 여러 개의 물건을 샀을 때 최종 지불 금액 출력\n",
        "\n",
        "물건 = 0\n",
        "장바구니=[]\n",
        "while True:\n",
        "    물건 = input(\"물건 가격 입력 (그만하려면 '끝' 입력): \")\n",
        "\n",
        "    if 물건 == \"끝\":\n",
        "        break\n",
        "    가격 = int(물건)\n",
        "    if 가격 >= 10000:\n",
        "     할인가 = 가격*9/10\n",
        "     장바구니.append(할인가)\n",
        "    else:\n",
        "     장바구니.append(가격)\n",
        "\n",
        "print(sum(장바구니))"
      ],
      "metadata": {
        "id": "cd1BG-ksO8zT",
        "colab": {
          "base_uri": "https://localhost:8080/"
        },
        "outputId": "c277dd74-c1ac-4bf4-f01f-0d9eaa7ff3a1"
      },
      "execution_count": null,
      "outputs": [
        {
          "output_type": "stream",
          "name": "stdout",
          "text": [
            "물건 가격 입력 (그만하려면 '끝' 입력): 10000\n",
            "물건 가격 입력 (그만하려면 '끝' 입력): 끝\n",
            "9000.0\n"
          ]
        }
      ]
    },
    {
      "cell_type": "code",
      "source": [
        "#휴가 일수 계산기\n",
        "#1. 휴가는 20일 출근에 1일이 부여된다.\n",
        "휴가 = 0\n",
        "\n",
        "def 휴가일수계산기(출근일수):\n",
        "\n",
        "    return 출근일수//20\n",
        "\n",
        "\n",
        "#2. 출근 일을 입력하면 휴가를 계산하는 함수\n",
        "\n",
        "\n",
        "#3. 이름을 넣을 딕셔너리를 생성 총 10명 %\n",
        "이름과휴가= {}\n",
        "for _ in range(10):\n",
        "    이름입력 = input(\"이름을 입력하세요 (그만하려면 '종료' 입력): \")\n",
        "    if 이름입력 == \"종료\":\n",
        "        break\n",
        "\n",
        "    출근일수입력 = int(input(f\"{이름입력}의 출근 일수를 입력하세요: \"))\n",
        "    휴가일수 = 휴가일수계산기(출근일수입력)\n",
        "\n",
        "    이름과휴가[이름입력] = 휴가일수\n",
        "\n",
        "while True:\n",
        "    검색이름 = input(\"\\n검색할 이름을 입력하세요 (종료하려면 '종료' 입력): \")\n",
        "    if 검색이름 == \"종료\":\n",
        "        print(\"검색을 종료합니다.\")\n",
        "        break\n",
        "\n",
        "    if 검색이름 in 이름과휴가:\n",
        "        print(f\"{검색이름}의 휴가 일수는 {이름과휴가[검색이름]}일입니다.\")\n",
        "    else:\n",
        "        print(f\"{검색이름}은(는) 목록에 없습니다.\")"
      ],
      "metadata": {
        "id": "voV1hxPs0QqN"
      },
      "execution_count": null,
      "outputs": []
    },
    {
      "cell_type": "code",
      "source": [
        "#12번 특정 조건에 맞는 숫자 찾기\n",
        "#정수 n을 입력했을때, 1부터 n까지 숫자중에서 3의 배수는 맞는데 2의 배수는 아닌 수들만\n",
        "#리스트에 담아 반환하는 함수를 작성\n",
        "\n",
        "\n",
        "정수리스트=[]\n",
        "while True:\n",
        "    입력값 = input(\"정수를 입력해주세요 (끝내려면 '끝' 입력): \")\n",
        "\n",
        "    if 입력값 == \"끝\":\n",
        "        break\n",
        "\n",
        "    #if 정수%2 !=0:\n",
        "   #   if 정수%3 == 0:\n",
        "   #       정수리스트.append(정수)\n",
        "    #      break\n",
        "    try:\n",
        "        정수 = int(입력값)\n",
        "        if 정수 % 2 != 0 and 정수 % 3 == 0:\n",
        "         정수리스트.append(정수)\n",
        "    except:\n",
        "        print(\"숫자를 입력하시오\")\n",
        "print(정수리스트)"
      ],
      "metadata": {
        "id": "YUwDMmcdPeEy",
        "colab": {
          "base_uri": "https://localhost:8080/"
        },
        "outputId": "3c454d5a-3210-4254-a838-38046e0417ea"
      },
      "execution_count": null,
      "outputs": [
        {
          "output_type": "stream",
          "name": "stdout",
          "text": [
            "정수를 입력해주세요 (끝내려면 '끝' 입력): 20\n",
            "정수를 입력해주세요 (끝내려면 '끝' 입력): 30\n",
            "정수를 입력해주세요 (끝내려면 '끝' 입력): 9\n",
            "정수를 입력해주세요 (끝내려면 '끝' 입력): 7\n",
            "정수를 입력해주세요 (끝내려면 '끝' 입력): 3\n",
            "정수를 입력해주세요 (끝내려면 '끝' 입력): 21\n",
            "정수를 입력해주세요 (끝내려면 '끝' 입력): 끝\n",
            "[9, 3, 21]\n"
          ]
        }
      ]
    }
  ]
}