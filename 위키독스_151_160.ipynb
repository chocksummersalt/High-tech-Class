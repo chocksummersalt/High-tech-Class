{
  "nbformat": 4,
  "nbformat_minor": 0,
  "metadata": {
    "colab": {
      "provenance": [],
      "authorship_tag": "ABX9TyMK16XrTHEp42P9aDFNKuk2",
      "include_colab_link": true
    },
    "kernelspec": {
      "name": "python3",
      "display_name": "Python 3"
    },
    "language_info": {
      "name": "python"
    }
  },
  "cells": [
    {
      "cell_type": "markdown",
      "metadata": {
        "id": "view-in-github",
        "colab_type": "text"
      },
      "source": [
        "<a href=\"https://colab.research.google.com/github/chocksummersalt/python/blob/main/%EC%9C%84%ED%82%A4%EB%8F%85%EC%8A%A4_151_160.ipynb\" target=\"_parent\"><img src=\"https://colab.research.google.com/assets/colab-badge.svg\" alt=\"Open In Colab\"/></a>"
      ]
    },
    {
      "cell_type": "code",
      "execution_count": null,
      "metadata": {
        "colab": {
          "base_uri": "https://localhost:8080/"
        },
        "id": "aM9nCNmsTW2M",
        "outputId": "4c318a65-85ff-43ff-bcda-98596732483e"
      },
      "outputs": [
        {
          "output_type": "stream",
          "name": "stdout",
          "text": [
            "-20\n",
            "-3\n"
          ]
        }
      ],
      "source": [
        "#151 음수만 출력하라.\n",
        "list1 = [3, -20, -3, 14]\n",
        "for minus in list:\n",
        "    if minus <= 0:\n",
        "        print(minus)\n",
        "    else:\n",
        "        continue"
      ]
    },
    {
      "cell_type": "code",
      "source": [
        "#152 3의 배수만 출력하라\n",
        "list2 = [3, 100, 23, 44]\n",
        "for triple in list2:\n",
        "    if triple % 3 == 0:\n",
        "        print(triple)"
      ],
      "metadata": {
        "colab": {
          "base_uri": "https://localhost:8080/"
        },
        "id": "fkjZOChxT3Vo",
        "outputId": "6908564a-3f1a-4ada-b1f8-a396fe3d98e8"
      },
      "execution_count": null,
      "outputs": [
        {
          "output_type": "stream",
          "name": "stdout",
          "text": [
            "3\n"
          ]
        }
      ]
    },
    {
      "cell_type": "code",
      "source": [
        "#153 20보다 작은 3의 배수를 출력하라\n",
        "l3 = [13, 21, 12, 14, 30, 18]\n",
        "for t20 in l3:\n",
        "    if t20 % 3 == 0:\n",
        "        if t20 <= 20:\n",
        "            print(t20)"
      ],
      "metadata": {
        "colab": {
          "base_uri": "https://localhost:8080/"
        },
        "id": "XSW1DPdTT2ky",
        "outputId": "36e43855-0c6a-4a3f-f94a-0776bb1204a6"
      },
      "execution_count": null,
      "outputs": [
        {
          "output_type": "stream",
          "name": "stdout",
          "text": [
            "12\n",
            "18\n"
          ]
        }
      ]
    },
    {
      "cell_type": "code",
      "source": [
        "#154 세 글자 이상의 문자를 화면에 출력하라.\n",
        "strlist = [\"!\", \"python\", \"csm\"]\n",
        "for thrw in strlist:\n",
        "    if len(thrw) >= 3:\n",
        "        print(thrw)"
      ],
      "metadata": {
        "id": "NxUN_9QdT1sV",
        "colab": {
          "base_uri": "https://localhost:8080/"
        },
        "outputId": "dc3221fe-6826-4516-99f5-9671069bae89"
      },
      "execution_count": null,
      "outputs": [
        {
          "output_type": "stream",
          "name": "stdout",
          "text": [
            "python\n",
            "csm\n"
          ]
        }
      ]
    },
    {
      "cell_type": "code",
      "source": [
        "#155 다음 문자 중 대문자만 출력하라.\n",
        "alpha = [\"A\", \"b\", \"C\"]\n",
        "for al in alpha:\n",
        "    if al.isupper() == True:\n",
        "        print(al)"
      ],
      "metadata": {
        "id": "Axv8qLopT05T",
        "colab": {
          "base_uri": "https://localhost:8080/"
        },
        "outputId": "a70cf60d-a351-48ac-9ffb-9cf97e8de053"
      },
      "execution_count": null,
      "outputs": [
        {
          "output_type": "stream",
          "name": "stdout",
          "text": [
            "A\n",
            "C\n"
          ]
        }
      ]
    },
    {
      "cell_type": "code",
      "source": [
        "#156 소문자만 출력하라\n",
        "for lo in alpha:\n",
        "    if lo.islower() == True:\n",
        "        print(lo)"
      ],
      "metadata": {
        "id": "HHAqcoEmTz4Y",
        "colab": {
          "base_uri": "https://localhost:8080/"
        },
        "outputId": "59b93345-1ed6-47c8-bdc3-c81a9e5b5016"
      },
      "execution_count": null,
      "outputs": [
        {
          "output_type": "stream",
          "name": "stdout",
          "text": [
            "b\n"
          ]
        }
      ]
    },
    {
      "cell_type": "code",
      "source": [
        "#157 이름의 첫글자를 대문자로 바꿔 출력하라.\n",
        "animal3 = [\"dog\", \"cat\", \"mouse\"]\n",
        "for Upani in animal3:\n",
        "    print( Upani[0].upper() + Upani[1:] )"
      ],
      "metadata": {
        "id": "3Ysj0h7lTzFB",
        "colab": {
          "base_uri": "https://localhost:8080/"
        },
        "outputId": "503073e3-3e9c-4d9c-e89e-43bf615a15dc"
      },
      "execution_count": null,
      "outputs": [
        {
          "output_type": "stream",
          "name": "stdout",
          "text": [
            "Dog\n",
            "Cat\n",
            "Mouse\n"
          ]
        }
      ]
    },
    {
      "cell_type": "code",
      "source": [
        "#158 파일확장자를 빼고 출력하시오\n",
        "file1 =[\"python.py\", \"la.py\"]\n",
        "for name in file1:\n",
        "    split = name.split(\".\")\n",
        "    print(split[0])"
      ],
      "metadata": {
        "id": "Grrp5ntRTyQ8",
        "colab": {
          "base_uri": "https://localhost:8080/"
        },
        "outputId": "8b0d165a-d923-4e65-ca42-13a74cbc781b"
      },
      "execution_count": 6,
      "outputs": [
        {
          "output_type": "stream",
          "name": "stdout",
          "text": [
            "python\n",
            "la\n"
          ]
        }
      ]
    },
    {
      "cell_type": "code",
      "source": [
        "#159 확장자가 h인 파일이름을 출력하라.\n",
        "file2 =['intra.h', 'intra.c', 'define.h', 'run.py']\n",
        "for name2 in file2:\n",
        "    split2 = name2.split(\".\")\n",
        "    if split2[1] == \"h\":\n",
        "        print(name2)"
      ],
      "metadata": {
        "id": "WMMJRJTbTxjP",
        "colab": {
          "base_uri": "https://localhost:8080/"
        },
        "outputId": "e9b0f076-e232-4bb0-fe61-501a0fa0b301"
      },
      "execution_count": 23,
      "outputs": [
        {
          "output_type": "stream",
          "name": "stdout",
          "text": [
            "intra.h\n",
            "define.h\n"
          ]
        }
      ]
    },
    {
      "cell_type": "code",
      "source": [
        "#160 확장자가 h나 c인 파일을 화면에 출력하라\n",
        "for name3 in file2:\n",
        "    split3 = name3. split(\".\")\n",
        "    if split3[1] ==\"h\":\n",
        "        print(name3)\n",
        "    elif split3[1] == \"c\" :\n",
        "        print(name3)\n",
        "    else:\n",
        "        break"
      ],
      "metadata": {
        "id": "2OqXkb2gTt6t",
        "colab": {
          "base_uri": "https://localhost:8080/"
        },
        "outputId": "30978d8c-b369-4cec-8a8a-7d44149bed42"
      },
      "execution_count": 24,
      "outputs": [
        {
          "output_type": "stream",
          "name": "stdout",
          "text": [
            "intra.h\n",
            "intra.c\n",
            "define.h\n"
          ]
        }
      ]
    }
  ]
}