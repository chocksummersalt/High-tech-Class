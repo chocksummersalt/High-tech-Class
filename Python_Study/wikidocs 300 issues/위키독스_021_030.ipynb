{
  "nbformat": 4,
  "nbformat_minor": 0,
  "metadata": {
    "colab": {
      "provenance": [],
      "authorship_tag": "ABX9TyNHZQNyI/EmbdL5qC7LGK+5",
      "include_colab_link": true
    },
    "kernelspec": {
      "name": "python3",
      "display_name": "Python 3"
    },
    "language_info": {
      "name": "python"
    }
  },
  "cells": [
    {
      "cell_type": "markdown",
      "metadata": {
        "id": "view-in-github",
        "colab_type": "text"
      },
      "source": [
        "<a href=\"https://colab.research.google.com/github/chocksummersalt/python/blob/main/%EC%9C%84%ED%82%A4%EB%8F%85%EC%8A%A4_021_030.ipynb\" target=\"_parent\"><img src=\"https://colab.research.google.com/assets/colab-badge.svg\" alt=\"Open In Colab\"/></a>"
      ]
    },
    {
      "cell_type": "code",
      "execution_count": null,
      "metadata": {
        "colab": {
          "base_uri": "https://localhost:8080/"
        },
        "id": "uY5ItZiuqjGM",
        "outputId": "f0d34d70-f6cc-43da-e3df-f80d57c36ca6"
      },
      "outputs": [
        {
          "output_type": "stream",
          "name": "stdout",
          "text": [
            "p t\n"
          ]
        }
      ],
      "source": [
        "#21번. letters = 'python' 에서 첫번째와 세번째 문자를 출력\n",
        "#답\n",
        "letters = 'python'\n",
        "print(letters[0], letters[2])\n",
        "#배운점 - letters[0, 2]이런식으로 내부에서 컴마로 할 수 없다.\n",
        "#문자열은 시퀀스로 저장됨."
      ]
    },
    {
      "cell_type": "code",
      "source": [
        "#22번. 자동차번호의 뒤 4자리 숫자만 출력하세요\n",
        "#답\n",
        "plate = \"242로 6757\"\n",
        "print(plate[4:])\n",
        "#배운점 - 슬라이싱 복습"
      ],
      "metadata": {
        "colab": {
          "base_uri": "https://localhost:8080/"
        },
        "id": "5UWawKf4bwwu",
        "outputId": "af8cc89d-7b8b-490b-b472-394ba0cde672"
      },
      "execution_count": null,
      "outputs": [
        {
          "output_type": "stream",
          "name": "stdout",
          "text": [
            " 6757\n"
          ]
        }
      ]
    },
    {
      "cell_type": "code",
      "source": [
        "#23번. 문자열에서 '홀'만 출력하세요\n",
        "string = \"홀짝홀짝홀짝\"\n",
        "print(string[::2])\n",
        "#배운점 - print(string[시작인덱스:끝인덱스:오프셋]) 으로 지정되어있음."
      ],
      "metadata": {
        "colab": {
          "base_uri": "https://localhost:8080/"
        },
        "id": "hM8knEufbzRz",
        "outputId": "c37ec192-c676-4dc9-c33c-f09130a1b606"
      },
      "execution_count": null,
      "outputs": [
        {
          "output_type": "stream",
          "name": "stdout",
          "text": [
            "홀홀홀\n"
          ]
        }
      ]
    },
    {
      "cell_type": "code",
      "source": [
        "#24번. 문자열을 거꾸로 출력하세요\n",
        "#답\n",
        "string = \"python\"\n",
        "print(string[::-1])\n",
        "#배운점 - -1을 오프셋에 지정하면 끝자리부터 가져온다."
      ],
      "metadata": {
        "colab": {
          "base_uri": "https://localhost:8080/"
        },
        "id": "IfTRKPh1b1lb",
        "outputId": "42893132-b1e5-4e96-eb68-c44f7d37db68"
      },
      "execution_count": null,
      "outputs": [
        {
          "output_type": "stream",
          "name": "stdout",
          "text": [
            "nohtyp\n"
          ]
        }
      ]
    },
    {
      "cell_type": "code",
      "source": [
        "#25번. 아래의 전화번호에서 하이픈을 제거하고 출력하세요\n",
        "#답\n",
        "phone = \"010-8408-0374\"\n",
        "phone_1 = phone.replace(\"-\", \" \")\n",
        "print(phone_1)\n",
        "#배운점 - replace의 활용법 앞에서 필터하고 뒤에서 갈아치울 거 입력."
      ],
      "metadata": {
        "colab": {
          "base_uri": "https://localhost:8080/"
        },
        "id": "klfWd0GBb3yT",
        "outputId": "fdf8633a-cd05-4314-ae52-567a06e91d01"
      },
      "execution_count": null,
      "outputs": [
        {
          "output_type": "stream",
          "name": "stdout",
          "text": [
            "010 8408 0374\n"
          ]
        }
      ]
    },
    {
      "cell_type": "code",
      "source": [
        "#26번.위의 전화번호를 모두 붙여 출력하기\n",
        "#답\n",
        "\n",
        "phone_2 = phone.replace(\"-\", \"\")\n",
        "print(phone_2)\n",
        "#배운점 - replace 활용 2"
      ],
      "metadata": {
        "colab": {
          "base_uri": "https://localhost:8080/"
        },
        "id": "Pf7LZyPNb5UU",
        "outputId": "120c5e54-e8b8-4acc-f4b2-da7944dcfb0b"
      },
      "execution_count": null,
      "outputs": [
        {
          "output_type": "stream",
          "name": "stdout",
          "text": [
            "01084080374\n"
          ]
        }
      ]
    },
    {
      "cell_type": "code",
      "source": [
        "#27번. url = \"http://sharebook.kr\"에서 도메인 출력하기\n",
        "#답\n",
        "url = \"http://sharebook.kr\"\n",
        "domain = url.split('.')\n",
        "print(domain[-1])\n",
        "#배운점 - split으로 나누면 나누는기준이 되는 부호를 기점으로 인덱스가 나뉨"
      ],
      "metadata": {
        "colab": {
          "base_uri": "https://localhost:8080/"
        },
        "id": "GcsOblD0b6j8",
        "outputId": "2df9e4a6-4f70-4075-e319-61b50ac91c44"
      },
      "execution_count": null,
      "outputs": [
        {
          "output_type": "stream",
          "name": "stdout",
          "text": [
            "kr\n"
          ]
        }
      ]
    },
    {
      "cell_type": "code",
      "source": [
        "#28번. 아래 코드의 실행결과를 예상해 보세요.\n",
        "#답\n",
        "lang = 'python'\n",
        "lang[0] = 'P'\n",
        "print(lang)\n",
        "#배운점 - 문자열은 리스트 수정의 방법으로 수정할 수 없음."
      ],
      "metadata": {
        "id": "7_Mfd7ZMb85L"
      },
      "execution_count": null,
      "outputs": []
    },
    {
      "cell_type": "code",
      "source": [
        "#29번 소문자 a를 대문자 A라고 변경하기\n",
        "#답\n",
        "string = \"sadqdwqaadadasca\"\n",
        "stsp = string.replace(\"a\", \"A\")\n",
        "print(stsp)\n",
        "#배운점 - replace의 활용법"
      ],
      "metadata": {
        "colab": {
          "base_uri": "https://localhost:8080/"
        },
        "id": "EkeSn8fsb97L",
        "outputId": "e8c2028c-7fba-40fa-824d-aaecd0f069fa"
      },
      "execution_count": null,
      "outputs": [
        {
          "output_type": "stream",
          "name": "stdout",
          "text": [
            "sAdqdwqAAdAdAscA\n"
          ]
        }
      ]
    },
    {
      "cell_type": "code",
      "source": [
        "#30번. 아래 코드의 실행결과를 예상해보기.\n",
        "#답\n",
        "a = \"abcd\"\n",
        "a.replace('b','B')\n",
        "print(a)\n",
        "#배운점 - replace의 속성. 원본은 건들이지 않는다. 다른 데이터를 생성하는 것임."
      ],
      "metadata": {
        "id": "L_wPDFhgb_DT"
      },
      "execution_count": null,
      "outputs": []
    }
  ]
}
