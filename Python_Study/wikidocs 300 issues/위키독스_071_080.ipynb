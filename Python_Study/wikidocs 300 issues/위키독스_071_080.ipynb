{
  "nbformat": 4,
  "nbformat_minor": 0,
  "metadata": {
    "colab": {
      "provenance": [],
      "authorship_tag": "ABX9TyOFfw6Z0EtsVzaOqPADBRyP",
      "include_colab_link": true
    },
    "kernelspec": {
      "name": "python3",
      "display_name": "Python 3"
    },
    "language_info": {
      "name": "python"
    }
  },
  "cells": [
    {
      "cell_type": "markdown",
      "metadata": {
        "id": "view-in-github",
        "colab_type": "text"
      },
      "source": [
        "<a href=\"https://colab.research.google.com/github/chocksummersalt/python/blob/main/%EC%9C%84%ED%82%A4%EB%8F%85%EC%8A%A4_71_80.ipynb\" target=\"_parent\"><img src=\"https://colab.research.google.com/assets/colab-badge.svg\" alt=\"Open In Colab\"/></a>"
      ]
    },
    {
      "cell_type": "code",
      "execution_count": null,
      "metadata": {
        "colab": {
          "base_uri": "https://localhost:8080/"
        },
        "id": "GnmqouePqFGE",
        "outputId": "c418176f-3e59-4e7f-d13b-17403045d122"
      },
      "outputs": [
        {
          "output_type": "stream",
          "name": "stdout",
          "text": [
            "(1, 2, 3) <class 'tuple'>\n"
          ]
        }
      ],
      "source": [
        "#71. my_variable 이름의 비어있는 튜플을 만들자.\n",
        "my_variable = (1, 2, 3)\n",
        "print(my_variable, type(my_variable))\n",
        "#배운 점 튜플은 괄호안에 넣어서 만든다."
      ]
    },
    {
      "cell_type": "code",
      "source": [
        "#72. 영화제목을 movie_rank 이름의 튜플에 저장하라.\n",
        "movie_rank = (\"닥터 스트레인지\", \"스플릿\", \"럭키\")\n",
        "print(movie_rank)"
      ],
      "metadata": {
        "colab": {
          "base_uri": "https://localhost:8080/"
        },
        "id": "dqQHPKq6_N8k",
        "outputId": "ef7dd80c-7a98-4a12-fe7a-183032fe05a2"
      },
      "execution_count": null,
      "outputs": [
        {
          "output_type": "stream",
          "name": "stdout",
          "text": [
            "('닥터 스트레인지', '스플릿', '럭키')\n"
          ]
        }
      ]
    },
    {
      "cell_type": "code",
      "source": [
        "#73. 숫자 1이 저장된 튜플을 생성하자\n",
        "one = (1)\n",
        "print(one)\n",
        "#배운 점"
      ],
      "metadata": {
        "colab": {
          "base_uri": "https://localhost:8080/"
        },
        "id": "lSCjLRVZ_d6K",
        "outputId": "5f3a2552-4f75-49b6-b531-fe7230d32f61"
      },
      "execution_count": null,
      "outputs": [
        {
          "output_type": "stream",
          "name": "stdout",
          "text": [
            "1\n"
          ]
        }
      ]
    },
    {
      "cell_type": "code",
      "source": [
        "#74. 다음 코드에서 오류가 발생하는 원인을 설명하라.\n",
        "\"\"\">> t = (1, 2, 3)\n",
        ">> t[0] = 'a'\n",
        "Traceback (most recent call last):\n",
        "  File \"<pyshell#46>\", line 1, in <module>\n",
        "    t[0] = 'a'\n",
        "TypeError: 'tuple' object does not support item assignment\"\"\"\n",
        "#답:튜플은 수정이 불가능한데 수정하려 해서.\n",
        "#배운 점 튜플에는 아이템을 추가제거 할 수 없다."
      ],
      "metadata": {
        "id": "FCB2eSN__smb"
      },
      "execution_count": null,
      "outputs": []
    },
    {
      "cell_type": "code",
      "source": [
        "#75 t가 바인딩하는 데이터 타입은?\n",
        "t = 1, 2, 3, 4\n",
        "print(type(t))\n",
        "#배운 점 튜플 생성규칙 없이 숫자만 나열하더라도 튜플이 생성된다."
      ],
      "metadata": {
        "colab": {
          "base_uri": "https://localhost:8080/"
        },
        "id": "gN1NLIK_AKDj",
        "outputId": "e618da8d-4e62-47fa-c2dc-34fd059142e2"
      },
      "execution_count": null,
      "outputs": [
        {
          "output_type": "stream",
          "name": "stdout",
          "text": [
            "<class 'tuple'>\n"
          ]
        }
      ]
    },
    {
      "cell_type": "code",
      "source": [
        "#76 변수 t1이 ('A', 'B', 'c')튜플을 가리키도록 수정하라\n",
        "t1 = ('a', 'b', 'c')\n",
        "print(t1)\n",
        "#답 변경불가\n",
        "#배운 점"
      ],
      "metadata": {
        "colab": {
          "base_uri": "https://localhost:8080/"
        },
        "id": "ZiHQY7B-Ai8z",
        "outputId": "bbc18e18-dbb7-403a-cd33-1c1346076da8"
      },
      "execution_count": null,
      "outputs": [
        {
          "output_type": "stream",
          "name": "stdout",
          "text": [
            "('a', 'b', 'c')\n"
          ]
        }
      ]
    },
    {
      "cell_type": "code",
      "source": [
        "#77 다음 튜플을 리스트로 변환하라\n",
        "interest4 = ('삼성전자', 'LG전자', 'SK Hynix')\n",
        "u = list(interest4)\n",
        "print(u)\n",
        "#배운 점 리스트 변환법 앞에 list를 씌운다"
      ],
      "metadata": {
        "colab": {
          "base_uri": "https://localhost:8080/"
        },
        "id": "o_7S1qycBOPr",
        "outputId": "7bcf1505-67d2-4040-c7ec-d6c178a21007"
      },
      "execution_count": null,
      "outputs": [
        {
          "output_type": "stream",
          "name": "stdout",
          "text": [
            "['삼성전자', 'LG전자', 'SK Hynix']\n"
          ]
        }
      ]
    },
    {
      "cell_type": "code",
      "source": [
        "#78 리스트를 튜플로 변경하라.\n",
        "interest5 = ('삼성전자', 'LG전자', 'SK Hynix')\n",
        "i = tuple(interest5)\n",
        "print(i)\n",
        "#배운 점 튜플도 앞에 튜플을 씌워주면 변경된다."
      ],
      "metadata": {
        "colab": {
          "base_uri": "https://localhost:8080/"
        },
        "id": "EL9-7jluBg-i",
        "outputId": "ee2d2a75-fd72-4a1c-d5df-317296db7184"
      },
      "execution_count": null,
      "outputs": [
        {
          "output_type": "stream",
          "name": "stdout",
          "text": [
            "('삼성전자', 'LG전자', 'SK Hynix')\n"
          ]
        }
      ]
    },
    {
      "cell_type": "code",
      "source": [
        "#79 다음 코드의 결과를 예상하라\n",
        "temp = (\"apple\", \"banana\", \"cake\")\n",
        "a, b, c = temp\n",
        "print(a, b, c)\n",
        "#배운 점 언패킹이라는 개념인데 아이템의 갯수에 맞게 변수를 할당할 수 있음. 한번에 처리하기 용이하다."
      ],
      "metadata": {
        "colab": {
          "base_uri": "https://localhost:8080/"
        },
        "id": "50SAvI6sBtuL",
        "outputId": "3f4c3024-4235-48f0-9409-fa2cd18bd6ee"
      },
      "execution_count": null,
      "outputs": [
        {
          "output_type": "stream",
          "name": "stdout",
          "text": [
            "apple banana cake\n"
          ]
        }
      ]
    },
    {
      "cell_type": "code",
      "source": [
        "#80 1부터 99까지 정수 중 짝수만 저장된 튜플을 생성하라.\n",
        "p = tuple(range(0,99,2))\n",
        "print(p, type(p))\n",
        "#배운 점 range 함수의 사용법 (시작숫자, 끝숫자, 증가숫자)"
      ],
      "metadata": {
        "colab": {
          "base_uri": "https://localhost:8080/"
        },
        "id": "Imozv0VXD6sR",
        "outputId": "f5de09df-93c7-40de-fce3-43f65dbf3edf"
      },
      "execution_count": null,
      "outputs": [
        {
          "output_type": "stream",
          "name": "stdout",
          "text": [
            "(0, 2, 4, 6, 8, 10, 12, 14, 16, 18, 20, 22, 24, 26, 28, 30, 32, 34, 36, 38, 40, 42, 44, 46, 48, 50, 52, 54, 56, 58, 60, 62, 64, 66, 68, 70, 72, 74, 76, 78, 80, 82, 84, 86, 88, 90, 92, 94, 96, 98) <class 'tuple'>\n"
          ]
        }
      ]
    }
  ]
}
