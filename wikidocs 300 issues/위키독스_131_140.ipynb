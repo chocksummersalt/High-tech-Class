{
  "nbformat": 4,
  "nbformat_minor": 0,
  "metadata": {
    "colab": {
      "provenance": [],
      "authorship_tag": "ABX9TyOpbeFCU6pXxsBY0Tj//rlQ",
      "include_colab_link": true
    },
    "kernelspec": {
      "name": "python3",
      "display_name": "Python 3"
    },
    "language_info": {
      "name": "python"
    }
  },
  "cells": [
    {
      "cell_type": "markdown",
      "metadata": {
        "id": "view-in-github",
        "colab_type": "text"
      },
      "source": [
        "<a href=\"https://colab.research.google.com/github/chocksummersalt/python/blob/main/%EC%9C%84%ED%82%A4%EB%8F%85%EC%8A%A4_131_140.ipynb\" target=\"_parent\"><img src=\"https://colab.research.google.com/assets/colab-badge.svg\" alt=\"Open In Colab\"/></a>"
      ]
    },
    {
      "cell_type": "code",
      "execution_count": null,
      "metadata": {
        "colab": {
          "base_uri": "https://localhost:8080/"
        },
        "id": "kLuD21t_6bPl",
        "outputId": "51c03d43-6630-490e-8fc2-08d92a323ffe"
      },
      "outputs": [
        {
          "output_type": "stream",
          "name": "stdout",
          "text": [
            "사과\n",
            "귤\n",
            "수박\n"
          ]
        }
      ],
      "source": [
        "#131 for문 실행결과 예측하기\n",
        "과일 = [\"사과\", \"귤\", \"수박\"]\n",
        "for 변수 in 과일:\n",
        "    print(변수)\n",
        "#\"사과\"\n",
        "#\"귤\"\n",
        "#\"수박\""
      ]
    },
    {
      "cell_type": "code",
      "source": [
        "#132 for문 실행결과 예측하기\n",
        "과일 = [\"사과\", \"귤\", \"수박\"]\n",
        "for 변수 in 과일:\n",
        "  print(\"#####\")\n",
        "\n",
        "##### 리스트의 아이템의 갯수만큼 반복실행\n",
        "#####\n",
        "#####"
      ],
      "metadata": {
        "colab": {
          "base_uri": "https://localhost:8080/"
        },
        "id": "sLFkSM8o79d4",
        "outputId": "9d5a66cb-b090-4121-8b26-a909f0801ce3"
      },
      "execution_count": null,
      "outputs": [
        {
          "output_type": "stream",
          "name": "stdout",
          "text": [
            "#####\n",
            "#####\n",
            "#####\n"
          ]
        }
      ]
    },
    {
      "cell_type": "code",
      "source": [
        "#133 다음 코드와 동일한 기능을 하는 코드 작성\n",
        "for 변수 in [\"A\", \"B\", \"C\"]:\n",
        "  print(변수)\n",
        "\n",
        "  변수 = \"A\"\n",
        "print(변수)\n",
        "변수 = \"B\"\n",
        "print(변수)\n",
        "변수 = \"C\"\n",
        "print(변수)"
      ],
      "metadata": {
        "colab": {
          "base_uri": "https://localhost:8080/"
        },
        "id": "0cgcdBZ2BgpO",
        "outputId": "7946582c-25d6-410e-ae45-edc1c4ed59c3"
      },
      "execution_count": null,
      "outputs": [
        {
          "output_type": "stream",
          "name": "stdout",
          "text": [
            "A\n",
            "B\n",
            "C\n",
            "A\n",
            "B\n",
            "C\n"
          ]
        }
      ]
    },
    {
      "cell_type": "code",
      "source": [
        "#134 다음 코드와 동일한 기능을 수행하는 코드 작성\n",
        "for 변수 in [\"A\", \"B\", \"C\"]:\n",
        "  print(변수)\n",
        "\n",
        "print(\"A\")\n",
        "print(\"B\")\n",
        "print(\"C\")"
      ],
      "metadata": {
        "colab": {
          "base_uri": "https://localhost:8080/"
        },
        "id": "X_kAU7IG7_Fo",
        "outputId": "22bbd52d-e942-49d5-fcd3-bbf84c8d67ca"
      },
      "execution_count": null,
      "outputs": [
        {
          "output_type": "stream",
          "name": "stdout",
          "text": [
            "A\n",
            "B\n",
            "C\n",
            "A\n",
            "B\n",
            "C\n"
          ]
        }
      ]
    },
    {
      "cell_type": "code",
      "source": [
        "#135 다음 코드와 동일한 기능을 하는 코드 작성\n",
        "for 변수 in [\"A\", \"B\", \"C\"]:\n",
        "  b = 변수.lower()\n",
        "  print(\"변환:\", b)\n",
        "\n",
        "변수 = \"A\"\n",
        "b = 변수.lower()\n",
        "print(\"변환:\", b)\n",
        "변수 = \"B\"\n",
        "b = 변수.lower()\n",
        "print(\"변환:\", b)\n",
        "변수 = \"C\"\n",
        "b = 변수.lower()\n",
        "print(\"변환:\", b)"
      ],
      "metadata": {
        "colab": {
          "base_uri": "https://localhost:8080/"
        },
        "id": "do-3e_he7-I4",
        "outputId": "34ce74f6-ea8b-47bb-8ecd-28c0686308a9"
      },
      "execution_count": null,
      "outputs": [
        {
          "output_type": "stream",
          "name": "stdout",
          "text": [
            "변환: a\n",
            "변환: b\n",
            "변환: c\n",
            "변환: a\n",
            "변환: b\n",
            "변환: c\n"
          ]
        }
      ]
    },
    {
      "cell_type": "code",
      "source": [
        "#136 다음 코드를 for문으로 작성하라\n",
        "변수 = 10\n",
        "print(변수)\n",
        "변수 = 20\n",
        "print(변수)\n",
        "변수 = 30\n",
        "print(변수)\n",
        "\n",
        "var = [10, 20, 30]\n",
        "for i in var:\n",
        "    print(i)"
      ],
      "metadata": {
        "colab": {
          "base_uri": "https://localhost:8080/"
        },
        "id": "bucwYOSx8E0Q",
        "outputId": "790c97b3-986a-4190-fb42-3e01987a22c7"
      },
      "execution_count": null,
      "outputs": [
        {
          "output_type": "stream",
          "name": "stdout",
          "text": [
            "10\n",
            "20\n",
            "30\n",
            "10\n",
            "20\n",
            "30\n"
          ]
        }
      ]
    },
    {
      "cell_type": "code",
      "source": [
        "#137 다음 코드를 for문으로 작성하기\n",
        "print(10)\n",
        "print(20)\n",
        "print(30)\n",
        "\n",
        "var = [10, 20, 30]\n",
        "for i in var:\n",
        "    print(i)"
      ],
      "metadata": {
        "colab": {
          "base_uri": "https://localhost:8080/"
        },
        "id": "qYr-nj9H8ENo",
        "outputId": "a97d3d69-e234-4052-8fda-e38958777784"
      },
      "execution_count": null,
      "outputs": [
        {
          "output_type": "stream",
          "name": "stdout",
          "text": [
            "10\n",
            "20\n",
            "30\n",
            "10\n",
            "20\n",
            "30\n"
          ]
        }
      ]
    },
    {
      "cell_type": "code",
      "source": [
        "#138 다음 코드를 for문으로 작성하라\n",
        "print(10)\n",
        "print(\"-------\")\n",
        "print(20)\n",
        "print(\"-------\")\n",
        "print(30)\n",
        "print(\"-------\")\n",
        "\n",
        "\n",
        "for 변수 in [10, 20, 30]:\n",
        "  print(변수)\n",
        "  print(\"-------\")"
      ],
      "metadata": {
        "colab": {
          "base_uri": "https://localhost:8080/"
        },
        "id": "3DOji1z98Ce4",
        "outputId": "489f0994-0c90-4bdc-ef27-13e03062a583"
      },
      "execution_count": null,
      "outputs": [
        {
          "output_type": "stream",
          "name": "stdout",
          "text": [
            "10\n",
            "-------\n",
            "20\n",
            "-------\n",
            "30\n",
            "-------\n",
            "10\n",
            "-------\n",
            "20\n",
            "-------\n",
            "30\n",
            "-------\n"
          ]
        }
      ]
    },
    {
      "cell_type": "code",
      "source": [
        "#139 다음 코드를 for문으로 작성하라\n",
        "print(\"++++\")\n",
        "print(10)\n",
        "print(20)\n",
        "print(30)\n",
        "\n",
        "print(\"++++\")\n",
        "for 변수 in [10, 20, 30]:\n",
        "  print(변수)"
      ],
      "metadata": {
        "id": "lYybyZpp8B7w"
      },
      "execution_count": null,
      "outputs": []
    },
    {
      "cell_type": "code",
      "source": [
        "#140 다음 코드를 for문으로 작성하라\n",
        "\n",
        "print(\"-------\")\n",
        "print(\"-------\")\n",
        "print(\"-------\")\n",
        "print(\"-------\")\n",
        "\n",
        "for 변수 in [1, 2, 3, 4,]:\n",
        "    print(\"------\")"
      ],
      "metadata": {
        "colab": {
          "base_uri": "https://localhost:8080/"
        },
        "id": "uSIiO1Rm8AmY",
        "outputId": "98847994-913c-43f2-ea8f-24f1615b683c"
      },
      "execution_count": null,
      "outputs": [
        {
          "output_type": "stream",
          "name": "stdout",
          "text": [
            "-------\n",
            "-------\n",
            "-------\n",
            "-------\n",
            "------\n",
            "------\n",
            "------\n",
            "------\n"
          ]
        }
      ]
    }
  ]
}
