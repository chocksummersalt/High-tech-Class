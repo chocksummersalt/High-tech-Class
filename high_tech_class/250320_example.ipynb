{
  "nbformat": 4,
  "nbformat_minor": 0,
  "metadata": {
    "colab": {
      "provenance": [],
      "authorship_tag": "ABX9TyNGRDE3SEuXUPYudRbAMn6P",
      "include_colab_link": true
    },
    "kernelspec": {
      "name": "python3",
      "display_name": "Python 3"
    },
    "language_info": {
      "name": "python"
    }
  },
  "cells": [
    {
      "cell_type": "markdown",
      "metadata": {
        "id": "view-in-github",
        "colab_type": "text"
      },
      "source": [
        "<a href=\"https://colab.research.google.com/github/chocksummersalt/python/blob/main/high_tech_class/250320_example.ipynb\" target=\"_parent\"><img src=\"https://colab.research.google.com/assets/colab-badge.svg\" alt=\"Open In Colab\"/></a>"
      ]
    },
    {
      "cell_type": "code",
      "execution_count": null,
      "metadata": {
        "colab": {
          "base_uri": "https://localhost:8080/",
          "height": 239
        },
        "id": "g95KfcLCAliy",
        "outputId": "0bce36b5-8e43-4bbc-cf7c-662cd4d6a844"
      },
      "outputs": [
        {
          "name": "stdout",
          "output_type": "stream",
          "text": [
            "아무 숫자를 넣으세요 :1\n"
          ]
        },
        {
          "output_type": "error",
          "ename": "TypeError",
          "evalue": "unsupported operand type(s) for %: 'int' and 'range'",
          "traceback": [
            "\u001b[0;31m---------------------------------------------------------------------------\u001b[0m",
            "\u001b[0;31mTypeError\u001b[0m                                 Traceback (most recent call last)",
            "\u001b[0;32m<ipython-input-16-b0222e19aaf0>\u001b[0m in \u001b[0;36m<cell line: 0>\u001b[0;34m()\u001b[0m\n\u001b[1;32m      3\u001b[0m \u001b[0ma\u001b[0m\u001b[0;34m=\u001b[0m\u001b[0mint\u001b[0m\u001b[0;34m(\u001b[0m\u001b[0minput\u001b[0m\u001b[0;34m(\u001b[0m\u001b[0;34m\"아무 숫자를 넣으세요 :\"\u001b[0m\u001b[0;34m)\u001b[0m\u001b[0;34m)\u001b[0m\u001b[0;34m\u001b[0m\u001b[0;34m\u001b[0m\u001b[0m\n\u001b[1;32m      4\u001b[0m \u001b[0;34m\u001b[0m\u001b[0m\n\u001b[0;32m----> 5\u001b[0;31m \u001b[0;32mif\u001b[0m \u001b[0ma\u001b[0m\u001b[0;34m%\u001b[0m\u001b[0mb\u001b[0m\u001b[0;34m==\u001b[0m\u001b[0;36m0\u001b[0m\u001b[0;34m:\u001b[0m\u001b[0;34m\u001b[0m\u001b[0;34m\u001b[0m\u001b[0m\n\u001b[0m\u001b[1;32m      6\u001b[0m   \u001b[0msum\u001b[0m \u001b[0;34m=\u001b[0m \u001b[0msum\u001b[0m \u001b[0;34m+\u001b[0m \u001b[0;36m1\u001b[0m\u001b[0;34m\u001b[0m\u001b[0;34m\u001b[0m\u001b[0m\n\u001b[1;32m      7\u001b[0m \u001b[0;32melif\u001b[0m \u001b[0msum\u001b[0m \u001b[0;34m<\u001b[0m \u001b[0;36m5\u001b[0m\u001b[0;34m:\u001b[0m\u001b[0;34m\u001b[0m\u001b[0;34m\u001b[0m\u001b[0m\n",
            "\u001b[0;31mTypeError\u001b[0m: unsupported operand type(s) for %: 'int' and 'range'"
          ]
        }
      ],
      "source": [
        "sum = 0\n",
        "b = range(1, n+1,1)\n",
        "a=int(input(\"아무 숫자를 넣으세요 :\"))\n",
        "\n",
        "for i in b\n",
        "  if a%b==0:\n",
        "    a_c= a_c+1\n",
        "if a_c == 2:\n",
        "  sum = sum +1\n",
        "elif sum < 5:\n",
        "  input(\"아무 숫자를 넣으세요 :\", int)\n",
        "else:\n",
        " break\n",
        "\n",
        "\n",
        " #내가 짠 코드테스트 답. 엉망.\n",
        "\n",
        "\n",
        "\n"
      ]
    },
    {
      "cell_type": "code",
      "source": [
        "prime_numbers = [None, None, None, None, None]\n",
        "count = 0\n",
        "\n",
        "while count < 5:\n",
        "    a = int(input(\"숫자를 입력하세요: \"))\n",
        "    if a > 1:\n",
        "\n",
        "      for i in range(1, a):\n",
        "        if a % i == 0:\n",
        "\n",
        "                break\n",
        "    if prime_numbers[count] == a:\n",
        "      count += 1\n",
        "      print(\"{a}는 소수입니다. 현재 소수 목록:}\" .format(prime_numbers))\n",
        "\n",
        "       elif: {prime_numbers[:count]}\n",
        "              print(\"{a}는 소수가 아닙니다.\" .format(prime_numbers))\n",
        "              else:\n",
        "              print(\"{a}는 소수가 아닙니다.\"  .format(prime_numbers))\n",
        "\n",
        "print(\"소수 5개를 찾았습니다! 프로그램을 종료합니다.\")\n",
        "print(\"최종 소수 목록:\", prime_numbers)\n",
        "\n",
        "#1. 키보드로 입력받은 값을 저장할 변수\n",
        "#2. 몇개 입력받았는지 카운트할 변수\n",
        "#3. 소수를 저장할 변수"
      ],
      "metadata": {
        "colab": {
          "base_uri": "https://localhost:8080/",
          "height": 110
        },
        "id": "qAqgn99sTkKq",
        "outputId": "01b0510c-92e0-4512-a506-27696d1218fc"
      },
      "execution_count": null,
      "outputs": [
        {
          "output_type": "error",
          "ename": "IndentationError",
          "evalue": "unexpected indent (<ipython-input-42-7d0524e5cdbd>, line 16)",
          "traceback": [
            "\u001b[0;36m  File \u001b[0;32m\"<ipython-input-42-7d0524e5cdbd>\"\u001b[0;36m, line \u001b[0;32m16\u001b[0m\n\u001b[0;31m    elif: {prime_numbers[:count]}\u001b[0m\n\u001b[0m    ^\u001b[0m\n\u001b[0;31mIndentationError\u001b[0m\u001b[0;31m:\u001b[0m unexpected indent\n"
          ]
        }
      ]
    },
    {
      "cell_type": "code",
      "source": [
        "p_list = [None, None, None, None, None]\n",
        "p_index = 0\n",
        "\n",
        "while p_index < 5 : #지정된 갯수가 없을 때, 조건을 만족할 때 까지.\n",
        "    num = int(input(\"정수를 입력하세요: \"))\n",
        "    num_c = 0\n",
        "    for a in range(1, num + 1):\n",
        "        if num % a == 0:\n",
        "            num_c = num_c + 1\n",
        "\n",
        "    if num_c == 2:\n",
        "        p_list[p_index] = num\n",
        "        p_index = p_index + 1\n",
        "\n",
        "print(\"소수: \", p_list)"
      ],
      "metadata": {
        "colab": {
          "base_uri": "https://localhost:8080/"
        },
        "id": "2yYpO3VVXwZQ",
        "outputId": "6a17abbc-53f7-4d5c-ac3f-c99be583c73f"
      },
      "execution_count": null,
      "outputs": [
        {
          "output_type": "stream",
          "name": "stdout",
          "text": [
            "정수를 입력하세요: 5\n",
            "정수를 입력하세요: 1\n",
            "정수를 입력하세요: 3\n",
            "정수를 입력하세요: 7\n",
            "정수를 입력하세요: 9\n",
            "정수를 입력하세요: 11\n",
            "정수를 입력하세요: 13\n",
            "소수:  [5, 3, 7, 11, 13]\n"
          ]
        }
      ]
    },
    {
      "cell_type": "code",
      "source": [
        "p_list = [None, None, None, None, None]\n",
        "p_index = 0\n",
        "\n",
        "while True: #지정된 갯수가 없을 때, 조건을 만족할 때 까지.\n",
        "    num = int(input(\"정수를 입력하세요: \"))\n",
        "    num_c = 0\n",
        "    for a in range(1, num + 1):\n",
        "        if num % a == 0:\n",
        "            num_c = num_c + 1\n",
        "\n",
        "    if num_c == 2:\n",
        "        p_list[p_index] = num\n",
        "        p_index = p_index + 1\n",
        "\n",
        "    if p_index < 5:\n",
        "        break\n",
        "\n",
        "print(\"소수: \", p_list)"
      ],
      "metadata": {
        "colab": {
          "base_uri": "https://localhost:8080/"
        },
        "id": "kkfbnM1ecxVW",
        "outputId": "efb46c16-4461-4b54-f992-7cadcba218d8"
      },
      "execution_count": null,
      "outputs": [
        {
          "output_type": "stream",
          "name": "stdout",
          "text": [
            "정수를 입력하세요: 2\n",
            "소수:  [2, None, None, None, None]\n"
          ]
        }
      ]
    },
    {
      "cell_type": "code",
      "source": [
        "def factorial(x):\n",
        "\n",
        "    if x == 1:\n",
        "        return 1\n",
        "    else:\n",
        "        return (x * factorial(x-1))\n",
        "\n",
        "num = 3\n",
        "print(\"팩토리알\", num, \"은\", factorial(num))"
      ],
      "metadata": {
        "colab": {
          "base_uri": "https://localhost:8080/"
        },
        "id": "gqiPFvBFKyk9",
        "outputId": "d51cacac-10f4-441d-b3a4-8e9b36a7eeba"
      },
      "execution_count": null,
      "outputs": [
        {
          "output_type": "stream",
          "name": "stdout",
          "text": [
            "팩토리알 3 은 6\n"
          ]
        }
      ]
    },
    {
      "cell_type": "code",
      "source": [
        "double = lambda x: x * 2\n",
        "\n",
        "print(double(5))\n",
        "\n",
        "def dounle(x):\n",
        "    return x * 2"
      ],
      "metadata": {
        "colab": {
          "base_uri": "https://localhost:8080/"
        },
        "id": "MTWdKq7eWeEZ",
        "outputId": "e573e611-27d1-4cde-8a6e-d0924b3ee5e4"
      },
      "execution_count": null,
      "outputs": [
        {
          "output_type": "stream",
          "name": "stdout",
          "text": [
            "10\n"
          ]
        }
      ]
    },
    {
      "cell_type": "code",
      "source": [
        "p2_list = [1, 2, 3, 5 ,7, 8, 9, 11, 13]\n",
        "\n",
        "\n",
        "prime = list(filter(lambda x : (x * 0.5  == 0), p2_list))\n",
        "\n",
        "print(prime)"
      ],
      "metadata": {
        "colab": {
          "base_uri": "https://localhost:8080/"
        },
        "id": "U9FjvzsfbR4P",
        "outputId": "0bcfdcad-6e53-4653-affb-ed828c9e83e0"
      },
      "execution_count": null,
      "outputs": [
        {
          "output_type": "stream",
          "name": "stdout",
          "text": [
            "[]\n"
          ]
        }
      ]
    },
    {
      "cell_type": "code",
      "source": [
        "def p_check(num):\n",
        "    num_c = 0\n",
        "    for a in range(1, num _1):\n",
        "        if num % a == 0:\n",
        "            num_c = num_c + 1\n",
        "\n",
        "    if num_c ==2:\n",
        "        return True\n",
        "    else:\n",
        "        return False\n"
      ],
      "metadata": {
        "id": "TGkVTfKqevjV"
      },
      "execution_count": null,
      "outputs": []
    },
    {
      "cell_type": "code",
      "source": [],
      "metadata": {
        "id": "6muTBLYefeG9"
      },
      "execution_count": null,
      "outputs": []
    }
  ]
}