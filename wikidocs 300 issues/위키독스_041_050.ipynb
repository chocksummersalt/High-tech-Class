{
  "nbformat": 4,
  "nbformat_minor": 0,
  "metadata": {
    "colab": {
      "provenance": [],
      "authorship_tag": "ABX9TyOKWm4ASIqqWOTGI/KcFm71",
      "include_colab_link": true
    },
    "kernelspec": {
      "name": "python3",
      "display_name": "Python 3"
    },
    "language_info": {
      "name": "python"
    }
  },
  "cells": [
    {
      "cell_type": "markdown",
      "metadata": {
        "id": "view-in-github",
        "colab_type": "text"
      },
      "source": [
        "<a href=\"https://colab.research.google.com/github/chocksummersalt/python/blob/main/%EC%9C%84%ED%82%A4%EB%8F%85%EC%8A%A4_41_50.ipynb\" target=\"_parent\"><img src=\"https://colab.research.google.com/assets/colab-badge.svg\" alt=\"Open In Colab\"/></a>"
      ]
    },
    {
      "cell_type": "code",
      "execution_count": null,
      "metadata": {
        "id": "LOcYxAaRDOlF",
        "colab": {
          "base_uri": "https://localhost:8080/"
        },
        "outputId": "dc92a6f3-40d8-4ae0-fc7d-d6fb6365de52"
      },
      "outputs": [
        {
          "output_type": "stream",
          "name": "stdout",
          "text": [
            "BTC_KRW\n"
          ]
        }
      ],
      "source": [
        "#41. ticker = \"btc_krw\"를 대문자로 변경하기\n",
        "#답\n",
        "ticker = \"btc_krw\"\n",
        "#print(upper(ticker))\n",
        "ticker1 = ticker.upper()\n",
        "print(ticker1)\n",
        "#배운점 문자열 메서드는 .을 붙여서 뒤에 호출한다 내장함수와 메서드의 차이. 메서드는 매개변수 필요, 객체를 통해 호출,\n",
        "#내장함수는 어디서나 바로 사용가능"
      ]
    },
    {
      "cell_type": "code",
      "source": [
        "#42. ticker2= \"BTC_KRW\"를 소문자로 변경하기\n",
        "#답\n",
        "ticker2= \"BTC_KRW\"\n",
        "ticker3= ticker2.lower()\n",
        "print(ticker3)\n",
        "#배운점 -"
      ],
      "metadata": {
        "id": "mesiXqG7HAWo",
        "colab": {
          "base_uri": "https://localhost:8080/"
        },
        "outputId": "c0578319-aa55-42b3-a54b-a2b5475661f8"
      },
      "execution_count": null,
      "outputs": [
        {
          "output_type": "stream",
          "name": "stdout",
          "text": [
            "btc_krw\n"
          ]
        }
      ]
    },
    {
      "cell_type": "code",
      "source": [
        "#43. hello 를 Hello로 바꾸세요\n",
        "#답\n",
        "a = \"hello\"\n",
        "a = a.capitalize()\n",
        "print(a)\n",
        "#배운점"
      ],
      "metadata": {
        "id": "cmlzWgrZHAPw",
        "colab": {
          "base_uri": "https://localhost:8080/"
        },
        "outputId": "825fc67b-61f0-4a39-8584-8dc840f29387"
      },
      "execution_count": null,
      "outputs": [
        {
          "output_type": "stream",
          "name": "stdout",
          "text": [
            "Hello\n"
          ]
        }
      ]
    },
    {
      "cell_type": "code",
      "source": [
        "#44. 파일이름이 문자열로 저장되어있을때 endswith로 파일이름이 xlsx로 끝나는지 확인\n",
        "#답\n",
        "file_name = \"보고서.xlsx\"\n",
        "file_name.endswith(\"xlsx\")\n",
        "#배운점"
      ],
      "metadata": {
        "id": "G2aiV5J-HAIJ",
        "colab": {
          "base_uri": "https://localhost:8080/"
        },
        "outputId": "a2247397-9b16-4bb0-93c3-0e7486b0fc57"
      },
      "execution_count": null,
      "outputs": [
        {
          "output_type": "execute_result",
          "data": {
            "text/plain": [
              "True"
            ]
          },
          "metadata": {},
          "execution_count": 5
        }
      ]
    },
    {
      "cell_type": "code",
      "source": [
        "#45. 파일이름이 xlsx또는 xls로 끝나는지 확인해보세요\n",
        "#답\n",
        "file_name.endswith((\"xlsx\", \"xls\"))\n",
        "#배운점 두개를 확인하고 싶을 때는 괄호를 한번 더 넣는다."
      ],
      "metadata": {
        "id": "z8DZPb8GHAAx",
        "colab": {
          "base_uri": "https://localhost:8080/"
        },
        "outputId": "5b2525aa-9385-4cbe-9d5d-f9777d193028"
      },
      "execution_count": null,
      "outputs": [
        {
          "output_type": "execute_result",
          "data": {
            "text/plain": [
              "True"
            ]
          },
          "metadata": {},
          "execution_count": 6
        }
      ]
    },
    {
      "cell_type": "markdown",
      "source": [],
      "metadata": {
        "id": "myufskIbLYdn"
      }
    },
    {
      "cell_type": "code",
      "source": [
        "#46. starswith  를 확인하여 앞글자 확인\n",
        "#답\n",
        "file_name1 = \"2020_보고서.xlsx\"\n",
        "file_name1.startswith(\"2020\")\n",
        "#배운점"
      ],
      "metadata": {
        "id": "RYiBduW-G_5o",
        "colab": {
          "base_uri": "https://localhost:8080/"
        },
        "outputId": "f0a422e3-1ce7-435a-b708-8f62cc7a3c70"
      },
      "execution_count": null,
      "outputs": [
        {
          "output_type": "execute_result",
          "data": {
            "text/plain": [
              "True"
            ]
          },
          "metadata": {},
          "execution_count": 8
        }
      ]
    },
    {
      "cell_type": "code",
      "source": [
        "#47. 문자열의 공백을 기준으로 스플릿하기\n",
        "#답\n",
        "a = \"hello world\"\n",
        "#a.split(\" \")\n",
        "a.split()\n",
        "#배운점 스플릿의 디폴트는 공백을 인식하게 한다."
      ],
      "metadata": {
        "id": "kp08-BjoG_yB",
        "colab": {
          "base_uri": "https://localhost:8080/"
        },
        "outputId": "d749bf74-b2ed-46d9-8787-ac41772f5004"
      },
      "execution_count": null,
      "outputs": [
        {
          "output_type": "execute_result",
          "data": {
            "text/plain": [
              "['hello', 'world']"
            ]
          },
          "metadata": {},
          "execution_count": 10
        }
      ]
    },
    {
      "cell_type": "code",
      "source": [
        "#48. btc와 krw로 나누기\n",
        "#답\n",
        "ticker.split(\"_\")\n",
        "#배운점"
      ],
      "metadata": {
        "id": "jBheMcMeG_px",
        "colab": {
          "base_uri": "https://localhost:8080/"
        },
        "outputId": "32c3839e-c3b4-4d3a-97b4-13a468ebf69a"
      },
      "execution_count": null,
      "outputs": [
        {
          "output_type": "execute_result",
          "data": {
            "text/plain": [
              "['btc', 'krw']"
            ]
          },
          "metadata": {},
          "execution_count": 13
        }
      ]
    },
    {
      "cell_type": "code",
      "source": [
        "#49. 날짜가 있을때 년 월 일로 나눠보세요\n",
        "#답\n",
        "date = \"2020-05-01\"\n",
        "date.split(\"-\")\n",
        "#배운점"
      ],
      "metadata": {
        "id": "EXLZ-sJzG_gB",
        "colab": {
          "base_uri": "https://localhost:8080/"
        },
        "outputId": "0025207d-ee82-4f2c-f1e9-c16565e5ae46"
      },
      "execution_count": null,
      "outputs": [
        {
          "output_type": "execute_result",
          "data": {
            "text/plain": [
              "['2020', '05', '01']"
            ]
          },
          "metadata": {},
          "execution_count": 15
        }
      ]
    },
    {
      "cell_type": "code",
      "source": [
        "#50. rstrip\n",
        "#답\n",
        "\n",
        "#배운점"
      ],
      "metadata": {
        "id": "MOQs9ftHG_Li"
      },
      "execution_count": null,
      "outputs": []
    }
  ]
}
