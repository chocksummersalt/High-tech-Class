{
  "nbformat": 4,
  "nbformat_minor": 0,
  "metadata": {
    "colab": {
      "provenance": [],
      "authorship_tag": "ABX9TyO+qFa96wCoASeXLosDMcTO",
      "include_colab_link": true
    },
    "kernelspec": {
      "name": "python3",
      "display_name": "Python 3"
    },
    "language_info": {
      "name": "python"
    }
  },
  "cells": [
    {
      "cell_type": "markdown",
      "metadata": {
        "id": "view-in-github",
        "colab_type": "text"
      },
      "source": [
        "<a href=\"https://colab.research.google.com/github/chocksummersalt/python/blob/main/%EC%9C%84%ED%82%A4%EB%8F%85%EC%8A%A4_121_130.ipynb\" target=\"_parent\"><img src=\"https://colab.research.google.com/assets/colab-badge.svg\" alt=\"Open In Colab\"/></a>"
      ]
    },
    {
      "cell_type": "code",
      "execution_count": null,
      "metadata": {
        "colab": {
          "base_uri": "https://localhost:8080/"
        },
        "id": "gDT1iFnVjO9L",
        "outputId": "401c9c71-3c6b-490b-e90d-bf6253458657"
      },
      "outputs": [
        {
          "output_type": "stream",
          "name": "stdout",
          "text": [
            "문자열을 입력하세요: dwWD\n",
            "변환된 문자열: DWwd\n"
          ]
        }
      ],
      "source": [
        "#121 알파벳 대소문자 변경\n",
        "#user1 = input(\"문자를 입력하시오\") 내가 짠 코드.\n",
        "#j = []\n",
        "#for i in user1:\n",
        "#   if i.islower() == True:\n",
        "#         j = j.append(i.upper()) j =으로 선언하지 않아도 appnd로 추가됨.\n",
        "#    elif i.isupper() == True:\n",
        "#          j = j.append(i.lower())\n",
        "#    else:\n",
        "#        print(\"잘못된 접근경로\")\n",
        "\n",
        "\n",
        "#------\n",
        "user1 = input(\"문자열을 입력하세요: \")\n",
        "result = []\n",
        "\n",
        "for ch in user1:\n",
        "    if ch.islower():\n",
        "        result.append(ch.upper())\n",
        "    elif ch.isupper():\n",
        "        result.append(ch.lower())\n",
        "    else:\n",
        "        result.append(ch)  # 알파벳이 아니면 그대로 추가\n",
        "\n",
        "# 리스트를 문자열로 변환\n",
        "converted = ''.join(result) # 리스트를 하나의 문자열로\n",
        "print(\"변환된 문자열:\", converted)"
      ]
    },
    {
      "cell_type": "code",
      "source": [
        "#122 점수-> 학점 변경\n",
        "a = (int(input(\"점수를 입력하세요\")))\n",
        "if a> 80:\n",
        "    print(\"A\")\n",
        "elif a>60:\n",
        "    print(\"B\")\n",
        "else:\n",
        "    print(\"F\")\n",
        "\n"
      ],
      "metadata": {
        "id": "9K8tVItNtqCY",
        "colab": {
          "base_uri": "https://localhost:8080/"
        },
        "outputId": "5025463c-fa66-4c9f-93cc-9832154de602"
      },
      "execution_count": null,
      "outputs": [
        {
          "output_type": "stream",
          "name": "stdout",
          "text": [
            "점수를 입력하세요22\n",
            "F\n"
          ]
        }
      ]
    },
    {
      "cell_type": "code",
      "source": [
        "#123 환율문제. 금액과 통화명 사이에 공백을 입력한다고 가정한다.\n",
        "#a = int(input(\"금액을 입력하시오:\")) 내가 짠 코드..\n",
        "#for i in a\n",
        "#    print((i * 1167 / 1000),\"원\")\n",
        "#    print(float((i * 1.096),\"원\"))\n",
        "#    print(i * 1268 / 1000, \"원\")\n",
        "#    print(i* 171/100, \"원\")\n",
        "\n",
        "환율 = {\"달러\": 1167,\n",
        "        \"엔\": 1.096,\n",
        "        \"유로\": 1268,\n",
        "        \"위안\": 171}\n",
        "user = input(\"입력: \")\n",
        "num, currency = user.split()\n",
        "print(float(num) * 환율[currency], \"원\")\n"
      ],
      "metadata": {
        "id": "eqTMbtFKtrPf",
        "colab": {
          "base_uri": "https://localhost:8080/"
        },
        "outputId": "320fb84c-a23d-4b76-999c-f232efe1bf82"
      },
      "execution_count": null,
      "outputs": [
        {
          "output_type": "stream",
          "name": "stdout",
          "text": [
            "입력: 100 달러\n",
            "116700.0 원\n"
          ]
        }
      ]
    },
    {
      "cell_type": "code",
      "source": [
        "#124 세 개의 숫자를 입력 받은 후 가장 큰 숫자를 출력\n",
        "num1 = input(\"input number1: \")\n",
        "num2 = input(\"input number2: \")\n",
        "num3 = input(\"input number3: \")\n",
        "num1 = int(num1)\n",
        "num2 = int(num2)\n",
        "num3 = int(num3)\n",
        "\n",
        "if num1 >= num2 and num1 >= num3:\n",
        "    print(num1)\n",
        "elif num2 >= num1 and num2 >= num3:\n",
        "    print(num2)\n",
        "else:\n",
        "    print(num3)"
      ],
      "metadata": {
        "id": "UyAP9ctztr6u",
        "colab": {
          "base_uri": "https://localhost:8080/"
        },
        "outputId": "e8c7fba2-66db-47a3-f1c6-6556d9484d2a"
      },
      "execution_count": null,
      "outputs": [
        {
          "output_type": "stream",
          "name": "stdout",
          "text": [
            "input number1: 1\n",
            "input number2: 2\n",
            "input number3: 3\n",
            "3\n"
          ]
        }
      ]
    },
    {
      "cell_type": "code",
      "source": [
        "#125 전화번호를 입력받고 통신사를 출력하는 프로그램 작성\n",
        "a = input(\"xxx-xxxx-xxx의 형식으로 입력하시오\")\n",
        "phone = {\"011\" : \"skt\", \"016\":\"kt\", \"019\":\"LGU\", \"010\":\"알수없음\"}\n",
        "#list(dict.keys(phone))\n",
        "b= a.split(\"-\")[0]\n",
        "print(phone[b])\n"
      ],
      "metadata": {
        "id": "xcfajYD2tt03",
        "colab": {
          "base_uri": "https://localhost:8080/"
        },
        "outputId": "2e884764-2906-47e4-86e5-261f321c2c94"
      },
      "execution_count": null,
      "outputs": [
        {
          "output_type": "stream",
          "name": "stdout",
          "text": [
            "xxx-xxxx-xxx의 형식으로 입력하시오016-8480-0374\n",
            "kt\n"
          ]
        }
      ]
    },
    {
      "cell_type": "code",
      "source": [
        "#126 우편번호를 입력받고 구를 판별하라\n",
        "우편번호 = input(\"01로 시작하는 5자리 우편번호를 입력하시오\")\n",
        "우편번호 = 우편번호[:3]\n",
        "if 우편번호 in [\"010\", \"011\",\"012\"]:\n",
        "    print(\"강북구\")\n",
        "elif 우편번호 in[\"041\", \"015\", \"016\"]:\n",
        "    print(\"도봉구\")\n",
        "else:\n",
        "    print(\"노원구\")\n",
        "\n",
        "#배운 점 : 스플릿과 슬라이싱을 때에 맞게 사용하는 예시"
      ],
      "metadata": {
        "id": "0Lckcacstus_",
        "colab": {
          "base_uri": "https://localhost:8080/"
        },
        "outputId": "7a4bf96b-c684-4a2b-a8f0-b2e9c2318f2c"
      },
      "execution_count": null,
      "outputs": [
        {
          "output_type": "stream",
          "name": "stdout",
          "text": [
            "01로 시작하는 5자리 우편번호를 입력하시오01515\n",
            "도봉구\n"
          ]
        }
      ]
    },
    {
      "cell_type": "code",
      "source": [
        "#127 주민번호를 입력받은 후 성별을 출력하라\n",
        "주민등록번호 = (input(\"xxxxxx(6개)-xxxxxxx(7개)\"))\n",
        "c= 주민등록번호.split(\"-\")\n",
        "if c[1][:1] == \"1\": #문자형으로 나타내는걸 잊지말것\n",
        "    print(\"남자\")\n",
        "else:\n",
        "    print(\"여자\")"
      ],
      "metadata": {
        "id": "w-H8kvHstvSW",
        "colab": {
          "base_uri": "https://localhost:8080/"
        },
        "outputId": "42e142bb-340b-40d5-fd7e-10234891c7cf"
      },
      "execution_count": null,
      "outputs": [
        {
          "output_type": "stream",
          "name": "stdout",
          "text": [
            "xxxxxx(6개)-xxxxxxx(7개)984844-2465447\n",
            "여자\n"
          ]
        }
      ]
    },
    {
      "cell_type": "code",
      "source": [
        "#128 주민등록번호를 받은 후 지역이 서울인지 아닌지 판단해라\n",
        "\n",
        "주민등록번호 = (input(\"xxxxxx(6개)-xxxxxxx(7개)\"))\n",
        "c= 주민등록번호.split(\"-\")\n",
        "if int(c[1][1:3]) < 8:\n",
        "    print(\"서울\")\n",
        "else:\n",
        "    print(\"부산\")"
      ],
      "metadata": {
        "id": "yluSQLuctwEW",
        "colab": {
          "base_uri": "https://localhost:8080/"
        },
        "outputId": "a8f202bb-2aec-4336-f44b-c81a350fdcec"
      },
      "execution_count": null,
      "outputs": [
        {
          "output_type": "stream",
          "name": "stdout",
          "text": [
            "xxxxxx(6개)-xxxxxxx(7개)145688-9048411\n",
            "서울\n"
          ]
        }
      ]
    },
    {
      "cell_type": "code",
      "source": [
        "#129 주민번호의 마지막 자리 값 정하는 법"
      ],
      "metadata": {
        "id": "_uYT6cE8twoX"
      },
      "execution_count": null,
      "outputs": []
    },
    {
      "cell_type": "code",
      "source": [
        "#130 비트코인 가격 정보를 딕셔너리로 가져오기\n",
        "\n",
        "import requests\n",
        "btc = requests.get(\"https://api.bithumb.com/public/ticker/\").json()['data']"
      ],
      "metadata": {
        "id": "KC-O0oWAtxtX"
      },
      "execution_count": null,
      "outputs": []
    }
  ]
}