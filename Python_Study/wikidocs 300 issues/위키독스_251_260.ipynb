{
  "nbformat": 4,
  "nbformat_minor": 0,
  "metadata": {
    "colab": {
      "provenance": [],
      "authorship_tag": "ABX9TyMXZVnBX93WFEkz5u1S4KJt",
      "include_colab_link": true
    },
    "kernelspec": {
      "name": "python3",
      "display_name": "Python 3"
    },
    "language_info": {
      "name": "python"
    }
  },
  "cells": [
    {
      "cell_type": "markdown",
      "metadata": {
        "id": "view-in-github",
        "colab_type": "text"
      },
      "source": [
        "<a href=\"https://colab.research.google.com/github/chocksummersalt/python/blob/main/wikidocs%20300%20issues/%EC%9C%84%ED%82%A4%EB%8F%85%EC%8A%A4_251_260.ipynb\" target=\"_parent\"><img src=\"https://colab.research.google.com/assets/colab-badge.svg\" alt=\"Open In Colab\"/></a>"
      ]
    },
    {
      "cell_type": "code",
      "source": [
        "#251"
      ],
      "metadata": {
        "id": "A6rHe53PuPaI"
      },
      "execution_count": null,
      "outputs": []
    },
    {
      "cell_type": "code",
      "source": [
        "#252 클래스 정의 human 클래스를 정의해보세요\n",
        "class human:\n",
        "    pass"
      ],
      "metadata": {
        "id": "PX6sfdUZuO6l"
      },
      "execution_count": null,
      "outputs": []
    },
    {
      "cell_type": "code",
      "source": [
        "#253 human클래스의 인스턴스를 생성하고 areum으로 바인딩하세요\n",
        "class human:\n",
        "\n",
        "    aruem:human()"
      ],
      "metadata": {
        "id": "qe9noTA9uOI2"
      },
      "execution_count": null,
      "outputs": []
    },
    {
      "cell_type": "code",
      "source": [
        "#254 응애응애를 출력하는 생성자를 만드세요\n",
        "\n",
        "class human:\n",
        "\n",
        "    def __init__(self):\n",
        "        print(\"응애응애\")\n",
        "\n",
        "aruem:human()\n",
        ""
      ],
      "metadata": {
        "colab": {
          "base_uri": "https://localhost:8080/"
        },
        "id": "puLPST_8uNna",
        "outputId": "0c11c715-f748-44bb-ade8-4c24eb6826c7"
      },
      "execution_count": 4,
      "outputs": [
        {
          "output_type": "stream",
          "name": "stdout",
          "text": [
            "응애응애\n"
          ]
        }
      ]
    },
    {
      "cell_type": "code",
      "source": [
        "\n",
        "\n",
        "#255 이름, 나이, 성별을 받는 생성자를 추가하세요\n",
        "\n",
        "class human:\n",
        "    def __init__(self, name, age, sex):\n",
        "        self.name=name\n",
        "        self.age= age\n",
        "        self.sex= sex\n",
        "\n",
        "        print(name,age,sex)\n",
        "areum:human(\"아름\",25,\"여\")"
      ],
      "metadata": {
        "colab": {
          "base_uri": "https://localhost:8080/"
        },
        "id": "nrPr8-KZuNCD",
        "outputId": "d1d6660a-747d-43aa-d21c-cafb64ee5d12"
      },
      "execution_count": 10,
      "outputs": [
        {
          "output_type": "stream",
          "name": "stdout",
          "text": [
            "아름 25 여\n"
          ]
        }
      ]
    },
    {
      "cell_type": "code",
      "source": [
        "#256 인스턴스 속성에 접근\n",
        "class human:\n",
        "    def __init__(self, name, age, sex):\n",
        "        self.name=name\n",
        "        self.age= age\n",
        "        self.sex= sex\n",
        "\n",
        "areum= human(\"아름\",25,\"여\")\n",
        "print(areum.age)"
      ],
      "metadata": {
        "colab": {
          "base_uri": "https://localhost:8080/"
        },
        "id": "7bSifFWLuL-W",
        "outputId": "56795fad-88da-4b8b-ad0d-603d7f13fb15"
      },
      "execution_count": 14,
      "outputs": [
        {
          "output_type": "stream",
          "name": "stdout",
          "text": [
            "25\n"
          ]
        }
      ]
    },
    {
      "cell_type": "code",
      "source": [
        "#257 이름 나이 성별을 출력하는 who()매소드를 추가하세요\n",
        "class Human:\n",
        "    def __init__(self, name, age, sex):\n",
        "        self.name = name\n",
        "        self.age = age\n",
        "        self.sex = sex\n",
        "\n",
        "    def who(self):\n",
        "        print(f\"이름: {self.name} 나이: {self.age} 성별: {self.sex}\")\n",
        "\n",
        "areum = Human(\"아름\", 25, \"여자\")\n",
        "areum.who()      # Human.who(areum)"
      ],
      "metadata": {
        "colab": {
          "base_uri": "https://localhost:8080/"
        },
        "id": "RGIcLKiLuLLa",
        "outputId": "f9afad86-0fc9-425c-df59-288dd5e627e1"
      },
      "execution_count": 17,
      "outputs": [
        {
          "output_type": "stream",
          "name": "stdout",
          "text": [
            "이름: 아름 나이: 25 성별: 여자\n"
          ]
        }
      ]
    },
    {
      "cell_type": "code",
      "source": [
        "#258 이름 나이 성별을 받는 setinfo를 작성하라\n",
        "class Human:\n",
        "    def __init__(self, name, age, sex):\n",
        "        self.name = name\n",
        "        self.age = age\n",
        "        self.sex = sex\n",
        "\n",
        "    def who(self):\n",
        "        print(\"이름: {} 나이: {} 성별: {}\".format(self.name, self.age, self.sex))\n",
        "\n",
        "    def setInfo(self, name, age, sex):\n",
        "        self.name = name\n",
        "        self.age = age\n",
        "        self.sex = sex\n",
        "\n",
        "\n",
        "areum = Human(\"불명\", \"미상\", \"모름\")\n",
        "areum.who()      # Human.who(areum)\n",
        "\n",
        "areum.setInfo(\"아름\", 25, \"여자\")\n",
        "areum.who()      # Human.who(areum)\n"
      ],
      "metadata": {
        "colab": {
          "base_uri": "https://localhost:8080/"
        },
        "id": "DHlY-XomuKbW",
        "outputId": "b4901400-ff1a-4e75-aafa-9490ba5420e4"
      },
      "execution_count": 18,
      "outputs": [
        {
          "output_type": "stream",
          "name": "stdout",
          "text": [
            "이름: 불명 나이: 미상 성별: 모름\n",
            "이름: 아름 나이: 25 성별: 여자\n"
          ]
        }
      ]
    },
    {
      "cell_type": "code",
      "source": [
        "#259 del(areum)을 하면 나의 죽음을 알리지마라 라는 말이 출력되게 하시오\n",
        "class Human:\n",
        "    def __init__(self, name, age, sex):\n",
        "        self.name = name\n",
        "        self.age = age\n",
        "        self.sex = sex\n",
        "\n",
        "    def __del__(self):\n",
        "        print(\"나의 죽음을 알리지마라\")\n",
        "\n",
        "    def who(self):\n",
        "        print(f\"이름: {self.name} 나이: {self.age} 성별: {self.sex}\")\n",
        "\n",
        "    def setInfo(self, name, age, sex):\n",
        "        self.name = name\n",
        "        self.age = age\n",
        "        self.sex = sex\n",
        "\n",
        "areum = Human(\"아름\", 25, \"여자\")\n",
        "del(areum)"
      ],
      "metadata": {
        "id": "vBd1kc5puJOh"
      },
      "execution_count": null,
      "outputs": []
    },
    {
      "cell_type": "code",
      "execution_count": null,
      "metadata": {
        "id": "ZIY9OHkSolYP"
      },
      "outputs": [],
      "source": [
        "#260"
      ]
    }
  ]
}