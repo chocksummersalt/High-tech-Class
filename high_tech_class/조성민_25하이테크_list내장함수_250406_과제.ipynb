{
  "nbformat": 4,
  "nbformat_minor": 0,
  "metadata": {
    "colab": {
      "provenance": [],
      "include_colab_link": true
    },
    "kernelspec": {
      "name": "python3",
      "display_name": "Python 3"
    },
    "language_info": {
      "name": "python"
    }
  },
  "cells": [
    {
      "cell_type": "markdown",
      "metadata": {
        "id": "view-in-github",
        "colab_type": "text"
      },
      "source": [
        "<a href=\"https://colab.research.google.com/github/chocksummersalt/python/blob/main/high_tech_class/%EC%A1%B0%EC%84%B1%EB%AF%BC_25%ED%95%98%EC%9D%B4%ED%85%8C%ED%81%AC_list%EB%82%B4%EC%9E%A5%ED%95%A8%EC%88%98_250406_%EA%B3%BC%EC%A0%9C.ipynb\" target=\"_parent\"><img src=\"https://colab.research.google.com/assets/colab-badge.svg\" alt=\"Open In Colab\"/></a>"
      ]
    },
    {
      "cell_type": "markdown",
      "source": [
        "## list 내장 함수\n",
        "\n",
        "| 함수  |            설명             |\n",
        "|-------|---------------------------|\n",
        "|.append()|리스트에 새로운 요소를 추가.(문자열, 숫자, 리스트, 튜플, 딕셔너리, 세트 가능)|\n",
        "|extend()|리스트에 여러 개의 아이템을 한꺼번에 맨 뒤 순서로(튜플, 셋, 리스트, 문자열 추가하면 자료구조가 사라지고 리스트의 아이템이 됨. 딕셔너리는 키 값만)|\n",
        "|insert()|특정 인덱스에 아이템을 끼워 넣을 수 있음.|\n",
        "|remove()|리스트에서 아이템 찾아서 제거, 중복된 아이템일 때는 맨 앞에거를 제거|\n",
        "|pop()|리스트에서 아이템을 추출해서 삭제하고 값을 반환|\n",
        "|clear()|모든 아이템를 제거|\n",
        "|index(값, 시작인덱스, 끝인덱스)|특정 값이 나타나는 인덱스를 반환함 중복일 경우 처음 발견한 것. 하나만 괄호안에 넣으면 값만 조건없이 검색|\n",
        "|count()|값이 몇번 등장하는지 정수로 변환. 없으면 0|\n",
        "|sort()|리스트안에서 정렬이 일어나게 함. 디폴트는 오름차순 정렬.|\n",
        "|reverse()|리스트 아이템의 순서를 거꾸로 함. 반환은 안함. 리스트의 순서가 변형됨.|\n",
        "|copy()|원본은 그대로 두고, 사본을 만든다. 서로 다른 메모리 주소에 있으며 독립된 리스트다.|"
      ],
      "metadata": {
        "id": "F_qXYrJacJ6I"
      }
    },
    {
      "cell_type": "code",
      "source": [
        "##.append()\n",
        "numbers = [1, 2, 3]\n",
        "numbers.append(4)\n",
        "print(numbers)\n",
        "\n",
        "data = [1, 2]\n",
        "data.append([3, 4])\n",
        "print(data)# 리스트 안에 리스트 넣기\n",
        "\n",
        "squares = []\n",
        "for i in range(5):\n",
        "    squares.append(i * i)\n",
        "\n",
        "print(squares)"
      ],
      "metadata": {
        "colab": {
          "base_uri": "https://localhost:8080/"
        },
        "id": "GhFQOBE7c6XX",
        "outputId": "41e23eb7-1321-4d9a-a2ec-522d5b8137b3"
      },
      "execution_count": null,
      "outputs": [
        {
          "output_type": "stream",
          "name": "stdout",
          "text": [
            "[1, 2, 3, 4]\n",
            "[1, 2, [3, 4]]\n",
            "[0, 1, 4, 9, 16]\n"
          ]
        }
      ]
    },
    {
      "cell_type": "code",
      "source": [
        "##.extend()\n",
        "a = [1, 2, 3]\n",
        "b = [4, 5, 6]\n",
        "\n",
        "a.extend(b)\n",
        "print(a)\n",
        "\n",
        "chars = ['A', 'B']\n",
        "chars.extend('CD')\n",
        "print(chars)\n",
        "\n",
        "nums = [1, 2]\n",
        "b = {\"x\": 100, \"y\": 200}\n",
        "nums.extend((3, 4))\n",
        "nums.extend({5, 6})\n",
        "nums.extend(b)\n",
        "print(nums)"
      ],
      "metadata": {
        "colab": {
          "base_uri": "https://localhost:8080/"
        },
        "id": "UNyiu28CxWBr",
        "outputId": "af191fd4-e069-43d0-daaf-7f6c0f9526a2"
      },
      "execution_count": null,
      "outputs": [
        {
          "output_type": "stream",
          "name": "stdout",
          "text": [
            "[1, 2, 3, 4, 5, 6]\n",
            "['A', 'B', 'C', 'D']\n",
            "[1, 2, 3, 4, 5, 6, 'x', 'y']\n"
          ]
        }
      ]
    },
    {
      "cell_type": "code",
      "source": [
        "##.insert(인덱스, 값)\n",
        "fruits = ['apple', 'banana', 'cherry']\n",
        "fruits.insert(1, 'orange')  # 1번 인덱스에 'orange' 삽입\n",
        "\n",
        "print(fruits)\n",
        "\n"
      ],
      "metadata": {
        "colab": {
          "base_uri": "https://localhost:8080/"
        },
        "id": "TjSlgYzpxV0b",
        "outputId": "c03f06d3-3dfa-45ce-e94d-3a27a6f5b86d"
      },
      "execution_count": null,
      "outputs": [
        {
          "output_type": "stream",
          "name": "stdout",
          "text": [
            "['apple', 'orange', 'banana', 'cherry']\n"
          ]
        }
      ]
    },
    {
      "cell_type": "code",
      "source": [
        "##.remove()\n",
        "fruits = ['apple', 'banana', 'cherry']\n",
        "fruits.remove('banana')\n",
        "print(fruits)\n",
        "\n",
        "#값을 모를 때는 이렇게 쓸 수 있음. 오류 방지\n",
        "if 5 in nums:\n",
        "    nums.remove(5)\n"
      ],
      "metadata": {
        "colab": {
          "base_uri": "https://localhost:8080/"
        },
        "id": "M34fmSC10enp",
        "outputId": "2d4a6c17-7fdc-4225-d4db-ade06bf45afd"
      },
      "execution_count": null,
      "outputs": [
        {
          "output_type": "stream",
          "name": "stdout",
          "text": [
            "['apple', 'cherry']\n"
          ]
        }
      ]
    },
    {
      "cell_type": "code",
      "source": [
        "##.pop([인덱스]) 인덱스 없으면 맨 마지막 아이템 추출. 후입선출 스택같이 작동함\n",
        "fruits = ['apple', 'banana', 'cherry']\n",
        "last = fruits.pop()\n",
        "print(fruits)  # ['apple', 'banana']\n",
        "print(last)    # 'cherry'\n",
        "\n",
        "nums = [10, 20, 30, 40]\n",
        "x = nums.pop(1)  # 1번 인덱스 20\n",
        "print(nums)      # [10, 30, 40] 20 제거\n",
        "print(x)         # 20 따로 저장"
      ],
      "metadata": {
        "id": "V26stAvS0eeJ",
        "colab": {
          "base_uri": "https://localhost:8080/"
        },
        "outputId": "3d85f943-5df1-4b66-cb68-ea05171fe380"
      },
      "execution_count": null,
      "outputs": [
        {
          "output_type": "stream",
          "name": "stdout",
          "text": [
            "['apple', 'banana']\n",
            "cherry\n",
            "[10, 30, 40]\n",
            "20\n"
          ]
        }
      ]
    },
    {
      "cell_type": "code",
      "source": [
        "##.clear()\n",
        "inums = [1, 2, 3, 4]\n",
        "nums.clear()\n",
        "print(nums)"
      ],
      "metadata": {
        "id": "zp9vcmFY0eUT",
        "colab": {
          "base_uri": "https://localhost:8080/"
        },
        "outputId": "cb466015-403c-4685-9eaa-5a8df44f4db5"
      },
      "execution_count": null,
      "outputs": [
        {
          "output_type": "stream",
          "name": "stdout",
          "text": [
            "[]\n"
          ]
        }
      ]
    },
    {
      "cell_type": "code",
      "source": [
        "##.index()\n",
        "colors = ['red', 'blue', 'green', 'blue']\n",
        "i = colors.index('blue')\n",
        "print(i)  # 1\n",
        "\n",
        "colors = ['red', 'blue', 'green', 'blue']\n",
        "i = colors.index('blue', 2)\n",
        "print(i)  # 3 2번부터 찾기 시작했으니 첫번째 blue는 스킵"
      ],
      "metadata": {
        "id": "aY9mJjF40eMc",
        "colab": {
          "base_uri": "https://localhost:8080/"
        },
        "outputId": "6c638670-28ac-45c6-c227-2aea571a5a87"
      },
      "execution_count": null,
      "outputs": [
        {
          "output_type": "stream",
          "name": "stdout",
          "text": [
            "['J', 'Q', 'A', 'K', '10']\n",
            "['z', 'x']\n",
            "['H', 'O', 'T']\n",
            "['apple', 'banana']\n",
            "['b', 'a']\n",
            "[2, 1]\n",
            "[('c', 3), ('a', 1)]\n"
          ]
        }
      ]
    },
    {
      "cell_type": "code",
      "source": [
        "##.count()\n",
        "fruits = ['apple', 'banana', 'apple', 'cherry', 'apple']\n",
        "print(fruits.count('apple'))  # 3\n",
        "print(fruits.count('banana')) # 1\n",
        "print(fruits.count('orange')) # 0\n",
        "#랜덤 확률 구할때 좋음"
      ],
      "metadata": {
        "id": "JKCDcsok0eDb",
        "colab": {
          "base_uri": "https://localhost:8080/"
        },
        "outputId": "4d4ce610-b388-451c-e9a2-ede1429df3bb"
      },
      "execution_count": null,
      "outputs": [
        {
          "output_type": "stream",
          "name": "stdout",
          "text": [
            "3\n",
            "1\n",
            "0\n"
          ]
        }
      ]
    },
    {
      "cell_type": "code",
      "source": [
        "##.sort()\n",
        "#리스트.sort(reverse=True)  # 내림차순\n",
        "nums = [5, 3, 9, 1]\n",
        "nums.sort()\n",
        "print(nums)  # [1, 3, 5, 9]\n",
        "\n",
        "words = ['banana', 'apple', 'cherry']\n",
        "words.sort()\n",
        "print(words)  # ['apple', 'banana', 'cherry']\n",
        "\n",
        "fruits = ['apple', 'kiwi', 'banana', 'pear']\n",
        "fruits.sort(key=len)#key를 쓰는 방법. key=함수 는 기준을 잡아주는 인자. 정렬의 기준을 세워준다.\n",
        "print(fruits)  # ['kiwi', 'pear', 'apple', 'banana']\n",
        "\n",
        "a = [3, 1, 2]\n",
        "result = a.sort()\n",
        "print(result)  # None 그 자체로는 반환값이 없고 리스트에 적용되는 함수\n",
        "print(a)       # [1, 2, 3]"
      ],
      "metadata": {
        "id": "YECkBfOC0d2T",
        "colab": {
          "base_uri": "https://localhost:8080/"
        },
        "outputId": "b9690c46-91ea-4a3a-b77d-aa9c5f2d79e0"
      },
      "execution_count": null,
      "outputs": [
        {
          "output_type": "stream",
          "name": "stdout",
          "text": [
            "[1, 3, 5, 9]\n",
            "['apple', 'banana', 'cherry']\n",
            "['kiwi', 'pear', 'apple', 'banana']\n"
          ]
        }
      ]
    },
    {
      "cell_type": "code",
      "source": [
        "##.reverse()\n",
        "nums = [1, 2, 3, 4, 5]\n",
        "nums.reverse()\n",
        "print(nums)  # [5, 4, 3, 2, 1]\n",
        "\n",
        "nums[::-1] # 이건 새 리스트 반환\n",
        "print(nums[::-1])\n",
        "\n",
        "#!!주의해야할 점!! reversed()는 새로운 자료를 만들어내고 원본은 그대로다. 모든 반복가능 자료형에 적용할 수 있음."
      ],
      "metadata": {
        "colab": {
          "base_uri": "https://localhost:8080/"
        },
        "id": "-kqxjHSvBTnO",
        "outputId": "cea92294-3875-4b61-c90e-72c9c3f250e2"
      },
      "execution_count": null,
      "outputs": [
        {
          "output_type": "stream",
          "name": "stdout",
          "text": [
            "[5, 4, 3, 2, 1]\n",
            "[1, 2, 3, 4, 5]\n"
          ]
        }
      ]
    },
    {
      "cell_type": "code",
      "source": [
        "##.copy()\n",
        "a = [1, 2, 3]\n",
        "b = a.copy()\n",
        "\n",
        "print(a)  # [1, 2, 3]\n",
        "print(b)  # [1, 2, 3]\n",
        "\n",
        "b.append(4)\n",
        "\n",
        "print(a)  # [1, 2, 3]\n",
        "print(b)  # [1, 2, 3, 4] b를 바꿔도 a는 안바뀐다. 독립된 복사본."
      ],
      "metadata": {
        "colab": {
          "base_uri": "https://localhost:8080/"
        },
        "id": "VFJ4rzPV0pDw",
        "outputId": "3d8987bb-0e61-45f2-a6ea-01bda0b86b96"
      },
      "execution_count": null,
      "outputs": [
        {
          "output_type": "stream",
          "name": "stdout",
          "text": [
            "[1, 2, 3]\n",
            "[1, 2, 3]\n",
            "[1, 2, 3]\n",
            "[1, 2, 3, 4]\n"
          ]
        }
      ]
    }
  ]
}