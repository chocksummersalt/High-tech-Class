{
  "nbformat": 4,
  "nbformat_minor": 0,
  "metadata": {
    "colab": {
      "provenance": [],
      "authorship_tag": "ABX9TyPJaNFBKDZiCQQrOT9QBngh",
      "include_colab_link": true
    },
    "kernelspec": {
      "name": "python3",
      "display_name": "Python 3"
    },
    "language_info": {
      "name": "python"
    }
  },
  "cells": [
    {
      "cell_type": "markdown",
      "metadata": {
        "id": "view-in-github",
        "colab_type": "text"
      },
      "source": [
        "<a href=\"https://colab.research.google.com/github/chocksummersalt/python/blob/main/%EC%9C%84%ED%82%A4%EB%8F%85%EC%8A%A4_91_100.ipynb\" target=\"_parent\"><img src=\"https://colab.research.google.com/assets/colab-badge.svg\" alt=\"Open In Colab\"/></a>"
      ]
    },
    {
      "cell_type": "code",
      "execution_count": null,
      "metadata": {
        "colab": {
          "base_uri": "https://localhost:8080/"
        },
        "id": "VMn3CtLN47ZB",
        "outputId": "c23c00ac-9603-47d1-b3e8-c20cbb9e0953"
      },
      "outputs": [
        {
          "output_type": "stream",
          "name": "stdout",
          "text": [
            "{'메로나': [300, 20], '비비빅': [400, 3], '죠스바': [250, 100]}\n"
          ]
        }
      ],
      "source": [
        "#91 아이스크림의 이름을 키로 가격 재고 리스트를 딕셔너리의 값으로 한다.\n",
        "#딕셔너리 이름은 inventory로 한다.\n",
        "inventory = {\"메로나\":[300, 20], \"비비빅\":[400, 3], \"죠스바\":[250, 100]}\n",
        "print(inventory)"
      ]
    },
    {
      "cell_type": "code",
      "source": [
        "#92 메로나의 가격을 화면에 출력하라\n",
        "print(inventory[\"메로나\"][0])\n",
        "#배운 점 : 리스트 내부의 값을 호출하는 방법은 키값으로 리스트 벨류를 호출하고 거기서 인덱싱"
      ],
      "metadata": {
        "colab": {
          "base_uri": "https://localhost:8080/"
        },
        "id": "UzixTG9g4--8",
        "outputId": "63686ca6-3c22-447f-990e-4f4a8387f68b"
      },
      "execution_count": null,
      "outputs": [
        {
          "output_type": "stream",
          "name": "stdout",
          "text": [
            "300\n"
          ]
        }
      ]
    },
    {
      "cell_type": "code",
      "source": [
        "#93 메로나의 재고를 화면에 출력하라\n",
        "print(inventory[\"메로나\"][1])"
      ],
      "metadata": {
        "colab": {
          "base_uri": "https://localhost:8080/"
        },
        "id": "C2m4bvkW4_uz",
        "outputId": "a5d0a265-d148-41a4-dd2e-4b0f1d62fc84"
      },
      "execution_count": null,
      "outputs": [
        {
          "output_type": "stream",
          "name": "stdout",
          "text": [
            "20\n"
          ]
        }
      ]
    },
    {
      "cell_type": "code",
      "source": [
        "#94 딕셔너리에 데이터를 추가하라\n",
        "inventory[\"월드콘\"] = [500, 7]\n",
        "print(inventory)"
      ],
      "metadata": {
        "colab": {
          "base_uri": "https://localhost:8080/"
        },
        "id": "m21T9rC55AaT",
        "outputId": "6b869d50-e4f3-4199-c1a4-198b8912f45b"
      },
      "execution_count": null,
      "outputs": [
        {
          "output_type": "stream",
          "name": "stdout",
          "text": [
            "{'메로나': [300, 20], '비비빅': [400, 3], '죠스바': [250, 100], '월드콘': [500, 7]}\n"
          ]
        }
      ]
    },
    {
      "cell_type": "code",
      "source": [
        "#95 딕셔너리로 부터 키 값만으로 구성된 리스트를 생성하라\n",
        "icecream = {'탱크보이': 1200, '폴라포': 1200, '빵빠레': 1800, '월드콘': 1500, '메로나': 1000}\n",
        "#print(keys(icecream))\n",
        "#print(icecream.keys()) #이건 리스트가 아니라 딕셔너리 키를 보여주는 것이다.\n",
        "print(list(icecream.keys()))\n",
        "#배운 점 : 리스트로 만들려면 list를 앞에다 붙여주는 걸 해야한다."
      ],
      "metadata": {
        "colab": {
          "base_uri": "https://localhost:8080/"
        },
        "id": "XXuQHCTx5BT7",
        "outputId": "40b3f2a7-33bc-4a5d-b421-c3e2f9f7d8a7"
      },
      "execution_count": null,
      "outputs": [
        {
          "output_type": "stream",
          "name": "stdout",
          "text": [
            "['탱크보이', '폴라포', '빵빠레', '월드콘', '메로나']\n"
          ]
        }
      ]
    },
    {
      "cell_type": "code",
      "source": [
        "#96 다음의 딕셔너리에서 벨류 값으로 구성된 리스트를 생성하라\n",
        "print(list(icecream.values()))"
      ],
      "metadata": {
        "colab": {
          "base_uri": "https://localhost:8080/"
        },
        "id": "gN1jM2Pl5B8b",
        "outputId": "b74be61a-c1cf-4e98-837d-01cc4e18e035"
      },
      "execution_count": null,
      "outputs": [
        {
          "output_type": "stream",
          "name": "stdout",
          "text": [
            "[1200, 1200, 1800, 1500, 1000]\n"
          ]
        }
      ]
    },
    {
      "cell_type": "code",
      "source": [
        "#97 아이스크림 판매 금액의 총합을 출력하라.\n",
        "print(sum(icecream.values()))"
      ],
      "metadata": {
        "colab": {
          "base_uri": "https://localhost:8080/"
        },
        "id": "x2q7v0EU5CqL",
        "outputId": "ea43602c-072d-464e-dc6a-66dd37eaf630"
      },
      "execution_count": null,
      "outputs": [
        {
          "output_type": "stream",
          "name": "stdout",
          "text": [
            "6700\n"
          ]
        }
      ]
    },
    {
      "cell_type": "code",
      "source": [
        "#98 다른 딕셔너리를 추가하라\n",
        "new_product = {\"팥빙수\":2000, \"아맛나\":1000}\n",
        "icecream1 = {'탱크보이': 1200, '폴라포': 1200, '빵빠레': 1800, '월드콘': 1500, '메로나': 1000}\n",
        "icecream1.update(new_product)\n",
        "print(icecream1)\n",
        "#배운 점. 위에서 아이스크림을 프린트 안에서 리스트로 만들었어도 리스트화는 유지된다."
      ],
      "metadata": {
        "colab": {
          "base_uri": "https://localhost:8080/"
        },
        "id": "d2f6XWbp5DUL",
        "outputId": "98b9c0f5-5238-4d6c-a158-e1846af58717"
      },
      "execution_count": null,
      "outputs": [
        {
          "output_type": "stream",
          "name": "stdout",
          "text": [
            "{'탱크보이': 1200, '폴라포': 1200, '빵빠레': 1800, '월드콘': 1500, '메로나': 1000, '팥빙수': 2000, '아맛나': 1000}\n"
          ]
        }
      ]
    },
    {
      "cell_type": "code",
      "source": [
        "#99 두 개의 튜플을 하나의 딕셔너리로 변환하라. keys를 키로 vals를 값으로 result 이름의 딕셔너리로\n",
        "keys = (\"apple\", \"pear\", \"peach\")\n",
        "vals = (300, 250, 400)\n",
        "result = {} #값이 들어갈 딕셔너리 생성\n",
        "#result[keys] = [vals]\n",
        "result = dict(zip(keys, vals))\n",
        "print(result)\n",
        "#배운 점 : 기존에 쌍 하나 추가할 때 처럼 하면 한뭉치가 키가 되고 한뭉치가 벨류가됨."
      ],
      "metadata": {
        "colab": {
          "base_uri": "https://localhost:8080/"
        },
        "id": "1-B_Fs0p5D7D",
        "outputId": "ebfaf39e-889d-4ab1-b566-173fc694bc96"
      },
      "execution_count": null,
      "outputs": [
        {
          "output_type": "stream",
          "name": "stdout",
          "text": [
            "{'apple': 300, 'pear': 250, 'peach': 400}\n"
          ]
        }
      ]
    },
    {
      "cell_type": "code",
      "source": [
        "#100 date와 close_price 두 개의 리스트를 close_table이름의 딕셔너리로 생성하라\n",
        "date = ['09/05', '09/06', '09/07', '09/08', '09/09']\n",
        "close_price = [10500, 10300, 10100, 10800, 11000]\n",
        "close_table=(dict(zip(date, close_price)))\n",
        "print(close_table)"
      ],
      "metadata": {
        "colab": {
          "base_uri": "https://localhost:8080/"
        },
        "id": "hvbkCQ-H5EoL",
        "outputId": "df60a6b7-d168-4ee9-e6ac-3865ee7e7712"
      },
      "execution_count": null,
      "outputs": [
        {
          "output_type": "stream",
          "name": "stdout",
          "text": [
            "{'09/05': 10500, '09/06': 10300, '09/07': 10100, '09/08': 10800, '09/09': 11000}\n"
          ]
        }
      ]
    }
  ]
}
