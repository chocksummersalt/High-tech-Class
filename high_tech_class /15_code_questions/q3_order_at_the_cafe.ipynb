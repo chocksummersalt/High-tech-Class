{
  "nbformat": 4,
  "nbformat_minor": 0,
  "metadata": {
    "colab": {
      "provenance": [],
      "authorship_tag": "ABX9TyP1so13WqY9q5yVafkFUlrj",
      "include_colab_link": true
    },
    "kernelspec": {
      "name": "python3",
      "display_name": "Python 3"
    },
    "language_info": {
      "name": "python"
    }
  },
  "cells": [
    {
      "cell_type": "markdown",
      "metadata": {
        "id": "view-in-github",
        "colab_type": "text"
      },
      "source": [
        "<a href=\"https://colab.research.google.com/github/chocksummersalt/python/blob/main/high_tech_class%20/15_code_questions/q3_order_at_the_cafe.ipynb\" target=\"_parent\"><img src=\"https://colab.research.google.com/assets/colab-badge.svg\" alt=\"Open In Colab\"/></a>"
      ]
    },
    {
      "cell_type": "code",
      "execution_count": null,
      "metadata": {
        "id": "nDyTCFbQMsAm"
      },
      "outputs": [],
      "source": [
        "#3번 손님이 직접 메뉴 이름을 입력하여 주문, 끝이라고 입력할 때 까지 주문 계속\n",
        "#주문한 메뉴의 총 결제금액 출력\n",
        "#카페에는 고정된 메뉴가 있고 입력한 메뉴가 목록에 없을때는 메뉴에 없다 표시하고 다시 입력받기\n",
        "#메뉴: 딕셔너리 형태로 구성된 이름:가격 쌍, 입력은 입력되는 문자열은 공백없는 한글\n",
        "#주문: 문자열 리스트, 주문한 음료의 이름이 담겨있음. 총 결제 금액은 n원입니다.로 출력 n은 총합\n",
        "메뉴 = {\"아메리카노\":1500, \"카페라떼\":2000, \"필터커피\":5000} #메뉴-가격 딕셔너리\n",
        "메뉴저장 = [] #총합을 낼 리스트\n",
        "\n",
        "while True:\n",
        "    메뉴입력 = input(\"아메리카노, 카페라떼, 필터커피만 가능합니다:(종료하려면 '끝'을 입력)\")\n",
        "    if 메뉴입력 == '끝':\n",
        "        break\n",
        "    elif 메뉴입력 ==\"아메리카노\":\n",
        "        메뉴저장.append(메뉴[\"아메리카노\"])\n",
        "    elif 메뉴입력 ==\"카페라떼\":\n",
        "        메뉴저장.append(메뉴[\"카페라떼\"])\n",
        "    elif 메뉴입력 ==\"필터커피\":\n",
        "        메뉴저장.append(메뉴[\"필터커피\"])\n",
        "    else:\n",
        "        print(\"다시 입력해 주세요:\")\n",
        "\n",
        "총액=sum(메뉴저장)\n",
        "print(f\"총 결제금액은{총액} 입니다.\")"
      ]
    }
  ]
}