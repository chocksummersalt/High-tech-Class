{
  "nbformat": 4,
  "nbformat_minor": 0,
  "metadata": {
    "colab": {
      "provenance": [],
      "include_colab_link": true
    },
    "kernelspec": {
      "name": "python3",
      "display_name": "Python 3"
    },
    "language_info": {
      "name": "python"
    }
  },
  "cells": [
    {
      "cell_type": "markdown",
      "metadata": {
        "id": "view-in-github",
        "colab_type": "text"
      },
      "source": [
        "<a href=\"https://colab.research.google.com/github/chocksummersalt/python/blob/main/%EC%A1%B0%EC%84%B1%EB%AF%BC_25%ED%95%98%EC%9D%B4%ED%85%8C%ED%81%AC_tuple%EB%82%B4%EC%9E%A5%ED%95%A8%EC%88%98_%EA%B3%BC%EC%A0%9Cipynb.ipynb\" target=\"_parent\"><img src=\"https://colab.research.google.com/assets/colab-badge.svg\" alt=\"Open In Colab\"/></a>"
      ]
    },
    {
      "cell_type": "markdown",
      "source": [
        "## tuple 내장 함수\n",
        "\n",
        "| 함수  |            설명             |\n",
        "|-------|---------------------------|\n",
        "|+|튜플간 연결|\n",
        "|*|튜플의 아이템을 *-정수-의 갯수만큼 반복해서 튜플 생성|\n",
        "|len()|튜플내에 있는 아이템의 갯수를 출력합니다.|\n",
        "|max()|튜플에서 가장 큰 값 반환|\n",
        "|min()|튜플에서 가장 작은 값 반환|\n",
        "|sum()|튜플의 아이템들의 합을 반환|\n",
        "|index(value)|value위치 출력|\n",
        "|count(value)|value가 몇 번 나오는지 출력|\n",
        "|sorted()|튜플을 정렬한 list로 반환|\n",
        "|tuple(reversed())|튜플의 아이템을 역순의 튜플로 반환 tuple이나 list안쓰면 메모리 주소 반환. 반복사용은 가능하나 메모리절약을 위해 값을 보여주진 않음.|"
      ],
      "metadata": {
        "id": "F_qXYrJacJ6I"
      }
    },
    {
      "cell_type": "code",
      "source": [
        "##+()\n",
        "tupla = (1, 2, 3, 4, 5)\n",
        "tuplb = (\"a\", \"v\", \"c\", \"d\")\n",
        "print(tupla + tuplb)"
      ],
      "metadata": {
        "colab": {
          "base_uri": "https://localhost:8080/"
        },
        "id": "GhFQOBE7c6XX",
        "outputId": "5619d993-6e52-4cd9-f104-7713c352c33b"
      },
      "execution_count": null,
      "outputs": [
        {
          "output_type": "stream",
          "name": "stdout",
          "text": [
            "(1, 2, 3, 4, 5, 'a', 'v', 'c', 'd')\n"
          ]
        }
      ]
    },
    {
      "cell_type": "code",
      "source": [
        "##*\n",
        "tupla = (1, 2, 3, 4, 5)\n",
        "print(tupla * 3)"
      ],
      "metadata": {
        "colab": {
          "base_uri": "https://localhost:8080/"
        },
        "id": "UNyiu28CxWBr",
        "outputId": "b570d7f6-a269-4468-a30f-bdbbe3212cf1"
      },
      "execution_count": null,
      "outputs": [
        {
          "output_type": "stream",
          "name": "stdout",
          "text": [
            "(1, 2, 3, 4, 5, 1, 2, 3, 4, 5, 1, 2, 3, 4, 5)\n"
          ]
        }
      ]
    },
    {
      "cell_type": "code",
      "source": [
        "##len()\n",
        "tupla = (1, 2, 3, 4, 5)\n",
        "tuplb = (\"a\", \"v\", \"c\", \"d\")\n",
        "print(len(tupla))\n",
        "print(len(tuplb))"
      ],
      "metadata": {
        "colab": {
          "base_uri": "https://localhost:8080/"
        },
        "id": "TjSlgYzpxV0b",
        "outputId": "a0709e02-008b-4566-fc69-c55f87684953"
      },
      "execution_count": null,
      "outputs": [
        {
          "output_type": "stream",
          "name": "stdout",
          "text": [
            "5\n",
            "4\n"
          ]
        }
      ]
    },
    {
      "cell_type": "code",
      "source": [
        "##max()\n",
        "tupla = (1, 2, 3, 4, 5)\n",
        "tuplb = (\"a\", \"v\", \"c\", \"d\")\n",
        "print(max(tupla))\n",
        "print(max(tuplb))\n",
        "#print(max(tupla+tuplb))#숫자와 문자 사이에는 비교기능이 작동하지 않음."
      ],
      "metadata": {
        "colab": {
          "base_uri": "https://localhost:8080/"
        },
        "id": "M34fmSC10enp",
        "outputId": "90609861-4440-4e39-d71a-46c5796b68de"
      },
      "execution_count": 16,
      "outputs": [
        {
          "output_type": "stream",
          "name": "stdout",
          "text": [
            "5\n",
            "v\n"
          ]
        }
      ]
    },
    {
      "cell_type": "code",
      "source": [
        "##min()\n",
        "tupla = (1, 2, 3, 4, 5)\n",
        "tuplb = (\"a\", \"v\", \"c\", \"d\")\n",
        "print(min(tupla))\n",
        "print(min(tuplb))"
      ],
      "metadata": {
        "id": "V26stAvS0eeJ",
        "colab": {
          "base_uri": "https://localhost:8080/",
          "height": 203
        },
        "outputId": "8d9466bf-e839-42fe-f280-aee4ee36831c"
      },
      "execution_count": 18,
      "outputs": [
        {
          "output_type": "stream",
          "name": "stdout",
          "text": [
            "15\n"
          ]
        },
        {
          "output_type": "error",
          "ename": "TypeError",
          "evalue": "unsupported operand type(s) for +: 'int' and 'str'",
          "traceback": [
            "\u001b[0;31m---------------------------------------------------------------------------\u001b[0m",
            "\u001b[0;31mTypeError\u001b[0m                                 Traceback (most recent call last)",
            "\u001b[0;32m<ipython-input-18-c7ec98ecbc13>\u001b[0m in \u001b[0;36m<cell line: 0>\u001b[0;34m()\u001b[0m\n\u001b[1;32m      3\u001b[0m \u001b[0mtuplb\u001b[0m \u001b[0;34m=\u001b[0m \u001b[0;34m(\u001b[0m\u001b[0;34m\"a\"\u001b[0m\u001b[0;34m,\u001b[0m \u001b[0;34m\"v\"\u001b[0m\u001b[0;34m,\u001b[0m \u001b[0;34m\"c\"\u001b[0m\u001b[0;34m,\u001b[0m \u001b[0;34m\"d\"\u001b[0m\u001b[0;34m)\u001b[0m\u001b[0;34m\u001b[0m\u001b[0;34m\u001b[0m\u001b[0m\n\u001b[1;32m      4\u001b[0m \u001b[0mprint\u001b[0m\u001b[0;34m(\u001b[0m\u001b[0msum\u001b[0m\u001b[0;34m(\u001b[0m\u001b[0mtupla\u001b[0m\u001b[0;34m)\u001b[0m\u001b[0;34m)\u001b[0m\u001b[0;34m\u001b[0m\u001b[0;34m\u001b[0m\u001b[0m\n\u001b[0;32m----> 5\u001b[0;31m \u001b[0mprint\u001b[0m\u001b[0;34m(\u001b[0m\u001b[0msum\u001b[0m\u001b[0;34m(\u001b[0m\u001b[0mtuplb\u001b[0m\u001b[0;34m)\u001b[0m\u001b[0;34m)\u001b[0m\u001b[0;34m\u001b[0m\u001b[0;34m\u001b[0m\u001b[0m\n\u001b[0m",
            "\u001b[0;31mTypeError\u001b[0m: unsupported operand type(s) for +: 'int' and 'str'"
          ]
        }
      ]
    },
    {
      "cell_type": "code",
      "source": [
        "##sum()\n",
        "tupla = (1, 2, 3, 4, 5)\n",
        "tuplb = (\"a\", \"v\", \"c\", \"d\")\n",
        "print(sum(tupla))\n",
        "#print(sum(tuplb)) - 문자열은 합이 안된다."
      ],
      "metadata": {
        "id": "zp9vcmFY0eUT"
      },
      "execution_count": null,
      "outputs": []
    },
    {
      "cell_type": "code",
      "source": [
        "##변수명.count() 괄호내의 요소를 튜플에서 찾아 갯수를 반환한다.\n",
        "tuplc = (1, 2, 3, 4, 5, 5, 5, 5)\n",
        "tupld = (\"a\", \"v\", \"c\", \"d\", \"a\", \"a\")\n",
        "print(tuplc.count(5))\n",
        "print(tupld.count(\"a\"))"
      ],
      "metadata": {
        "id": "aY9mJjF40eMc",
        "colab": {
          "base_uri": "https://localhost:8080/"
        },
        "outputId": "2c65e72b-c257-471b-a23f-e4319a1fedca"
      },
      "execution_count": 22,
      "outputs": [
        {
          "output_type": "stream",
          "name": "stdout",
          "text": [
            "4\n",
            "3\n"
          ]
        }
      ]
    },
    {
      "cell_type": "code",
      "source": [
        "##변수명.index()\n",
        "tupla = (1, 2, 3, 4, 5)\n",
        "tuplb = (\"a\", \"v\", \"c\", \"d\")\n",
        "print(tupla.index(5))\n",
        "print(tuplb.index(\"c\"))"
      ],
      "metadata": {
        "id": "JKCDcsok0eDb",
        "colab": {
          "base_uri": "https://localhost:8080/"
        },
        "outputId": "9e54915d-2795-42e1-fd11-c3003e9c2f72"
      },
      "execution_count": 26,
      "outputs": [
        {
          "output_type": "stream",
          "name": "stdout",
          "text": [
            "4\n",
            "2\n"
          ]
        }
      ]
    },
    {
      "cell_type": "code",
      "source": [
        "##sorted()\n",
        "tuble = (2, 3, 1, 5, 4)\n",
        "tuplb = (\"a\", \"v\", \"c\", \"d\")\n",
        "print(sorted(tupla))\n",
        "print(sorted(tuplb))"
      ],
      "metadata": {
        "id": "YECkBfOC0d2T",
        "colab": {
          "base_uri": "https://localhost:8080/"
        },
        "outputId": "bfd97c34-ee7d-45a7-bccd-3b095960e068"
      },
      "execution_count": 24,
      "outputs": [
        {
          "output_type": "stream",
          "name": "stdout",
          "text": [
            "[1, 2, 3, 4, 5]\n",
            "['a', 'c', 'd', 'v']\n"
          ]
        }
      ]
    },
    {
      "cell_type": "code",
      "source": [
        "#tuple(revered())\n",
        "tupla = (1, 2, 3, 4, 5)\n",
        "tuplb = (\"a\", \"v\", \"c\", \"d\")\n",
        "print(reversed(tupla)) #데이터 위치 주소를 전달해줌.\n",
        "print(tuple(reversed(tuplb)))"
      ],
      "metadata": {
        "colab": {
          "base_uri": "https://localhost:8080/"
        },
        "id": "-kqxjHSvBTnO",
        "outputId": "d1658e53-5bb9-4ccd-e0b5-2101a8c06cf5"
      },
      "execution_count": 1,
      "outputs": [
        {
          "output_type": "stream",
          "name": "stdout",
          "text": [
            "<reversed object at 0x7c0070202650>\n",
            "136341324395952\n",
            "('d', 'c', 'v', 'a')\n"
          ]
        }
      ]
    }
  ]
}
