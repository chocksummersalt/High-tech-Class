{
  "nbformat": 4,
  "nbformat_minor": 0,
  "metadata": {
    "colab": {
      "provenance": [],
      "authorship_tag": "ABX9TyOv/D9a+Nbx70UEfTw9NcEG",
      "include_colab_link": true
    },
    "kernelspec": {
      "name": "python3",
      "display_name": "Python 3"
    },
    "language_info": {
      "name": "python"
    }
  },
  "cells": [
    {
      "cell_type": "markdown",
      "metadata": {
        "id": "view-in-github",
        "colab_type": "text"
      },
      "source": [
        "<a href=\"https://colab.research.google.com/github/chocksummersalt/python/blob/main/%EC%9C%84%ED%82%A4%EB%8F%85%EC%8A%A4_%EB%AC%B8%EC%A0%9C_%ED%92%80%EC%9D%B4001_010.ipynb\" target=\"_parent\"><img src=\"https://colab.research.google.com/assets/colab-badge.svg\" alt=\"Open In Colab\"/></a>"
      ]
    },
    {
      "cell_type": "code",
      "execution_count": null,
      "metadata": {
        "colab": {
          "base_uri": "https://localhost:8080/"
        },
        "id": "dfMltXPLJdi1",
        "outputId": "5bd10e6f-1fd6-400f-f343-206153ebbbbc"
      },
      "outputs": [
        {
          "output_type": "stream",
          "name": "stdout",
          "text": [
            "hello wolrd\n"
          ]
        }
      ],
      "source": [
        "#1번. 화면에 hello world 문자열을 출력하기\n",
        "#답\n",
        "print(\"hello wolrd\")\n",
        "#배운점 -"
      ]
    },
    {
      "cell_type": "code",
      "source": [
        "#2번. 화면에 Mary's cosmetics 문자열을 출력하기\n",
        "#답\n",
        "print(\"mary\\'s cosmetics\")\n",
        "#배운점 역슬래쉬를 넣고 기능이 있는 기호를 쓰면 기능으로 사용하지 않고 출력해준다."
      ],
      "metadata": {
        "colab": {
          "base_uri": "https://localhost:8080/"
        },
        "id": "3mbIYzEFKMTH",
        "outputId": "28ab4a78-d4f0-4deb-96ad-88f98fb1bb75"
      },
      "execution_count": null,
      "outputs": [
        {
          "output_type": "stream",
          "name": "stdout",
          "text": [
            "mary's cosmetics\n"
          ]
        }
      ]
    },
    {
      "cell_type": "code",
      "source": [
        "#3번. 화면에 신씨가 소리질렀다. \"도둑이야\".문자열을 출력하기\n",
        "#답\n",
        "print('신씨가 소리질렀다. \\\"도둑이야\\\".')\n",
        "print(\"\"\"'신씨'가 소리질렀다. \"도둑이야\".\"\"\")\n",
        "#배운점 따옴표는 삼중따옴표 안에서는 작은/큰 따옴표 혼용이 가능하고 하나만 써야하는 상황에서는 작/큰 둘중 하나를 안에 가두면 됨."
      ],
      "metadata": {
        "colab": {
          "base_uri": "https://localhost:8080/"
        },
        "id": "rBH_IWsELSLb",
        "outputId": "edbdc400-8c56-4ee5-9a6c-193f49f8e406"
      },
      "execution_count": null,
      "outputs": [
        {
          "output_type": "stream",
          "name": "stdout",
          "text": [
            "신씨가 소리질렀다. \"도둑이야\".\n",
            "'신씨'가 소리질렀다. \"도둑이야\".\n"
          ]
        }
      ]
    },
    {
      "cell_type": "code",
      "source": [
        "#4번. 화면에 C:\\Windows 문자열을 출력하기\n",
        "#답\n",
        "print(\"\"\"C:\\Windows\"\"\")\n",
        "#배운점 삼중따옴표는 모든걸 출력하게 해준다."
      ],
      "metadata": {
        "colab": {
          "base_uri": "https://localhost:8080/"
        },
        "id": "mvKou28xLm5V",
        "outputId": "d508f1aa-2b05-4b65-8594-b7cada6ec13e"
      },
      "execution_count": null,
      "outputs": [
        {
          "output_type": "stream",
          "name": "stdout",
          "text": [
            "C:\\Windows\n"
          ]
        }
      ]
    },
    {
      "cell_type": "code",
      "source": [
        "#5번. \\t와 \\n의 역할을 알아보자\n",
        "#답\n",
        "print(\"안녕하세요. \\n만나서 \\t\\t반갑습니다.\")\n",
        "#배운점 - \\n = 엔터(줄바꿈) \\t = 탭(4칸 띄어쓰기)"
      ],
      "metadata": {
        "colab": {
          "base_uri": "https://localhost:8080/"
        },
        "id": "dBRH0HVCM_YJ",
        "outputId": "f6bb68ce-1a75-49c7-9fc5-07148faf543e"
      },
      "execution_count": null,
      "outputs": [
        {
          "output_type": "stream",
          "name": "stdout",
          "text": [
            "안녕하세요. \n",
            "만나서 \t\t반갑습니다.\n"
          ]
        }
      ]
    },
    {
      "cell_type": "code",
      "source": [
        "#6번. 함수에 두 개의 단어를 입력해보기\n",
        "#답\n",
        "print(\"오늘은\", \"일요일\")\n",
        "#배운점 - 컴마로 중간에 나누면 기본적으로 띄어쓰기 1칸을 해서 출력해준다."
      ],
      "metadata": {
        "colab": {
          "base_uri": "https://localhost:8080/"
        },
        "id": "j1XPVTKVN_-q",
        "outputId": "18f04959-cee2-4ef6-bec0-180f40f06e73"
      },
      "execution_count": null,
      "outputs": [
        {
          "output_type": "stream",
          "name": "stdout",
          "text": [
            "오늘은 일요일\n"
          ]
        }
      ]
    },
    {
      "cell_type": "code",
      "source": [
        "#7번. 화면에 naver;kakao;sk;samsung 문자열을 출력하기\n",
        "#답\n",
        "print(\"\"\"naver;kakao;sk;samsung\"\"\")\n",
        "#배운점 -"
      ],
      "metadata": {
        "colab": {
          "base_uri": "https://localhost:8080/"
        },
        "id": "2e5Jk6J6Oj6V",
        "outputId": "d6929c91-f0c4-4a9c-8d36-62d510c51e51"
      },
      "execution_count": null,
      "outputs": [
        {
          "output_type": "stream",
          "name": "stdout",
          "text": [
            "naver;kakao;sk;samsung\n"
          ]
        }
      ]
    },
    {
      "cell_type": "code",
      "source": [
        "#8번. 화면에 naver/kakao/sk/samsung 문자열을 출력하기\n",
        "#답\n",
        "print(\"naver/kakao/sk/samsung\")\n",
        "#배운점 -"
      ],
      "metadata": {
        "colab": {
          "base_uri": "https://localhost:8080/"
        },
        "id": "QoHRQDxZOuAV",
        "outputId": "eb8bb578-e6d0-439a-fda4-44f4af218580"
      },
      "execution_count": null,
      "outputs": [
        {
          "output_type": "stream",
          "name": "stdout",
          "text": [
            "naver/kakao/sk/samsung\n"
          ]
        }
      ]
    },
    {
      "cell_type": "code",
      "source": [
        "#9번. print(\"first\" );print(\"second\")를 줄바꿈 없이 출력하기\n",
        "#답\n",
        "print(\"first\", end=\"\");print(\"second\")\n",
        "#배운점 ;으로 연속 함수룰 살행시켜도 출력은 줄을 바꿔서 실행하게 되고,\n",
        "#프린트함수에서 콤마 end=\"\"를 하면 끝부분의 공백을 \"\"안의 것으로 대체"
      ],
      "metadata": {
        "colab": {
          "base_uri": "https://localhost:8080/"
        },
        "id": "AKw9hEaeO4jg",
        "outputId": "720eb7a7-6109-409a-e5b7-eafab8ca50c0"
      },
      "execution_count": null,
      "outputs": [
        {
          "output_type": "stream",
          "name": "stdout",
          "text": [
            "first\n",
            "second\n"
          ]
        }
      ]
    },
    {
      "cell_type": "code",
      "source": [
        "#10번. 화면에 5/3의 결과 출력문자열을 출력하기\n",
        "#답\n",
        "print(5/3)\n",
        "#배운점 출력은 실수도 정수도 출력해준다. 15번째 이후 자릿수에서는 반올림을 해준다."
      ],
      "metadata": {
        "colab": {
          "base_uri": "https://localhost:8080/"
        },
        "id": "Emnh5DWsQa-C",
        "outputId": "3586b9a6-5363-4a6b-c75b-dd0df4c76152"
      },
      "execution_count": null,
      "outputs": [
        {
          "output_type": "stream",
          "name": "stdout",
          "text": [
            "1.6666666666666667\n"
          ]
        }
      ]
    }
  ]
}